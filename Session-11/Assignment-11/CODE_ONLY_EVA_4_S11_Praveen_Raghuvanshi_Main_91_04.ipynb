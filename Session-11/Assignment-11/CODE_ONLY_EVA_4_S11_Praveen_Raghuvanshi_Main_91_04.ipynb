{
  "nbformat": 4,
  "nbformat_minor": 0,
  "metadata": {
    "colab": {
      "name": "Copy of EVA-4-S11-Praveen-Raghuvanshi-Main-91-04.ipynb",
      "provenance": [],
      "collapsed_sections": [],
      "toc_visible": true
    },
    "kernelspec": {
      "name": "python3",
      "display_name": "Python 3"
    },
    "accelerator": "GPU"
  },
  "cells": [
    {
      "cell_type": "markdown",
      "metadata": {
        "id": "QrQqN4zqMt5U",
        "colab_type": "text"
      },
      "source": [
        "## Steps Summary"
      ]
    },
    {
      "cell_type": "code",
      "metadata": {
        "id": "GcS9dBHZuJ0g",
        "colab_type": "code",
        "colab": {}
      },
      "source": [
        "# 1. Mount google drive\n",
        "# 2. Set the directory path of google drive\n",
        "# 3. Load and Import all modules and libraries\n",
        "# 4. Set Device\n",
        "# 5. Import all the functions\n",
        "# 6. Load transformations\n",
        "# 7. Load dataset\n",
        "# 8. Load Classes\n",
        "# 9. Display sample images\n",
        "# 10. Load Resnet18 Model\n",
        "# 11. Define Loss function and optimizer\n",
        "# 12. Run train and test\n",
        "# 13. Grad-CAM\n",
        "# 14. Misclassified images"
      ],
      "execution_count": 0,
      "outputs": []
    },
    {
      "cell_type": "markdown",
      "metadata": {
        "id": "KOdHHdPxuQFs",
        "colab_type": "text"
      },
      "source": [
        "### 1. Mount google drive"
      ]
    },
    {
      "cell_type": "code",
      "metadata": {
        "id": "YCII_8_auNbk",
        "colab_type": "code",
        "colab": {}
      },
      "source": [
        "# Load data from Google drive\n",
        "from google.colab import drive\n",
        "drive.mount('/content/drive')"
      ],
      "execution_count": 0,
      "outputs": []
    },
    {
      "cell_type": "markdown",
      "metadata": {
        "id": "iouz-VhCvRKa",
        "colab_type": "text"
      },
      "source": [
        "### 2. Set the directory path of google drive"
      ]
    },
    {
      "cell_type": "code",
      "metadata": {
        "id": "qYAhAXd7u8Is",
        "colab_type": "code",
        "colab": {}
      },
      "source": [
        "import sys\n",
        "\n",
        "sys.path.append('/content/drive/My Drive/eva-4/assignment-11')\n",
        "sys.path.append('/content/drive/My Drive/eva-4/assignment-11/models')\n",
        "sys.path.append('/content/drive/My Drive/eva-4/assignment-11/gradcam')\n",
        "sys.path.append('/content/drive/My Drive/eva-4/assignment-11/sampleimages')\n",
        "sys.path.append('/content/drive/My Drive/eva-4/assignment-11/misclassified')"
      ],
      "execution_count": 0,
      "outputs": []
    },
    {
      "cell_type": "code",
      "metadata": {
        "id": "EshyBNNlvXUB",
        "colab_type": "code",
        "colab": {}
      },
      "source": [
        "cd '/content/drive/My Drive/eva-4/assignment-11'"
      ],
      "execution_count": 0,
      "outputs": []
    },
    {
      "cell_type": "code",
      "metadata": {
        "id": "iCrlbbXOvjzh",
        "colab_type": "code",
        "colab": {}
      },
      "source": [
        "ls"
      ],
      "execution_count": 0,
      "outputs": []
    },
    {
      "cell_type": "markdown",
      "metadata": {
        "id": "6_gBUHNhwZF8",
        "colab_type": "text"
      },
      "source": [
        "### 3. Load and Import all modules and libraries"
      ]
    },
    {
      "cell_type": "code",
      "metadata": {
        "id": "oDHVCHXegLiE",
        "colab_type": "code",
        "colab": {}
      },
      "source": [
        "!pip install torchsummary"
      ],
      "execution_count": 0,
      "outputs": []
    },
    {
      "cell_type": "code",
      "metadata": {
        "id": "FHXx5OENAuWO",
        "colab_type": "code",
        "colab": {}
      },
      "source": [
        "!pip install -U git+https://github.com/albu/albumentations --no-cache-dir"
      ],
      "execution_count": 0,
      "outputs": []
    },
    {
      "cell_type": "code",
      "metadata": {
        "id": "Ax03TWvKAv7E",
        "colab_type": "code",
        "colab": {}
      },
      "source": [
        "!pip install torch-lr-finder -v --global-option=\"amp\""
      ],
      "execution_count": 0,
      "outputs": []
    },
    {
      "cell_type": "code",
      "metadata": {
        "id": "mJfJaQkMwdcM",
        "colab_type": "code",
        "colab": {}
      },
      "source": [
        "import numpy as np\n",
        "import matplotlib.pyplot as plt\n",
        "import torch\n",
        "import torch.nn as nn\n",
        "import torch.nn.functional as F\n",
        "import torchvision\n",
        "import torchvision.transforms as transforms\n",
        "\n",
        "from torchvision.utils import make_grid\n",
        "from torchsummary import summary"
      ],
      "execution_count": 0,
      "outputs": []
    },
    {
      "cell_type": "code",
      "metadata": {
        "id": "Y3nuHc_Hw2AN",
        "colab_type": "code",
        "colab": {}
      },
      "source": [
        "# Define hyper paramteres and constants\n",
        "EPOCHS=24\n",
        "trainaccuracies = []\n",
        "trainlosses = []\n",
        "testlosses = []\n",
        "testaccuracies = []\n",
        "lr_values = []"
      ],
      "execution_count": 0,
      "outputs": []
    },
    {
      "cell_type": "markdown",
      "metadata": {
        "id": "8UzFE61fvvzj",
        "colab_type": "text"
      },
      "source": [
        "### 4. Set Device"
      ]
    },
    {
      "cell_type": "code",
      "metadata": {
        "id": "RdESvDmFvlO1",
        "colab_type": "code",
        "colab": {}
      },
      "source": [
        "use_cuda = torch.cuda.is_available()\n",
        "device = torch.device(\"cuda\" if use_cuda else \"cpu\")\n",
        "print(device)"
      ],
      "execution_count": 0,
      "outputs": []
    },
    {
      "cell_type": "markdown",
      "metadata": {
        "id": "1gXN5mwvw_mO",
        "colab_type": "text"
      },
      "source": [
        "###  5. Import all the functions"
      ]
    },
    {
      "cell_type": "code",
      "metadata": {
        "id": "0yM0_rOMxCr7",
        "colab_type": "code",
        "colab": {}
      },
      "source": [
        "from model import Net, ResNet, resnet18\n",
        "from s11model import S11Model\n",
        "from S11_functions import myfunc, transformations, loadcifar10dataset, getclasses, display, train, test, imshow, loadimage, saveimage\n",
        "from S11_functions import getloss, getoptimizer, getscheduler\n",
        "from gradcam import GradCAM, GradCAMpp, applygradcam\n",
        "from gradcam_utils import Normalize, visualize_cam\n",
        "from learningrate import findandplotlearningrate, plotCyclicLR, performLRRangeTest, getSchdeduler, getlr\n",
        "from plotutils import plotimages, plotmisclassifiedimages, savemisclassifiedimages, plotmisclassifiedgradcamimages, plotmetrics "
      ],
      "execution_count": 0,
      "outputs": []
    },
    {
      "cell_type": "markdown",
      "metadata": {
        "id": "TgfbtDvV3Std",
        "colab_type": "text"
      },
      "source": [
        "###  6. Load Transformations"
      ]
    },
    {
      "cell_type": "code",
      "metadata": {
        "id": "MOJImFEc3YO2",
        "colab_type": "code",
        "colab": {}
      },
      "source": [
        "transform_train, transform_test = transformations()"
      ],
      "execution_count": 0,
      "outputs": []
    },
    {
      "cell_type": "markdown",
      "metadata": {
        "id": "uso5HfFp3iQ5",
        "colab_type": "text"
      },
      "source": [
        "###  7. Load Dataset"
      ]
    },
    {
      "cell_type": "code",
      "metadata": {
        "id": "CNK1p6sk3oZX",
        "colab_type": "code",
        "colab": {}
      },
      "source": [
        "trainset, trainloader, testset, testloader = loadcifar10dataset(transform_train, transform_test)\n",
        "print(trainloader)"
      ],
      "execution_count": 0,
      "outputs": []
    },
    {
      "cell_type": "markdown",
      "metadata": {
        "id": "RlrYDL2_xEiz",
        "colab_type": "text"
      },
      "source": [
        "###  8. Load Classes"
      ]
    },
    {
      "cell_type": "code",
      "metadata": {
        "id": "4LiQgSYO30gf",
        "colab_type": "code",
        "colab": {}
      },
      "source": [
        "classes = getclasses()\n",
        "print(classes)"
      ],
      "execution_count": 0,
      "outputs": []
    },
    {
      "cell_type": "markdown",
      "metadata": {
        "id": "YUYcV4I137Wf",
        "colab_type": "text"
      },
      "source": [
        "### 9. Display sample images"
      ]
    },
    {
      "cell_type": "markdown",
      "metadata": {
        "id": "XYyILrBIksde",
        "colab_type": "text"
      },
      "source": [
        "###### Sample Training Images"
      ]
    },
    {
      "cell_type": "code",
      "metadata": {
        "id": "oBXRNlu14E0g",
        "colab_type": "code",
        "colab": {}
      },
      "source": [
        "plotimages(device, classes, trainloader, 20)"
      ],
      "execution_count": 0,
      "outputs": []
    },
    {
      "cell_type": "markdown",
      "metadata": {
        "id": "PDYzxbVbk3EX",
        "colab_type": "text"
      },
      "source": [
        "###### Sample Test Images"
      ]
    },
    {
      "cell_type": "code",
      "metadata": {
        "id": "WV1dPoApk7fK",
        "colab_type": "code",
        "colab": {}
      },
      "source": [
        "plotimages(device, classes, testloader, 20)"
      ],
      "execution_count": 0,
      "outputs": []
    },
    {
      "cell_type": "markdown",
      "metadata": {
        "id": "CUzQmcOr4Ui_",
        "colab_type": "text"
      },
      "source": [
        "### 10. Load Custom Resnet Model\n"
      ]
    },
    {
      "cell_type": "code",
      "metadata": {
        "id": "auPmRERP4d1J",
        "colab_type": "code",
        "colab": {}
      },
      "source": [
        "print(\"Building Model\")\n",
        "net = S11Model()"
      ],
      "execution_count": 0,
      "outputs": []
    },
    {
      "cell_type": "code",
      "metadata": {
        "id": "iZ1XA3Vm6jDq",
        "colab_type": "code",
        "colab": {}
      },
      "source": [
        "# Display Model Summary\n",
        "model = net.to(device)\n",
        "summary(model, input_size=(3, 32, 32))"
      ],
      "execution_count": 0,
      "outputs": []
    },
    {
      "cell_type": "markdown",
      "metadata": {
        "id": "jddcsjNZ9mlq",
        "colab_type": "text"
      },
      "source": [
        "### 11. Define loss function and optimizer\n"
      ]
    },
    {
      "cell_type": "code",
      "metadata": {
        "id": "Vaq4-I3dGcLs",
        "colab_type": "code",
        "colab": {}
      },
      "source": [
        "criterion = getloss()"
      ],
      "execution_count": 0,
      "outputs": []
    },
    {
      "cell_type": "markdown",
      "metadata": {
        "id": "bymYhbBdptrf",
        "colab_type": "text"
      },
      "source": [
        "#### Find Learning Rate"
      ]
    },
    {
      "cell_type": "markdown",
      "metadata": {
        "id": "5vDyp1Hz7iJZ",
        "colab_type": "text"
      },
      "source": [
        "##### Plot CyclicLR "
      ]
    },
    {
      "cell_type": "code",
      "metadata": {
        "id": "hAAhrujo7noC",
        "colab_type": "code",
        "colab": {}
      },
      "source": [
        "plotCyclicLR(total_iterations=10000, min_lr=0.005, max_lr=0.05, step_size=1000)"
      ],
      "execution_count": 0,
      "outputs": []
    },
    {
      "cell_type": "code",
      "metadata": {
        "id": "9lqxXXWuFODh",
        "colab_type": "code",
        "colab": {}
      },
      "source": [
        "optimizer = getoptimizer(net, lr=1e-7, momentum=0.9, nesterov=True, weight_decay=0.05)"
      ],
      "execution_count": 0,
      "outputs": []
    },
    {
      "cell_type": "code",
      "metadata": {
        "id": "Cz9wreQrq2HJ",
        "colab_type": "code",
        "colab": {}
      },
      "source": [
        "max_lr = performLRRangeTest(model, optimizer, criterion, device, trainloader, end_lr=100, num_iter=100)"
      ],
      "execution_count": 0,
      "outputs": []
    },
    {
      "cell_type": "code",
      "metadata": {
        "id": "GP6mBlyEEvF4",
        "colab_type": "code",
        "colab": {}
      },
      "source": [
        "scheduler = getSchdeduler(optimizer, max_lr = 0.0125, epochs=EPOCHS, steps_per_epoch=1, pct_start=0.25)"
      ],
      "execution_count": 0,
      "outputs": []
    },
    {
      "cell_type": "markdown",
      "metadata": {
        "id": "GD_6sHrs-DWj",
        "colab_type": "text"
      },
      "source": [
        "### 12. Run Train and Test"
      ]
    },
    {
      "cell_type": "code",
      "metadata": {
        "id": "EHGIiWEF-RMP",
        "colab_type": "code",
        "colab": {}
      },
      "source": [
        "for epoch in range(1, EPOCHS + 1):\n",
        "    epochlr = getlr(optimizer)\n",
        "    print(\"\\nEPOCH:\", epoch,'LR:',epochlr)\n",
        "    lr_values.append(epochlr)\n",
        " \n",
        "    train(net, trainloader, device, optimizer, criterion, trainaccuracies, trainlosses, epoch)\n",
        "    scheduler.step()\n",
        "    testloss = test(net, testloader, device, criterion, testaccuracies, testlosses, epoch)"
      ],
      "execution_count": 0,
      "outputs": []
    },
    {
      "cell_type": "code",
      "metadata": {
        "id": "Rf5b_ajpJRu-",
        "colab_type": "code",
        "colab": {}
      },
      "source": [
        "plt.plot(lr_values)"
      ],
      "execution_count": 0,
      "outputs": []
    },
    {
      "cell_type": "markdown",
      "metadata": {
        "id": "V7IeFi2iRxy_",
        "colab_type": "text"
      },
      "source": [
        "#### Plot Metrics - Accuracy and Loss"
      ]
    },
    {
      "cell_type": "code",
      "metadata": {
        "id": "U87rtYgRR7wX",
        "colab_type": "code",
        "colab": {}
      },
      "source": [
        "plotmetrics(trainaccuracies, testaccuracies, trainlosses, testlosses, savefilename=\"metrics\")"
      ],
      "execution_count": 0,
      "outputs": []
    },
    {
      "cell_type": "markdown",
      "metadata": {
        "id": "nTgwOgvaq1n_",
        "colab_type": "text"
      },
      "source": [
        "### 14. Misclassified images"
      ]
    },
    {
      "cell_type": "markdown",
      "metadata": {
        "id": "EyY9wv7WOnRp",
        "colab_type": "text"
      },
      "source": [
        "#### Get Misclassified Images"
      ]
    },
    {
      "cell_type": "code",
      "metadata": {
        "id": "qylKg0Cvq-L9",
        "colab_type": "code",
        "colab": {}
      },
      "source": [
        "misclassifieddirectory = '/content/drive/My Drive/eva-4/assignment-11/misclassified'\n",
        "names, titles = savemisclassifiedimages(model, device, classes, testloader, misclassifieddirectory, 25)"
      ],
      "execution_count": 0,
      "outputs": []
    },
    {
      "cell_type": "markdown",
      "metadata": {
        "id": "mmvSUlfTa1j9",
        "colab_type": "text"
      },
      "source": [
        "### 15. Analysis\n",
        "- No of Epochs : 24\n",
        "- Batch size : 512\n",
        "- Best Test  Acc: 91.04%\n",
        "- Best Train Acc: 98.03%\n",
        "- Custom Model - S11Model\n",
        "- Cutout : Yes\n",
        "- Albumentations: Yes\n",
        "- Hyperparameters\n",
        "  - Optimizer: SGD\n",
        "  - Learning rate: 0.0125\n",
        "  - Momentum: 0.9"
      ]
    }
  ]
}