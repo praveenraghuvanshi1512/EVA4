{
  "nbformat": 4,
  "nbformat_minor": 0,
  "metadata": {
    "colab": {
      "name": "EVA-4-S12-A-Praveen-Raghuvanshi-Main-52-27.ipynb",
      "provenance": [],
      "collapsed_sections": [
        "YUYcV4I137Wf"
      ],
      "toc_visible": true,
      "include_colab_link": true
    },
    "kernelspec": {
      "name": "python3",
      "display_name": "Python 3"
    },
    "accelerator": "GPU",
    "widgets": {
      "application/vnd.jupyter.widget-state+json": {
        "9847891a1cd74c689e0a99682b3b8347": {
          "model_module": "@jupyter-widgets/controls",
          "model_name": "HBoxModel",
          "state": {
            "_view_name": "HBoxView",
            "_dom_classes": [],
            "_model_name": "HBoxModel",
            "_view_module": "@jupyter-widgets/controls",
            "_model_module_version": "1.5.0",
            "_view_count": null,
            "_view_module_version": "1.5.0",
            "box_style": "",
            "layout": "IPY_MODEL_801452cc0f6c4e16a5378f367935bda8",
            "_model_module": "@jupyter-widgets/controls",
            "children": [
              "IPY_MODEL_18c1b4250e4842c2b8930ee354337410",
              "IPY_MODEL_c132b31287aa4341b569ccc1f06b42d5"
            ]
          }
        },
        "801452cc0f6c4e16a5378f367935bda8": {
          "model_module": "@jupyter-widgets/base",
          "model_name": "LayoutModel",
          "state": {
            "_view_name": "LayoutView",
            "grid_template_rows": null,
            "right": null,
            "justify_content": null,
            "_view_module": "@jupyter-widgets/base",
            "overflow": null,
            "_model_module_version": "1.2.0",
            "_view_count": null,
            "flex_flow": null,
            "width": null,
            "min_width": null,
            "border": null,
            "align_items": null,
            "bottom": null,
            "_model_module": "@jupyter-widgets/base",
            "top": null,
            "grid_column": null,
            "overflow_y": null,
            "overflow_x": null,
            "grid_auto_flow": null,
            "grid_area": null,
            "grid_template_columns": null,
            "flex": null,
            "_model_name": "LayoutModel",
            "justify_items": null,
            "grid_row": null,
            "max_height": null,
            "align_content": null,
            "visibility": null,
            "align_self": null,
            "height": null,
            "min_height": null,
            "padding": null,
            "grid_auto_rows": null,
            "grid_gap": null,
            "max_width": null,
            "order": null,
            "_view_module_version": "1.2.0",
            "grid_template_areas": null,
            "object_position": null,
            "object_fit": null,
            "grid_auto_columns": null,
            "margin": null,
            "display": null,
            "left": null
          }
        },
        "18c1b4250e4842c2b8930ee354337410": {
          "model_module": "@jupyter-widgets/controls",
          "model_name": "IntProgressModel",
          "state": {
            "_view_name": "ProgressView",
            "style": "IPY_MODEL_116ca4621ef84e18bb8c050b99fa5e1b",
            "_dom_classes": [],
            "description": " 92%",
            "_model_name": "IntProgressModel",
            "bar_style": "danger",
            "max": 100,
            "_view_module": "@jupyter-widgets/controls",
            "_model_module_version": "1.5.0",
            "value": 92,
            "_view_count": null,
            "_view_module_version": "1.5.0",
            "orientation": "horizontal",
            "min": 0,
            "description_tooltip": null,
            "_model_module": "@jupyter-widgets/controls",
            "layout": "IPY_MODEL_f1d5f7db7a4040b6b7e839bde26c723f"
          }
        },
        "c132b31287aa4341b569ccc1f06b42d5": {
          "model_module": "@jupyter-widgets/controls",
          "model_name": "HTMLModel",
          "state": {
            "_view_name": "HTMLView",
            "style": "IPY_MODEL_2985c63f841a40268ef756d3b2d64cad",
            "_dom_classes": [],
            "description": "",
            "_model_name": "HTMLModel",
            "placeholder": "​",
            "_view_module": "@jupyter-widgets/controls",
            "_model_module_version": "1.5.0",
            "value": " 92/100 [01:09&lt;00:05,  1.43it/s]",
            "_view_count": null,
            "_view_module_version": "1.5.0",
            "description_tooltip": null,
            "_model_module": "@jupyter-widgets/controls",
            "layout": "IPY_MODEL_df086203896f471db35476c7bdbe1dc8"
          }
        },
        "116ca4621ef84e18bb8c050b99fa5e1b": {
          "model_module": "@jupyter-widgets/controls",
          "model_name": "ProgressStyleModel",
          "state": {
            "_view_name": "StyleView",
            "_model_name": "ProgressStyleModel",
            "description_width": "initial",
            "_view_module": "@jupyter-widgets/base",
            "_model_module_version": "1.5.0",
            "_view_count": null,
            "_view_module_version": "1.2.0",
            "bar_color": null,
            "_model_module": "@jupyter-widgets/controls"
          }
        },
        "f1d5f7db7a4040b6b7e839bde26c723f": {
          "model_module": "@jupyter-widgets/base",
          "model_name": "LayoutModel",
          "state": {
            "_view_name": "LayoutView",
            "grid_template_rows": null,
            "right": null,
            "justify_content": null,
            "_view_module": "@jupyter-widgets/base",
            "overflow": null,
            "_model_module_version": "1.2.0",
            "_view_count": null,
            "flex_flow": null,
            "width": null,
            "min_width": null,
            "border": null,
            "align_items": null,
            "bottom": null,
            "_model_module": "@jupyter-widgets/base",
            "top": null,
            "grid_column": null,
            "overflow_y": null,
            "overflow_x": null,
            "grid_auto_flow": null,
            "grid_area": null,
            "grid_template_columns": null,
            "flex": null,
            "_model_name": "LayoutModel",
            "justify_items": null,
            "grid_row": null,
            "max_height": null,
            "align_content": null,
            "visibility": null,
            "align_self": null,
            "height": null,
            "min_height": null,
            "padding": null,
            "grid_auto_rows": null,
            "grid_gap": null,
            "max_width": null,
            "order": null,
            "_view_module_version": "1.2.0",
            "grid_template_areas": null,
            "object_position": null,
            "object_fit": null,
            "grid_auto_columns": null,
            "margin": null,
            "display": null,
            "left": null
          }
        },
        "2985c63f841a40268ef756d3b2d64cad": {
          "model_module": "@jupyter-widgets/controls",
          "model_name": "DescriptionStyleModel",
          "state": {
            "_view_name": "StyleView",
            "_model_name": "DescriptionStyleModel",
            "description_width": "",
            "_view_module": "@jupyter-widgets/base",
            "_model_module_version": "1.5.0",
            "_view_count": null,
            "_view_module_version": "1.2.0",
            "_model_module": "@jupyter-widgets/controls"
          }
        },
        "df086203896f471db35476c7bdbe1dc8": {
          "model_module": "@jupyter-widgets/base",
          "model_name": "LayoutModel",
          "state": {
            "_view_name": "LayoutView",
            "grid_template_rows": null,
            "right": null,
            "justify_content": null,
            "_view_module": "@jupyter-widgets/base",
            "overflow": null,
            "_model_module_version": "1.2.0",
            "_view_count": null,
            "flex_flow": null,
            "width": null,
            "min_width": null,
            "border": null,
            "align_items": null,
            "bottom": null,
            "_model_module": "@jupyter-widgets/base",
            "top": null,
            "grid_column": null,
            "overflow_y": null,
            "overflow_x": null,
            "grid_auto_flow": null,
            "grid_area": null,
            "grid_template_columns": null,
            "flex": null,
            "_model_name": "LayoutModel",
            "justify_items": null,
            "grid_row": null,
            "max_height": null,
            "align_content": null,
            "visibility": null,
            "align_self": null,
            "height": null,
            "min_height": null,
            "padding": null,
            "grid_auto_rows": null,
            "grid_gap": null,
            "max_width": null,
            "order": null,
            "_view_module_version": "1.2.0",
            "grid_template_areas": null,
            "object_position": null,
            "object_fit": null,
            "grid_auto_columns": null,
            "margin": null,
            "display": null,
            "left": null
          }
        }
      }
    }
  },
  "cells": [
    {
      "cell_type": "markdown",
      "metadata": {
        "id": "view-in-github",
        "colab_type": "text"
      },
      "source": [
        "<a href=\"https://colab.research.google.com/github/praveenraghuvanshi1512/EVA4/blob/Session-12/Session-12/Assignment-12/Assignment-12-A/EVA_4_S12_A_Praveen_Raghuvanshi_Main_52_27.ipynb\" target=\"_parent\"><img src=\"https://colab.research.google.com/assets/colab-badge.svg\" alt=\"Open In Colab\"/></a>"
      ]
    },
    {
      "cell_type": "markdown",
      "metadata": {
        "id": "QrQqN4zqMt5U",
        "colab_type": "text"
      },
      "source": [
        "## Steps Summary"
      ]
    },
    {
      "cell_type": "code",
      "metadata": {
        "id": "GcS9dBHZuJ0g",
        "colab_type": "code",
        "colab": {}
      },
      "source": [
        "# 1. Mount google drive\n",
        "# 2. Set the directory path of google drive\n",
        "# 3. Load and Import all modules and libraries\n",
        "# 4. Set Device\n",
        "# 5. Import all the functions\n",
        "# 6. Load transformations\n",
        "# 7. Load dataset\n",
        "# 8. Load Classes\n",
        "# 9. Display sample images\n",
        "# 10. Load Resnet18 Model\n",
        "# 11. Define Loss function and optimizer\n",
        "# 12. Run train and test\n",
        "# 13. Grad-CAM\n",
        "# 14. Misclassified images"
      ],
      "execution_count": 0,
      "outputs": []
    },
    {
      "cell_type": "markdown",
      "metadata": {
        "id": "KOdHHdPxuQFs",
        "colab_type": "text"
      },
      "source": [
        "### 1. Mount google drive"
      ]
    },
    {
      "cell_type": "code",
      "metadata": {
        "id": "YCII_8_auNbk",
        "colab_type": "code",
        "outputId": "be26f295-57f4-4952-c49c-9fdd78001453",
        "colab": {
          "base_uri": "https://localhost:8080/",
          "height": 34
        }
      },
      "source": [
        "# Load data from Google drive\n",
        "from google.colab import drive\n",
        "drive.mount('/content/drive')"
      ],
      "execution_count": 0,
      "outputs": [
        {
          "output_type": "stream",
          "text": [
            "Drive already mounted at /content/drive; to attempt to forcibly remount, call drive.mount(\"/content/drive\", force_remount=True).\n"
          ],
          "name": "stdout"
        }
      ]
    },
    {
      "cell_type": "markdown",
      "metadata": {
        "id": "iouz-VhCvRKa",
        "colab_type": "text"
      },
      "source": [
        "### 2. Set the directory path of google drive"
      ]
    },
    {
      "cell_type": "code",
      "metadata": {
        "id": "qYAhAXd7u8Is",
        "colab_type": "code",
        "colab": {}
      },
      "source": [
        "import sys\n",
        "\n",
        "%load_ext autoreload\n",
        "%autoreload 2\n",
        "\n",
        "BASE_COLAB_PATH = '/content/drive/My Drive/eva-4/assignment-12/assignment-12-A/' \n",
        "\n",
        "sys.path.append(BASE_COLAB_PATH)\n",
        "sys.path.append(BASE_COLAB_PATH + 'models')\n",
        "sys.path.append(BASE_COLAB_PATH + 'gradcam')\n",
        "sys.path.append(BASE_COLAB_PATH + 'sampleimages')\n",
        "sys.path.append(BASE_COLAB_PATH + 'misclassified')"
      ],
      "execution_count": 0,
      "outputs": []
    },
    {
      "cell_type": "code",
      "metadata": {
        "id": "EshyBNNlvXUB",
        "colab_type": "code",
        "outputId": "092ad9d6-5191-4a33-f4a1-5749c10af4de",
        "colab": {
          "base_uri": "https://localhost:8080/",
          "height": 34
        }
      },
      "source": [
        "cd '/content/drive/My Drive/eva-4/assignment-12/assignment-12-A'"
      ],
      "execution_count": 0,
      "outputs": [
        {
          "output_type": "stream",
          "text": [
            "/content/drive/My Drive/eva-4/assignment-12/assignment-12-A\n"
          ],
          "name": "stdout"
        }
      ]
    },
    {
      "cell_type": "code",
      "metadata": {
        "id": "iCrlbbXOvjzh",
        "colab_type": "code",
        "outputId": "64975ccb-f95b-48ac-b019-b68bc02e0149",
        "colab": {
          "base_uri": "https://localhost:8080/",
          "height": 168
        }
      },
      "source": [
        "ls"
      ],
      "execution_count": 0,
      "outputs": [
        {
          "output_type": "stream",
          "text": [
            "augmentation.py                                           misclassified.png\n",
            "CODE_ONLY_EVA_4_S11_Praveen_Raghuvanshi_Main_91_04.ipynb  \u001b[0m\u001b[01;34mmodels\u001b[0m/\n",
            "cyclic-lr-plot.JPG                                        \u001b[01;34moutputs\u001b[0m/\n",
            "\u001b[01;34mdata\u001b[0m/                                                     plotutils.py\n",
            "EVA_4_S12_Praveen_Raghuvanshi_Main.ipynb                  \u001b[01;34m__pycache__\u001b[0m/\n",
            "\u001b[01;34mgradcam\u001b[0m/                                                  S12_functions.py\n",
            "\u001b[01;34mIMagenet\u001b[0m/                                                 \u001b[01;34msampleimages\u001b[0m/\n",
            "learningrate.py                                           tiny-imagenet-200.zip\n",
            "metrics.png                                               utils.py\n"
          ],
          "name": "stdout"
        }
      ]
    },
    {
      "cell_type": "markdown",
      "metadata": {
        "id": "6_gBUHNhwZF8",
        "colab_type": "text"
      },
      "source": [
        "### 3. Load and Import all modules and libraries"
      ]
    },
    {
      "cell_type": "code",
      "metadata": {
        "id": "oDHVCHXegLiE",
        "colab_type": "code",
        "outputId": "a70a1631-2df5-488a-d919-18e893836582",
        "colab": {
          "base_uri": "https://localhost:8080/",
          "height": 34
        }
      },
      "source": [
        "!pip install torchsummary"
      ],
      "execution_count": 0,
      "outputs": [
        {
          "output_type": "stream",
          "text": [
            "Requirement already satisfied: torchsummary in /usr/local/lib/python3.6/dist-packages (1.5.1)\n"
          ],
          "name": "stdout"
        }
      ]
    },
    {
      "cell_type": "code",
      "metadata": {
        "id": "FHXx5OENAuWO",
        "colab_type": "code",
        "outputId": "632eab1c-8b92-439f-e094-ced058e5a363",
        "colab": {
          "base_uri": "https://localhost:8080/",
          "height": 541
        }
      },
      "source": [
        "!pip install -U git+https://github.com/albu/albumentations --no-cache-dir"
      ],
      "execution_count": 0,
      "outputs": [
        {
          "output_type": "stream",
          "text": [
            "Collecting git+https://github.com/albu/albumentations\n",
            "  Cloning https://github.com/albu/albumentations to /tmp/pip-req-build-38z_a4kq\n",
            "  Running command git clone -q https://github.com/albu/albumentations /tmp/pip-req-build-38z_a4kq\n",
            "Requirement already satisfied, skipping upgrade: numpy>=1.11.1 in /usr/local/lib/python3.6/dist-packages (from albumentations==0.4.5) (1.18.2)\n",
            "Requirement already satisfied, skipping upgrade: scipy in /usr/local/lib/python3.6/dist-packages (from albumentations==0.4.5) (1.4.1)\n",
            "Requirement already satisfied, skipping upgrade: imgaug<0.2.7,>=0.2.5 in /usr/local/lib/python3.6/dist-packages (from albumentations==0.4.5) (0.2.6)\n",
            "Requirement already satisfied, skipping upgrade: PyYAML in /usr/local/lib/python3.6/dist-packages (from albumentations==0.4.5) (3.13)\n",
            "Requirement already satisfied, skipping upgrade: opencv-python>=4.1.1 in /usr/local/lib/python3.6/dist-packages (from albumentations==0.4.5) (4.1.2.30)\n",
            "Requirement already satisfied, skipping upgrade: six in /usr/local/lib/python3.6/dist-packages (from imgaug<0.2.7,>=0.2.5->albumentations==0.4.5) (1.12.0)\n",
            "Requirement already satisfied, skipping upgrade: scikit-image>=0.11.0 in /usr/local/lib/python3.6/dist-packages (from imgaug<0.2.7,>=0.2.5->albumentations==0.4.5) (0.16.2)\n",
            "Requirement already satisfied, skipping upgrade: imageio>=2.3.0 in /usr/local/lib/python3.6/dist-packages (from scikit-image>=0.11.0->imgaug<0.2.7,>=0.2.5->albumentations==0.4.5) (2.4.1)\n",
            "Requirement already satisfied, skipping upgrade: matplotlib!=3.0.0,>=2.0.0 in /usr/local/lib/python3.6/dist-packages (from scikit-image>=0.11.0->imgaug<0.2.7,>=0.2.5->albumentations==0.4.5) (3.2.1)\n",
            "Requirement already satisfied, skipping upgrade: networkx>=2.0 in /usr/local/lib/python3.6/dist-packages (from scikit-image>=0.11.0->imgaug<0.2.7,>=0.2.5->albumentations==0.4.5) (2.4)\n",
            "Requirement already satisfied, skipping upgrade: pillow>=4.3.0 in /usr/local/lib/python3.6/dist-packages (from scikit-image>=0.11.0->imgaug<0.2.7,>=0.2.5->albumentations==0.4.5) (7.0.0)\n",
            "Requirement already satisfied, skipping upgrade: PyWavelets>=0.4.0 in /usr/local/lib/python3.6/dist-packages (from scikit-image>=0.11.0->imgaug<0.2.7,>=0.2.5->albumentations==0.4.5) (1.1.1)\n",
            "Requirement already satisfied, skipping upgrade: python-dateutil>=2.1 in /usr/local/lib/python3.6/dist-packages (from matplotlib!=3.0.0,>=2.0.0->scikit-image>=0.11.0->imgaug<0.2.7,>=0.2.5->albumentations==0.4.5) (2.8.1)\n",
            "Requirement already satisfied, skipping upgrade: kiwisolver>=1.0.1 in /usr/local/lib/python3.6/dist-packages (from matplotlib!=3.0.0,>=2.0.0->scikit-image>=0.11.0->imgaug<0.2.7,>=0.2.5->albumentations==0.4.5) (1.2.0)\n",
            "Requirement already satisfied, skipping upgrade: cycler>=0.10 in /usr/local/lib/python3.6/dist-packages (from matplotlib!=3.0.0,>=2.0.0->scikit-image>=0.11.0->imgaug<0.2.7,>=0.2.5->albumentations==0.4.5) (0.10.0)\n",
            "Requirement already satisfied, skipping upgrade: pyparsing!=2.0.4,!=2.1.2,!=2.1.6,>=2.0.1 in /usr/local/lib/python3.6/dist-packages (from matplotlib!=3.0.0,>=2.0.0->scikit-image>=0.11.0->imgaug<0.2.7,>=0.2.5->albumentations==0.4.5) (2.4.7)\n",
            "Requirement already satisfied, skipping upgrade: decorator>=4.3.0 in /usr/local/lib/python3.6/dist-packages (from networkx>=2.0->scikit-image>=0.11.0->imgaug<0.2.7,>=0.2.5->albumentations==0.4.5) (4.4.2)\n",
            "Building wheels for collected packages: albumentations\n",
            "  Building wheel for albumentations (setup.py) ... \u001b[?25l\u001b[?25hdone\n",
            "  Created wheel for albumentations: filename=albumentations-0.4.5-cp36-none-any.whl size=65099 sha256=ba5d4c7eba82702441f03084d64f2168cecf9c9bb62fa201ea2f0cb454ffa597\n",
            "  Stored in directory: /tmp/pip-ephem-wheel-cache-ymv03q_g/wheels/45/8b/e4/2837bbcf517d00732b8e394f8646f22b8723ac00993230188b\n",
            "Successfully built albumentations\n",
            "Installing collected packages: albumentations\n",
            "  Found existing installation: albumentations 0.4.5\n",
            "    Uninstalling albumentations-0.4.5:\n",
            "      Successfully uninstalled albumentations-0.4.5\n",
            "Successfully installed albumentations-0.4.5\n"
          ],
          "name": "stdout"
        }
      ]
    },
    {
      "cell_type": "code",
      "metadata": {
        "id": "Ax03TWvKAv7E",
        "colab_type": "code",
        "colab": {}
      },
      "source": [
        "!pip install torch-lr-finder -v --global-option=\"amp\""
      ],
      "execution_count": 0,
      "outputs": []
    },
    {
      "cell_type": "code",
      "metadata": {
        "id": "mJfJaQkMwdcM",
        "colab_type": "code",
        "colab": {}
      },
      "source": [
        "import os.path\n",
        "import numpy as np\n",
        "import matplotlib.pyplot as plt\n",
        "import torch\n",
        "import torch.nn as nn\n",
        "import torch.nn.functional as F\n",
        "import torchvision\n",
        "import torchvision.transforms as transforms\n",
        "\n",
        "from os import path\n",
        "from torchvision.utils import make_grid\n",
        "from torchsummary import summary"
      ],
      "execution_count": 0,
      "outputs": []
    },
    {
      "cell_type": "code",
      "metadata": {
        "id": "Y3nuHc_Hw2AN",
        "colab_type": "code",
        "colab": {}
      },
      "source": [
        "# Define hyper paramteres and constants\n",
        "EPOCHS=50\n",
        "BATCH_SIZE=512\n",
        "IMAGENET_ROOT_DIR = BASE_COLAB_PATH + 'IMagenet/tiny-imagenet-200/'\n",
        "IMAGENET_TRAIN_SET_DIR = \"train_set\"\n",
        "IMAGENET_TEST_SET_DIR = \"test_set\"\n",
        "IMAGENET_TRAIN_SET_DIR_PATH = IMAGENET_ROOT_DIR + IMAGENET_TRAIN_SET_DIR\n",
        "IMAGENET_TEST_SET_DIR_PATH = IMAGENET_ROOT_DIR + IMAGENET_TEST_SET_DIR\n",
        "\n",
        "trainaccuracies = []\n",
        "trainlosses = []\n",
        "testlosses = []\n",
        "testaccuracies = []\n",
        "lr_values = []"
      ],
      "execution_count": 0,
      "outputs": []
    },
    {
      "cell_type": "markdown",
      "metadata": {
        "id": "8UzFE61fvvzj",
        "colab_type": "text"
      },
      "source": [
        "### 4. Set Device"
      ]
    },
    {
      "cell_type": "code",
      "metadata": {
        "id": "RdESvDmFvlO1",
        "colab_type": "code",
        "outputId": "f0b60da7-1ea9-49c7-9cee-144880cefe3e",
        "colab": {
          "base_uri": "https://localhost:8080/",
          "height": 34
        }
      },
      "source": [
        "use_cuda = torch.cuda.is_available()\n",
        "device = torch.device(\"cuda\" if use_cuda else \"cpu\")\n",
        "print(device)"
      ],
      "execution_count": 0,
      "outputs": [
        {
          "output_type": "stream",
          "text": [
            "cuda\n"
          ],
          "name": "stdout"
        }
      ]
    },
    {
      "cell_type": "markdown",
      "metadata": {
        "id": "1gXN5mwvw_mO",
        "colab_type": "text"
      },
      "source": [
        "###  5. Import all the functions"
      ]
    },
    {
      "cell_type": "code",
      "metadata": {
        "id": "0yM0_rOMxCr7",
        "colab_type": "code",
        "colab": {}
      },
      "source": [
        "from model import Net, ResNet, resnet18\n",
        "from s11model import S11Model\n",
        "from S12_functions import myfunc, transformations, loadcifar10dataset, getclasses, display, train, test, imshow, loadimage, saveimage\n",
        "from S12_functions import loadimagenetdataset, splittinyimagedataset, getloss, getoptimizer, getscheduler\n",
        "from gradcam import GradCAM, GradCAMpp, applygradcam\n",
        "from gradcam_utils import Normalize, visualize_cam\n",
        "from learningrate import findandplotlearningrate, plotCyclicLR, performLRRangeTest, getSchdeduler, getlr\n",
        "from plotutils import plotimages, plotmisclassifiedimages, savemisclassifiedimages, plotmisclassifiedgradcamimages, plotmetrics "
      ],
      "execution_count": 0,
      "outputs": []
    },
    {
      "cell_type": "markdown",
      "metadata": {
        "id": "TgfbtDvV3Std",
        "colab_type": "text"
      },
      "source": [
        "###  6. Load Transformations"
      ]
    },
    {
      "cell_type": "code",
      "metadata": {
        "id": "MOJImFEc3YO2",
        "colab_type": "code",
        "colab": {}
      },
      "source": [
        "transform_train, transform_test = transformations()"
      ],
      "execution_count": 0,
      "outputs": []
    },
    {
      "cell_type": "markdown",
      "metadata": {
        "id": "uso5HfFp3iQ5",
        "colab_type": "text"
      },
      "source": [
        "###  7. Load Dataset"
      ]
    },
    {
      "cell_type": "code",
      "metadata": {
        "id": "zU5EMOF9ygws",
        "colab_type": "code",
        "outputId": "c87a9864-948d-4f1b-a1c9-57dc8e259050",
        "colab": {
          "base_uri": "https://localhost:8080/",
          "height": 34
        }
      },
      "source": [
        "if not path.exists(IMAGENET_TRAIN_SET_DIR_PATH):\n",
        "  ! git clone https://github.com/seshuad/IMagenet \n",
        "  ! ls 'IMagenet/tiny-imagenet-200/'\n",
        "  os.chdir(BASE_COLAB_PATH + 'IMagenet/')\n",
        "  splittinyimagedataset()\n",
        "\n",
        "print(path.exists(IMAGENET_TRAIN_SET_DIR_PATH))"
      ],
      "execution_count": 0,
      "outputs": [
        {
          "output_type": "stream",
          "text": [
            "True\n"
          ],
          "name": "stdout"
        }
      ]
    },
    {
      "cell_type": "code",
      "metadata": {
        "id": "JIPT0EjrOis1",
        "colab_type": "code",
        "outputId": "88b21fdc-ae00-4f02-a78f-280097ecabc2",
        "colab": {
          "base_uri": "https://localhost:8080/",
          "height": 50
        }
      },
      "source": [
        "!pwd\n",
        "os.chdir('/content/drive/My Drive/eva-4/assignment-12/assignment-12-A/IMagenet/tiny-imagenet-200/')\n",
        "!pwd"
      ],
      "execution_count": 0,
      "outputs": [
        {
          "output_type": "stream",
          "text": [
            "/content/drive/My Drive/eva-4/assignment-12/assignment-12-A\n",
            "/content/drive/My Drive/eva-4/assignment-12/assignment-12-A/IMagenet/tiny-imagenet-200\n"
          ],
          "name": "stdout"
        }
      ]
    },
    {
      "cell_type": "code",
      "metadata": {
        "id": "CNK1p6sk3oZX",
        "colab_type": "code",
        "outputId": "0c47dbdc-3fdf-4eb0-cdc6-9e69c7d26230",
        "colab": {
          "base_uri": "https://localhost:8080/",
          "height": 50
        }
      },
      "source": [
        "trainset, trainloader, testset, testloader = loadimagenetdataset(train_dir=IMAGENET_TRAIN_SET_DIR, test_dir=IMAGENET_TEST_SET_DIR, transform_train=transform_train, transform_test=transform_test, batch_size=BATCH_SIZE)\n",
        "print(trainloader)"
      ],
      "execution_count": 0,
      "outputs": [
        {
          "output_type": "stream",
          "text": [
            "Preparing data loaders ...\n",
            "<torch.utils.data.dataloader.DataLoader object at 0x7fc07c1449b0>\n"
          ],
          "name": "stdout"
        }
      ]
    },
    {
      "cell_type": "markdown",
      "metadata": {
        "id": "YUYcV4I137Wf",
        "colab_type": "text"
      },
      "source": [
        "### 9. Display sample images"
      ]
    },
    {
      "cell_type": "markdown",
      "metadata": {
        "id": "XYyILrBIksde",
        "colab_type": "text"
      },
      "source": [
        "###### Sample Training Images"
      ]
    },
    {
      "cell_type": "code",
      "metadata": {
        "id": "oBXRNlu14E0g",
        "colab_type": "code",
        "outputId": "32f10eed-4099-4c02-b6df-e5473203f5c5",
        "colab": {
          "base_uri": "https://localhost:8080/",
          "height": 296
        }
      },
      "source": [
        "plotimages(device, classes, trainloader, 5)"
      ],
      "execution_count": 0,
      "outputs": [
        {
          "output_type": "error",
          "ename": "IndexError",
          "evalue": "ignored",
          "traceback": [
            "\u001b[0;31m---------------------------------------------------------------------------\u001b[0m",
            "\u001b[0;31mIndexError\u001b[0m                                Traceback (most recent call last)",
            "\u001b[0;32m<ipython-input-29-80ad61406e9c>\u001b[0m in \u001b[0;36m<module>\u001b[0;34m()\u001b[0m\n\u001b[0;32m----> 1\u001b[0;31m \u001b[0mplotimages\u001b[0m\u001b[0;34m(\u001b[0m\u001b[0mdevice\u001b[0m\u001b[0;34m,\u001b[0m \u001b[0mclasses\u001b[0m\u001b[0;34m,\u001b[0m \u001b[0mtrainloader\u001b[0m\u001b[0;34m,\u001b[0m \u001b[0;36m5\u001b[0m\u001b[0;34m)\u001b[0m\u001b[0;34m\u001b[0m\u001b[0;34m\u001b[0m\u001b[0m\n\u001b[0m",
            "\u001b[0;32m/content/drive/My Drive/eva-4/assignment-12/assignment-12-A/plotutils.py\u001b[0m in \u001b[0;36mplotimages\u001b[0;34m(device, classes, dataloader, numofimages)\u001b[0m\n\u001b[1;32m     25\u001b[0m         \u001b[0mdata\u001b[0m\u001b[0;34m,\u001b[0m \u001b[0mtarget\u001b[0m \u001b[0;34m=\u001b[0m \u001b[0mdata\u001b[0m\u001b[0;34m.\u001b[0m\u001b[0mto\u001b[0m\u001b[0;34m(\u001b[0m\u001b[0mdevice\u001b[0m\u001b[0;34m)\u001b[0m\u001b[0;34m,\u001b[0m \u001b[0mtarget\u001b[0m\u001b[0;34m.\u001b[0m\u001b[0mto\u001b[0m\u001b[0;34m(\u001b[0m\u001b[0mdevice\u001b[0m\u001b[0;34m)\u001b[0m\u001b[0;34m\u001b[0m\u001b[0;34m\u001b[0m\u001b[0m\n\u001b[1;32m     26\u001b[0m         \u001b[0mprint\u001b[0m\u001b[0;34m(\u001b[0m\u001b[0mlen\u001b[0m\u001b[0;34m(\u001b[0m\u001b[0mtarget\u001b[0m\u001b[0;34m)\u001b[0m\u001b[0;34m)\u001b[0m\u001b[0;34m\u001b[0m\u001b[0;34m\u001b[0m\u001b[0m\n\u001b[0;32m---> 27\u001b[0;31m         \u001b[0;32mfor\u001b[0m \u001b[0mindex\u001b[0m\u001b[0;34m,\u001b[0m \u001b[0mlabel\u001b[0m \u001b[0;32min\u001b[0m \u001b[0menumerate\u001b[0m\u001b[0;34m(\u001b[0m\u001b[0mtarget\u001b[0m\u001b[0;34m)\u001b[0m\u001b[0;34m:\u001b[0m\u001b[0;34m\u001b[0m\u001b[0;34m\u001b[0m\u001b[0m\n\u001b[0m\u001b[1;32m     28\u001b[0m           \u001b[0mprint\u001b[0m\u001b[0;34m(\u001b[0m\u001b[0mindex\u001b[0m\u001b[0;34m)\u001b[0m\u001b[0;34m\u001b[0m\u001b[0;34m\u001b[0m\u001b[0m\n\u001b[1;32m     29\u001b[0m           \u001b[0mprint\u001b[0m\u001b[0;34m(\u001b[0m\u001b[0mlabel\u001b[0m\u001b[0;34m)\u001b[0m\u001b[0;34m\u001b[0m\u001b[0;34m\u001b[0m\u001b[0m\n",
            "\u001b[0;31mIndexError\u001b[0m: tuple index out of range"
          ]
        },
        {
          "output_type": "display_data",
          "data": {
            "text/plain": [
              "<Figure size 720x648 with 0 Axes>"
            ]
          },
          "metadata": {
            "tags": []
          }
        }
      ]
    },
    {
      "cell_type": "markdown",
      "metadata": {
        "id": "PDYzxbVbk3EX",
        "colab_type": "text"
      },
      "source": [
        "###### Sample Test Images"
      ]
    },
    {
      "cell_type": "code",
      "metadata": {
        "id": "WV1dPoApk7fK",
        "colab_type": "code",
        "colab": {}
      },
      "source": [
        "plotimages(device, classes, testloader, 20)"
      ],
      "execution_count": 0,
      "outputs": []
    },
    {
      "cell_type": "markdown",
      "metadata": {
        "id": "CUzQmcOr4Ui_",
        "colab_type": "text"
      },
      "source": [
        "### 10. Load Resnet18 Model\n"
      ]
    },
    {
      "cell_type": "code",
      "metadata": {
        "id": "auPmRERP4d1J",
        "colab_type": "code",
        "outputId": "0d17c46c-4deb-45b6-f02c-255fe5be2fd8",
        "colab": {
          "base_uri": "https://localhost:8080/",
          "height": 34
        }
      },
      "source": [
        "print(\"Building Model\")\n",
        "net = resnet18(numberofClasses=200)"
      ],
      "execution_count": 0,
      "outputs": [
        {
          "output_type": "stream",
          "text": [
            "Building Model\n"
          ],
          "name": "stdout"
        }
      ]
    },
    {
      "cell_type": "code",
      "metadata": {
        "id": "iZ1XA3Vm6jDq",
        "colab_type": "code",
        "outputId": "01aa7465-8383-4112-f08c-c7ece604873a",
        "colab": {
          "base_uri": "https://localhost:8080/",
          "height": 1000
        }
      },
      "source": [
        "# Display Model Summary\n",
        "model = net.to(device)\n",
        "summary(model, input_size=(3, 64, 64))"
      ],
      "execution_count": 0,
      "outputs": [
        {
          "output_type": "stream",
          "text": [
            "----------------------------------------------------------------\n",
            "        Layer (type)               Output Shape         Param #\n",
            "================================================================\n",
            "            Conv2d-1           [-1, 64, 32, 32]           9,408\n",
            "       BatchNorm2d-2           [-1, 64, 32, 32]             128\n",
            "              ReLU-3           [-1, 64, 32, 32]               0\n",
            "         MaxPool2d-4           [-1, 64, 16, 16]               0\n",
            "            Conv2d-5           [-1, 64, 16, 16]          36,864\n",
            "       BatchNorm2d-6           [-1, 64, 16, 16]             128\n",
            "              ReLU-7           [-1, 64, 16, 16]               0\n",
            "            Conv2d-8           [-1, 64, 16, 16]          36,864\n",
            "       BatchNorm2d-9           [-1, 64, 16, 16]             128\n",
            "             ReLU-10           [-1, 64, 16, 16]               0\n",
            "       BasicBlock-11           [-1, 64, 16, 16]               0\n",
            "           Conv2d-12           [-1, 64, 16, 16]          36,864\n",
            "      BatchNorm2d-13           [-1, 64, 16, 16]             128\n",
            "             ReLU-14           [-1, 64, 16, 16]               0\n",
            "           Conv2d-15           [-1, 64, 16, 16]          36,864\n",
            "      BatchNorm2d-16           [-1, 64, 16, 16]             128\n",
            "             ReLU-17           [-1, 64, 16, 16]               0\n",
            "       BasicBlock-18           [-1, 64, 16, 16]               0\n",
            "           Conv2d-19            [-1, 128, 8, 8]          73,728\n",
            "      BatchNorm2d-20            [-1, 128, 8, 8]             256\n",
            "             ReLU-21            [-1, 128, 8, 8]               0\n",
            "           Conv2d-22            [-1, 128, 8, 8]         147,456\n",
            "      BatchNorm2d-23            [-1, 128, 8, 8]             256\n",
            "           Conv2d-24            [-1, 128, 8, 8]           8,192\n",
            "      BatchNorm2d-25            [-1, 128, 8, 8]             256\n",
            "             ReLU-26            [-1, 128, 8, 8]               0\n",
            "       BasicBlock-27            [-1, 128, 8, 8]               0\n",
            "           Conv2d-28            [-1, 128, 8, 8]         147,456\n",
            "      BatchNorm2d-29            [-1, 128, 8, 8]             256\n",
            "             ReLU-30            [-1, 128, 8, 8]               0\n",
            "           Conv2d-31            [-1, 128, 8, 8]         147,456\n",
            "      BatchNorm2d-32            [-1, 128, 8, 8]             256\n",
            "             ReLU-33            [-1, 128, 8, 8]               0\n",
            "       BasicBlock-34            [-1, 128, 8, 8]               0\n",
            "           Conv2d-35            [-1, 256, 4, 4]         294,912\n",
            "      BatchNorm2d-36            [-1, 256, 4, 4]             512\n",
            "             ReLU-37            [-1, 256, 4, 4]               0\n",
            "           Conv2d-38            [-1, 256, 4, 4]         589,824\n",
            "      BatchNorm2d-39            [-1, 256, 4, 4]             512\n",
            "           Conv2d-40            [-1, 256, 4, 4]          32,768\n",
            "      BatchNorm2d-41            [-1, 256, 4, 4]             512\n",
            "             ReLU-42            [-1, 256, 4, 4]               0\n",
            "       BasicBlock-43            [-1, 256, 4, 4]               0\n",
            "           Conv2d-44            [-1, 256, 4, 4]         589,824\n",
            "      BatchNorm2d-45            [-1, 256, 4, 4]             512\n",
            "             ReLU-46            [-1, 256, 4, 4]               0\n",
            "           Conv2d-47            [-1, 256, 4, 4]         589,824\n",
            "      BatchNorm2d-48            [-1, 256, 4, 4]             512\n",
            "             ReLU-49            [-1, 256, 4, 4]               0\n",
            "       BasicBlock-50            [-1, 256, 4, 4]               0\n",
            "           Conv2d-51            [-1, 512, 2, 2]       1,179,648\n",
            "      BatchNorm2d-52            [-1, 512, 2, 2]           1,024\n",
            "             ReLU-53            [-1, 512, 2, 2]               0\n",
            "           Conv2d-54            [-1, 512, 2, 2]       2,359,296\n",
            "      BatchNorm2d-55            [-1, 512, 2, 2]           1,024\n",
            "           Conv2d-56            [-1, 512, 2, 2]         131,072\n",
            "      BatchNorm2d-57            [-1, 512, 2, 2]           1,024\n",
            "             ReLU-58            [-1, 512, 2, 2]               0\n",
            "       BasicBlock-59            [-1, 512, 2, 2]               0\n",
            "           Conv2d-60            [-1, 512, 2, 2]       2,359,296\n",
            "      BatchNorm2d-61            [-1, 512, 2, 2]           1,024\n",
            "             ReLU-62            [-1, 512, 2, 2]               0\n",
            "           Conv2d-63            [-1, 512, 2, 2]       2,359,296\n",
            "      BatchNorm2d-64            [-1, 512, 2, 2]           1,024\n",
            "             ReLU-65            [-1, 512, 2, 2]               0\n",
            "       BasicBlock-66            [-1, 512, 2, 2]               0\n",
            "AdaptiveAvgPool2d-67            [-1, 512, 1, 1]               0\n",
            "           Linear-68                  [-1, 200]         102,600\n",
            "================================================================\n",
            "Total params: 11,279,112\n",
            "Trainable params: 11,279,112\n",
            "Non-trainable params: 0\n",
            "----------------------------------------------------------------\n",
            "Input size (MB): 0.05\n",
            "Forward/backward pass size (MB): 5.13\n",
            "Params size (MB): 43.03\n",
            "Estimated Total Size (MB): 48.20\n",
            "----------------------------------------------------------------\n"
          ],
          "name": "stdout"
        }
      ]
    },
    {
      "cell_type": "markdown",
      "metadata": {
        "id": "jddcsjNZ9mlq",
        "colab_type": "text"
      },
      "source": [
        "### 11. Define loss function and optimizer\n"
      ]
    },
    {
      "cell_type": "code",
      "metadata": {
        "id": "Vaq4-I3dGcLs",
        "colab_type": "code",
        "colab": {}
      },
      "source": [
        "criterion = getloss()"
      ],
      "execution_count": 0,
      "outputs": []
    },
    {
      "cell_type": "markdown",
      "metadata": {
        "id": "bymYhbBdptrf",
        "colab_type": "text"
      },
      "source": [
        "#### Find Learning Rate"
      ]
    },
    {
      "cell_type": "code",
      "metadata": {
        "id": "9lqxXXWuFODh",
        "colab_type": "code",
        "colab": {}
      },
      "source": [
        "optimizer = getoptimizer(model, lr=1e-7, momentum=0.9, nesterov=True, weight_decay=0.05)"
      ],
      "execution_count": 0,
      "outputs": []
    },
    {
      "cell_type": "code",
      "metadata": {
        "id": "Cz9wreQrq2HJ",
        "colab_type": "code",
        "outputId": "bcb93dd2-2673-420c-eb3e-1caedc9c21a2",
        "colab": {
          "base_uri": "https://localhost:8080/",
          "height": 366,
          "referenced_widgets": [
            "9847891a1cd74c689e0a99682b3b8347",
            "801452cc0f6c4e16a5378f367935bda8",
            "18c1b4250e4842c2b8930ee354337410",
            "c132b31287aa4341b569ccc1f06b42d5",
            "116ca4621ef84e18bb8c050b99fa5e1b",
            "f1d5f7db7a4040b6b7e839bde26c723f",
            "2985c63f841a40268ef756d3b2d64cad",
            "df086203896f471db35476c7bdbe1dc8"
          ]
        }
      },
      "source": [
        "max_lr = performLRRangeTest(model, optimizer, criterion, device, trainloader, end_lr=100, num_iter=100)"
      ],
      "execution_count": 0,
      "outputs": [
        {
          "output_type": "display_data",
          "data": {
            "application/vnd.jupyter.widget-view+json": {
              "model_id": "9847891a1cd74c689e0a99682b3b8347",
              "version_minor": 0,
              "version_major": 2
            },
            "text/plain": [
              "HBox(children=(IntProgress(value=0), HTML(value='')))"
            ]
          },
          "metadata": {
            "tags": []
          }
        },
        {
          "output_type": "stream",
          "text": [
            "Stopping early, the loss has diverged\n",
            "Learning rate search finished. See the graph with {finder_name}.plot()\n"
          ],
          "name": "stdout"
        },
        {
          "output_type": "display_data",
          "data": {
            "image/png": "[encoded data removed]",
            "text/plain": [
              "<Figure size 432x288 with 1 Axes>"
            ]
          },
          "metadata": {
            "tags": [],
            "needs_background": "light"
          }
        },
        {
          "output_type": "stream",
          "text": [
            "0.562341\n"
          ],
          "name": "stdout"
        }
      ]
    },
    {
      "cell_type": "code",
      "metadata": {
        "id": "GP6mBlyEEvF4",
        "colab_type": "code",
        "colab": {}
      },
      "source": [
        "scheduler = getSchdeduler(optimizer, max_lr = 0.0125, epochs=EPOCHS, steps_per_epoch=1, pct_start=0.4)"
      ],
      "execution_count": 0,
      "outputs": []
    },
    {
      "cell_type": "markdown",
      "metadata": {
        "id": "GD_6sHrs-DWj",
        "colab_type": "text"
      },
      "source": [
        "### 12. Run Train and Test"
      ]
    },
    {
      "cell_type": "code",
      "metadata": {
        "id": "EHGIiWEF-RMP",
        "colab_type": "code",
        "outputId": "5ed43be5-27b6-4ff5-fbe5-3af073e27770",
        "colab": {
          "base_uri": "https://localhost:8080/",
          "height": 1000
        }
      },
      "source": [
        "for epoch in range(1, EPOCHS + 1):\n",
        "    epochlr = getlr(optimizer)\n",
        "    print(\"\\nEPOCH:\", epoch,'LR:',epochlr)\n",
        "    lr_values.append(epochlr)\n",
        " \n",
        "    train(model, trainloader, device, optimizer, criterion, trainaccuracies, trainlosses, epoch)\n",
        "    scheduler.step()\n",
        "    testloss = test(model, testloader, device, criterion, testaccuracies, testlosses, epoch)"
      ],
      "execution_count": 0,
      "outputs": [
        {
          "output_type": "stream",
          "text": [
            "\n",
            "EPOCH: 1 LR: 0.00125\n",
            "\n",
            "Epoch: 1\n",
            " [===========================================================>.....]  Step: 155ms | Tot: 6s218ms | Train >> Loss: 4.867 | Acc: 3.380% (182/5385) 11/11 \n",
            " [======================================================>..........]  Step: 40ms | Tot: 2s134ms | Test >> Loss: 4.751 | Acc: 6.525% (184/2820) 6/6 \n",
            "\n",
            "EPOCH: 2 LR: 0.001842105263157895\n",
            "\n",
            "Epoch: 2\n",
            " [===========================================================>.....]  Step: 169ms | Tot: 6s309ms | Train >> Loss: 3.464 | Acc: 9.972% (537/5385) 11/11 \n",
            " [======================================================>..........]  Step: 41ms | Tot: 2s145ms | Test >> Loss: 3.481 | Acc: 10.957% (309/2820) 6/6 \n",
            "\n",
            "EPOCH: 3 LR: 0.0024342105263157896\n",
            "\n",
            "Epoch: 3\n",
            " [===========================================================>.....]  Step: 209ms | Tot: 6s373ms | Train >> Loss: 2.811 | Acc: 12.943% (697/5385) 11/11 \n",
            " [======================================================>..........]  Step: 37ms | Tot: 2s90ms | Test >> Loss: 3.036 | Acc: 14.433% (407/2820) 6/6 \n",
            "\n",
            "EPOCH: 4 LR: 0.0030263157894736843\n",
            "\n",
            "Epoch: 4\n",
            " [===========================================================>.....]  Step: 176ms | Tot: 6s538ms | Train >> Loss: 2.639 | Acc: 17.716% (954/5385) 11/11 \n",
            " [======================================================>..........]  Step: 42ms | Tot: 2s64ms | Test >> Loss: 2.917 | Acc: 19.965% (563/2820) 6/6 \n",
            "\n",
            "EPOCH: 5 LR: 0.003618421052631579\n",
            "\n",
            "Epoch: 5\n",
            " [===========================================================>.....]  Step: 196ms | Tot: 6s266ms | Train >> Loss: 2.534 | Acc: 22.358% (1204/5385) 11/11 \n",
            " [======================================================>..........]  Step: 40ms | Tot: 2s141ms | Test >> Loss: 2.785 | Acc: 23.156% (653/2820) 6/6 \n",
            "\n",
            "EPOCH: 6 LR: 0.004210526315789474\n",
            "\n",
            "Epoch: 6\n",
            " [===========================================================>.....]  Step: 165ms | Tot: 6s406ms | Train >> Loss: 2.408 | Acc: 26.555% (1430/5385) 11/11 \n",
            " [======================================================>..........]  Step: 39ms | Tot: 2s132ms | Test >> Loss: 2.660 | Acc: 25.851% (729/2820) 6/6 \n",
            "\n",
            "EPOCH: 7 LR: 0.004802631578947368\n",
            "\n",
            "Epoch: 7\n",
            " [===========================================================>.....]  Step: 240ms | Tot: 6s488ms | Train >> Loss: 2.303 | Acc: 29.898% (1610/5385) 11/11 \n",
            " [======================================================>..........]  Step: 40ms | Tot: 2s179ms | Test >> Loss: 2.601 | Acc: 26.241% (740/2820) 6/6 \n",
            "\n",
            "EPOCH: 8 LR: 0.005394736842105264\n",
            "\n",
            "Epoch: 8\n",
            " [===========================================================>.....]  Step: 180ms | Tot: 6s92ms | Train >> Loss: 2.207 | Acc: 32.628% (1757/5385) 11/11 \n",
            " [======================================================>..........]  Step: 44ms | Tot: 2s90ms | Test >> Loss: 2.518 | Acc: 28.865% (814/2820) 6/6 \n",
            "\n",
            "EPOCH: 9 LR: 0.0059868421052631585\n",
            "\n",
            "Epoch: 9\n",
            " [===========================================================>.....]  Step: 160ms | Tot: 6s292ms | Train >> Loss: 2.110 | Acc: 34.392% (1852/5385) 11/11 \n",
            " [======================================================>..........]  Step: 43ms | Tot: 2s122ms | Test >> Loss: 2.489 | Acc: 28.298% (798/2820) 6/6 \n",
            "\n",
            "EPOCH: 10 LR: 0.006578947368421053\n",
            "\n",
            "Epoch: 10\n",
            " [===========================================================>.....]  Step: 251ms | Tot: 6s350ms | Train >> Loss: 2.028 | Acc: 37.382% (2013/5385) 11/11 \n",
            " [======================================================>..........]  Step: 44ms | Tot: 2s206ms | Test >> Loss: 2.541 | Acc: 26.241% (740/2820) 6/6 \n",
            "\n",
            "EPOCH: 11 LR: 0.007171052631578948\n",
            "\n",
            "Epoch: 11\n",
            " [===========================================================>.....]  Step: 187ms | Tot: 6s173ms | Train >> Loss: 1.948 | Acc: 39.740% (2140/5385) 11/11 \n",
            " [======================================================>..........]  Step: 42ms | Tot: 2s135ms | Test >> Loss: 2.534 | Acc: 26.631% (751/2820) 6/6 \n",
            "\n",
            "EPOCH: 12 LR: 0.007763157894736843\n",
            "\n",
            "Epoch: 12\n",
            " [===========================================================>.....]  Step: 166ms | Tot: 6s624ms | Train >> Loss: 1.876 | Acc: 41.541% (2237/5385) 11/11 \n",
            " [======================================================>..........]  Step: 41ms | Tot: 2s203ms | Test >> Loss: 2.537 | Acc: 25.106% (708/2820) 6/6 \n",
            "\n",
            "EPOCH: 13 LR: 0.008355263157894737\n",
            "\n",
            "Epoch: 13\n",
            " [===========================================================>.....]  Step: 155ms | Tot: 6s466ms | Train >> Loss: 1.802 | Acc: 44.698% (2407/5385) 11/11 \n",
            " [======================================================>..........]  Step: 40ms | Tot: 2s151ms | Test >> Loss: 2.662 | Acc: 23.475% (662/2820) 6/6 \n",
            "\n",
            "EPOCH: 14 LR: 0.008947368421052633\n",
            "\n",
            "Epoch: 14\n",
            " [===========================================================>.....]  Step: 158ms | Tot: 6s385ms | Train >> Loss: 1.730 | Acc: 46.908% (2526/5385) 11/11 \n",
            " [======================================================>..........]  Step: 40ms | Tot: 2s320ms | Test >> Loss: 2.770 | Acc: 19.326% (545/2820) 6/6 \n",
            "\n",
            "EPOCH: 15 LR: 0.009539473684210526\n",
            "\n",
            "Epoch: 15\n",
            " [===========================================================>.....]  Step: 156ms | Tot: 6s379ms | Train >> Loss: 1.672 | Acc: 48.524% (2613/5385) 11/11 \n",
            " [======================================================>..........]  Step: 40ms | Tot: 2s190ms | Test >> Loss: 2.655 | Acc: 24.610% (694/2820) 6/6 \n",
            "\n",
            "EPOCH: 16 LR: 0.010131578947368422\n",
            "\n",
            "Epoch: 16\n",
            " [===========================================================>.....]  Step: 211ms | Tot: 6s365ms | Train >> Loss: 1.623 | Acc: 50.344% (2711/5385) 11/11 \n",
            " [======================================================>..........]  Step: 42ms | Tot: 2s152ms | Test >> Loss: 2.902 | Acc: 18.404% (519/2820) 6/6 \n",
            "\n",
            "EPOCH: 17 LR: 0.010723684210526316\n",
            "\n",
            "Epoch: 17\n",
            " [===========================================================>.....]  Step: 191ms | Tot: 6s337ms | Train >> Loss: 1.595 | Acc: 51.532% (2775/5385) 11/11 \n",
            " [======================================================>..........]  Step: 39ms | Tot: 2s331ms | Test >> Loss: 2.872 | Acc: 20.248% (571/2820) 6/6 \n",
            "\n",
            "EPOCH: 18 LR: 0.011315789473684211\n",
            "\n",
            "Epoch: 18\n",
            " [===========================================================>.....]  Step: 161ms | Tot: 6s582ms | Train >> Loss: 1.502 | Acc: 54.243% (2921/5385) 11/11 \n",
            " [======================================================>..........]  Step: 40ms | Tot: 2s199ms | Test >> Loss: 2.941 | Acc: 18.901% (533/2820) 6/6 \n",
            "\n",
            "EPOCH: 19 LR: 0.011907894736842105\n",
            "\n",
            "Epoch: 19\n",
            " [===========================================================>.....]  Step: 157ms | Tot: 6s253ms | Train >> Loss: 1.480 | Acc: 55.525% (2990/5385) 11/11 \n",
            " [======================================================>..........]  Step: 40ms | Tot: 2s278ms | Test >> Loss: 2.876 | Acc: 20.745% (585/2820) 6/6 \n",
            "\n",
            "EPOCH: 20 LR: 0.0125\n",
            "\n",
            "Epoch: 20\n",
            " [===========================================================>.....]  Step: 184ms | Tot: 6s274ms | Train >> Loss: 1.429 | Acc: 57.939% (3120/5385) 11/11 \n",
            " [======================================================>..........]  Step: 41ms | Tot: 2s222ms | Test >> Loss: 3.130 | Acc: 18.901% (533/2820) 6/6 \n",
            "\n",
            "EPOCH: 21 LR: 0.012125\n",
            "\n",
            "Epoch: 21\n",
            " [===========================================================>.....]  Step: 164ms | Tot: 6s325ms | Train >> Loss: 1.353 | Acc: 60.297% (3247/5385) 11/11 \n",
            " [======================================================>..........]  Step: 43ms | Tot: 2s189ms | Test >> Loss: 3.003 | Acc: 19.610% (553/2820) 6/6 \n",
            "\n",
            "EPOCH: 22 LR: 0.01175\n",
            "\n",
            "Epoch: 22\n",
            " [===========================================================>.....]  Step: 207ms | Tot: 6s230ms | Train >> Loss: 1.302 | Acc: 62.897% (3387/5385) 11/11 \n",
            " [======================================================>..........]  Step: 40ms | Tot: 2s160ms | Test >> Loss: 2.998 | Acc: 20.851% (588/2820) 6/6 \n",
            "\n",
            "EPOCH: 23 LR: 0.011375\n",
            "\n",
            "Epoch: 23\n",
            " [===========================================================>.....]  Step: 224ms | Tot: 6s451ms | Train >> Loss: 1.242 | Acc: 64.011% (3447/5385) 11/11 \n",
            " [======================================================>..........]  Step: 45ms | Tot: 2s189ms | Test >> Loss: 2.855 | Acc: 22.553% (636/2820) 6/6 \n",
            "\n",
            "EPOCH: 24 LR: 0.011000000000000001\n",
            "\n",
            "Epoch: 24\n",
            " [===========================================================>.....]  Step: 250ms | Tot: 6s403ms | Train >> Loss: 1.182 | Acc: 66.277% (3569/5385) 11/11 \n",
            " [======================================================>..........]  Step: 42ms | Tot: 2s174ms | Test >> Loss: 2.837 | Acc: 24.362% (687/2820) 6/6 \n",
            "\n",
            "EPOCH: 25 LR: 0.010625\n",
            "\n",
            "Epoch: 25\n",
            " [===========================================================>.....]  Step: 160ms | Tot: 6s423ms | Train >> Loss: 1.140 | Acc: 67.651% (3643/5385) 11/11 \n",
            " [======================================================>..........]  Step: 44ms | Tot: 2s132ms | Test >> Loss: 2.666 | Acc: 27.872% (786/2820) 6/6 \n",
            "\n",
            "EPOCH: 26 LR: 0.01025\n",
            "\n",
            "Epoch: 26\n",
            " [===========================================================>.....]  Step: 165ms | Tot: 6s489ms | Train >> Loss: 1.083 | Acc: 69.675% (3752/5385) 11/11 \n",
            " [======================================================>..........]  Step: 40ms | Tot: 2s264ms | Test >> Loss: 2.760 | Acc: 26.206% (739/2820) 6/6 \n",
            "\n",
            "EPOCH: 27 LR: 0.009875\n",
            "\n",
            "Epoch: 27\n",
            " [===========================================================>.....]  Step: 153ms | Tot: 6s377ms | Train >> Loss: 1.008 | Acc: 72.758% (3918/5385) 11/11 \n",
            " [======================================================>..........]  Step: 40ms | Tot: 2s229ms | Test >> Loss: 2.619 | Acc: 28.369% (800/2820) 6/6 \n",
            "\n",
            "EPOCH: 28 LR: 0.0095\n",
            "\n",
            "Epoch: 28\n",
            " [===========================================================>.....]  Step: 199ms | Tot: 6s346ms | Train >> Loss: 0.988 | Acc: 73.463% (3956/5385) 11/11 \n",
            " [======================================================>..........]  Step: 40ms | Tot: 2s173ms | Test >> Loss: 2.489 | Acc: 33.298% (939/2820) 6/6 \n",
            "\n",
            "EPOCH: 29 LR: 0.009125000000000001\n",
            "\n",
            "Epoch: 29\n",
            " [===========================================================>.....]  Step: 196ms | Tot: 6s309ms | Train >> Loss: 0.969 | Acc: 73.575% (3962/5385) 11/11 \n",
            " [======================================================>..........]  Step: 39ms | Tot: 2s189ms | Test >> Loss: 2.302 | Acc: 36.277% (1023/2820) 6/6 \n",
            "\n",
            "EPOCH: 30 LR: 0.00875\n",
            "\n",
            "Epoch: 30\n",
            " [===========================================================>.....]  Step: 163ms | Tot: 6s599ms | Train >> Loss: 0.908 | Acc: 76.490% (4119/5385) 11/11 \n",
            " [======================================================>..........]  Step: 42ms | Tot: 2s194ms | Test >> Loss: 2.674 | Acc: 29.716% (838/2820) 6/6 \n",
            "\n",
            "EPOCH: 31 LR: 0.008375\n",
            "\n",
            "Epoch: 31\n",
            " [===========================================================>.....]  Step: 170ms | Tot: 6s454ms | Train >> Loss: 0.861 | Acc: 77.883% (4194/5385) 11/11 \n",
            " [======================================================>..........]  Step: 42ms | Tot: 2s119ms | Test >> Loss: 2.374 | Acc: 35.390% (998/2820) 6/6 \n",
            "\n",
            "EPOCH: 32 LR: 0.008\n",
            "\n",
            "Epoch: 32\n",
            " [===========================================================>.....]  Step: 220ms | Tot: 6s393ms | Train >> Loss: 0.815 | Acc: 79.610% (4287/5385) 11/11 \n",
            " [======================================================>..........]  Step: 41ms | Tot: 2s180ms | Test >> Loss: 2.368 | Acc: 36.809% (1038/2820) 6/6 \n",
            "\n",
            "EPOCH: 33 LR: 0.007625\n",
            "\n",
            "Epoch: 33\n",
            " [===========================================================>.....]  Step: 164ms | Tot: 6s454ms | Train >> Loss: 0.778 | Acc: 80.836% (4353/5385) 11/11 \n",
            " [======================================================>..........]  Step: 42ms | Tot: 2s196ms | Test >> Loss: 2.403 | Acc: 36.277% (1023/2820) 6/6 \n",
            "\n",
            "EPOCH: 34 LR: 0.00725\n",
            "\n",
            "Epoch: 34\n",
            " [===========================================================>.....]  Step: 168ms | Tot: 6s408ms | Train >> Loss: 0.758 | Acc: 81.151% (4370/5385) 11/11 \n",
            " [======================================================>..........]  Step: 42ms | Tot: 2s178ms | Test >> Loss: 2.304 | Acc: 37.553% (1059/2820) 6/6 \n",
            "\n",
            "EPOCH: 35 LR: 0.006875\n",
            "\n",
            "Epoch: 35\n",
            " [===========================================================>.....]  Step: 216ms | Tot: 6s578ms | Train >> Loss: 0.695 | Acc: 83.621% (4503/5385) 11/11 \n",
            " [======================================================>..........]  Step: 43ms | Tot: 2s161ms | Test >> Loss: 2.150 | Acc: 42.979% (1212/2820) 6/6 \n",
            "\n",
            "EPOCH: 36 LR: 0.0065\n",
            "\n",
            "Epoch: 36\n",
            " [===========================================================>.....]  Step: 166ms | Tot: 6s314ms | Train >> Loss: 0.656 | Acc: 84.773% (4565/5385) 11/11 \n",
            " [======================================================>..........]  Step: 43ms | Tot: 2s160ms | Test >> Loss: 2.454 | Acc: 35.674% (1006/2820) 6/6 \n",
            "\n",
            "EPOCH: 37 LR: 0.006125\n",
            "\n",
            "Epoch: 37\n",
            " [===========================================================>.....]  Step: 299ms | Tot: 6s555ms | Train >> Loss: 0.614 | Acc: 86.314% (4648/5385) 11/11 \n",
            " [======================================================>..........]  Step: 41ms | Tot: 2s174ms | Test >> Loss: 2.208 | Acc: 40.922% (1154/2820) 6/6 \n",
            "\n",
            "EPOCH: 38 LR: 0.00575\n",
            "\n",
            "Epoch: 38\n",
            " [===========================================================>.....]  Step: 219ms | Tot: 6s317ms | Train >> Loss: 0.590 | Acc: 86.518% (4659/5385) 11/11 \n",
            " [======================================================>..........]  Step: 42ms | Tot: 2s187ms | Test >> Loss: 2.128 | Acc: 43.972% (1240/2820) 6/6 \n",
            "\n",
            "EPOCH: 39 LR: 0.0053750000000000004\n",
            "\n",
            "Epoch: 39\n",
            " [===========================================================>.....]  Step: 214ms | Tot: 6s486ms | Train >> Loss: 0.529 | Acc: 88.858% (4785/5385) 11/11 \n",
            " [======================================================>..........]  Step: 41ms | Tot: 2s184ms | Test >> Loss: 2.197 | Acc: 43.014% (1213/2820) 6/6 \n",
            "\n",
            "EPOCH: 40 LR: 0.005\n",
            "\n",
            "Epoch: 40\n",
            " [===========================================================>.....]  Step: 202ms | Tot: 6s618ms | Train >> Loss: 0.496 | Acc: 89.285% (4808/5385) 11/11 \n",
            " [======================================================>..........]  Step: 43ms | Tot: 2s311ms | Test >> Loss: 2.220 | Acc: 42.199% (1190/2820) 6/6 \n",
            "\n",
            "EPOCH: 41 LR: 0.004625000000000001\n",
            "\n",
            "Epoch: 41\n",
            " [===========================================================>.....]  Step: 162ms | Tot: 6s431ms | Train >> Loss: 0.486 | Acc: 89.731% (4832/5385) 11/11 \n",
            " [======================================================>..........]  Step: 39ms | Tot: 2s150ms | Test >> Loss: 2.078 | Acc: 45.887% (1294/2820) 6/6 \n",
            "\n",
            "EPOCH: 42 LR: 0.00425\n",
            "\n",
            "Epoch: 42\n",
            " [===========================================================>.....]  Step: 205ms | Tot: 6s522ms | Train >> Loss: 0.466 | Acc: 90.362% (4866/5385) 11/11 \n",
            " [======================================================>..........]  Step: 40ms | Tot: 2s204ms | Test >> Loss: 2.045 | Acc: 47.057% (1327/2820) 6/6 \n",
            "\n",
            "EPOCH: 43 LR: 0.0038749999999999982\n",
            "\n",
            "Epoch: 43\n",
            " [===========================================================>.....]  Step: 164ms | Tot: 6s482ms | Train >> Loss: 0.428 | Acc: 91.458% (4925/5385) 11/11 \n",
            " [======================================================>..........]  Step: 40ms | Tot: 2s296ms | Test >> Loss: 1.989 | Acc: 48.298% (1362/2820) 6/6 \n",
            "\n",
            "EPOCH: 44 LR: 0.0034999999999999996\n",
            "\n",
            "Epoch: 44\n",
            " [===========================================================>.....]  Step: 191ms | Tot: 6s836ms | Train >> Loss: 0.418 | Acc: 92.089% (4959/5385) 11/11 \n",
            " [======================================================>..........]  Step: 40ms | Tot: 2s117ms | Test >> Loss: 1.993 | Acc: 48.723% (1374/2820) 6/6 \n",
            "\n",
            "EPOCH: 45 LR: 0.0031249999999999993\n",
            "\n",
            "Epoch: 45\n",
            " [===========================================================>.....]  Step: 169ms | Tot: 6s311ms | Train >> Loss: 0.381 | Acc: 92.721% (4993/5385) 11/11 \n",
            " [======================================================>..........]  Step: 39ms | Tot: 2s201ms | Test >> Loss: 1.985 | Acc: 49.929% (1408/2820) 6/6 \n",
            "\n",
            "EPOCH: 46 LR: 0.002749999999999999\n",
            "\n",
            "Epoch: 46\n",
            " [===========================================================>.....]  Step: 157ms | Tot: 6s298ms | Train >> Loss: 0.351 | Acc: 93.872% (5055/5385) 11/11 \n",
            " [======================================================>..........]  Step: 40ms | Tot: 2s166ms | Test >> Loss: 1.924 | Acc: 50.603% (1427/2820) 6/6 \n",
            "\n",
            "EPOCH: 47 LR: 0.0023749999999999986\n",
            "\n",
            "Epoch: 47\n",
            " [===========================================================>.....]  Step: 213ms | Tot: 6s362ms | Train >> Loss: 0.334 | Acc: 94.318% (5079/5385) 11/11 \n",
            " [======================================================>..........]  Step: 43ms | Tot: 2s146ms | Test >> Loss: 2.027 | Acc: 49.113% (1385/2820) 6/6 \n",
            "\n",
            "EPOCH: 48 LR: 0.002\n",
            "\n",
            "Epoch: 48\n",
            " [===========================================================>.....]  Step: 155ms | Tot: 6s335ms | Train >> Loss: 0.330 | Acc: 94.763% (5103/5385) 11/11 \n",
            " [======================================================>..........]  Step: 41ms | Tot: 2s166ms | Test >> Loss: 1.930 | Acc: 50.780% (1432/2820) 6/6 \n",
            "\n",
            "EPOCH: 49 LR: 0.0016249999999999997\n",
            "\n",
            "Epoch: 49\n",
            " [===========================================================>.....]  Step: 163ms | Tot: 6s400ms | Train >> Loss: 0.302 | Acc: 95.487% (5142/5385) 11/11 \n",
            " [======================================================>..........]  Step: 41ms | Tot: 2s88ms | Test >> Loss: 1.898 | Acc: 51.418% (1450/2820) 6/6 \n",
            "\n",
            "EPOCH: 50 LR: 0.0012499999999999994\n",
            "\n",
            "Epoch: 50\n",
            " [===========================================================>.....]  Step: 184ms | Tot: 6s269ms | Train >> Loss: 0.278 | Acc: 95.543% (5145/5385) 11/11 \n",
            " [======================================================>..........]  Step: 42ms | Tot: 2s65ms | Test >> Loss: 1.874 | Acc: 52.270% (1474/2820) 6/6 \n"
          ],
          "name": "stdout"
        }
      ]
    },
    {
      "cell_type": "code",
      "metadata": {
        "id": "Rf5b_ajpJRu-",
        "colab_type": "code",
        "outputId": "56a7e233-758f-4ee2-ac58-f0fef8218270",
        "colab": {
          "base_uri": "https://localhost:8080/",
          "height": 282
        }
      },
      "source": [
        "plt.plot(lr_values)"
      ],
      "execution_count": 0,
      "outputs": [
        {
          "output_type": "execute_result",
          "data": {
            "text/plain": [
              "[<matplotlib.lines.Line2D at 0x7fbff0a0a4e0>]"
            ]
          },
          "metadata": {
            "tags": []
          },
          "execution_count": 23
        },
        {
          "output_type": "display_data",
          "data": {
            "image/png": "[encoded data removed]",
            "text/plain": [
              "<Figure size 432x288 with 1 Axes>"
            ]
          },
          "metadata": {
            "tags": [],
            "needs_background": "light"
          }
        }
      ]
    },
    {
      "cell_type": "markdown",
      "metadata": {
        "id": "V7IeFi2iRxy_",
        "colab_type": "text"
      },
      "source": [
        "#### Plot Metrics - Accuracy and Loss"
      ]
    },
    {
      "cell_type": "code",
      "metadata": {
        "id": "U87rtYgRR7wX",
        "colab_type": "code",
        "outputId": "74a9782a-5d66-4304-e1c4-d90d75a8aa14",
        "colab": {
          "base_uri": "https://localhost:8080/",
          "height": 641
        }
      },
      "source": [
        "plotmetrics(trainaccuracies, testaccuracies, trainlosses, testlosses, savefilename=\"metrics\")"
      ],
      "execution_count": 0,
      "outputs": [
        {
          "output_type": "stream",
          "text": [
            "50\n",
            "50\n"
          ],
          "name": "stdout"
        },
        {
          "output_type": "display_data",
          "data": {
            "image/png": "[encoded data removed]",
            "text/plain": [
              "<Figure size 1080x720 with 2 Axes>"
            ]
          },
          "metadata": {
            "tags": [],
            "needs_background": "light"
          }
        }
      ]
    },
    {
      "cell_type": "markdown",
      "metadata": {
        "id": "nTgwOgvaq1n_",
        "colab_type": "text"
      },
      "source": [
        "### 14. Misclassified images"
      ]
    },
    {
      "cell_type": "markdown",
      "metadata": {
        "id": "EyY9wv7WOnRp",
        "colab_type": "text"
      },
      "source": [
        "#### Get Misclassified Images"
      ]
    },
    {
      "cell_type": "code",
      "metadata": {
        "id": "qylKg0Cvq-L9",
        "colab_type": "code",
        "colab": {}
      },
      "source": [
        "misclassifieddirectory = '/content/drive/My Drive/eva-4/assignment-11/misclassified'\n",
        "names, titles = savemisclassifiedimages(model, device, classes, testloader, misclassifieddirectory, 25)"
      ],
      "execution_count": 0,
      "outputs": []
    },
    {
      "cell_type": "markdown",
      "metadata": {
        "id": "mmvSUlfTa1j9",
        "colab_type": "text"
      },
      "source": [
        "### 15. Analysis\n",
        "- No of Epochs : 50\n",
        "- Batch size : 512\n",
        "- Best Test  Acc: 52.270%\n",
        "- Model: ResNet18\n",
        "- Cutout : Yes\n",
        "- Albumentations: Yes\n",
        "- Hyperparameters\n",
        "  - Optimizer: SGD\n",
        "  - Learning rate: 0.0125\n",
        "  - Momentum: 0.9\n",
        "  - Scheduler: One Cycle Policy"
      ]
    }
  ]
}