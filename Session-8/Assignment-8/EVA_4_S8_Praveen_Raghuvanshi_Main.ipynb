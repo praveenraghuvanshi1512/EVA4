{
  "nbformat": 4,
  "nbformat_minor": 0,
  "metadata": {
    "colab": {
      "name": "EVA-4-S8-Praveen-Raghuvanshi-Main.ipynb",
      "provenance": [],
      "collapsed_sections": [],
      "authorship_tag": "ABX9TyOtNyn/GmFbOJ6cAuI8kLM1",
      "include_colab_link": true
    },
    "kernelspec": {
      "name": "python3",
      "display_name": "Python 3"
    },
    "accelerator": "GPU"
  },
  "cells": [
    {
      "cell_type": "markdown",
      "metadata": {
        "id": "view-in-github",
        "colab_type": "text"
      },
      "source": [
        "<a href=\"https://colab.research.google.com/github/praveenraghuvanshi1512/EVA4/blob/Session-8/Session-8/Assignment-8/EVA_4_S8_Praveen_Raghuvanshi_Main.ipynb\" target=\"_parent\"><img src=\"https://colab.research.google.com/assets/colab-badge.svg\" alt=\"Open In Colab\"/></a>"
      ]
    },
    {
      "cell_type": "markdown",
      "metadata": {
        "id": "QrQqN4zqMt5U",
        "colab_type": "text"
      },
      "source": [
        "## Steps Summary"
      ]
    },
    {
      "cell_type": "code",
      "metadata": {
        "id": "GcS9dBHZuJ0g",
        "colab_type": "code",
        "colab": {}
      },
      "source": [
        "# 1. Mount google drive\n",
        "# 2. Set the directory path of google drive\n",
        "# 3. Import all modules and libraries\n",
        "# 4. Set Device\n",
        "# 5. Import all the functions\n",
        "# 6. Load transformations\n",
        "# 7. Load dataset\n",
        "# 8. Load Classes\n",
        "# 9. Display sample images\n",
        "# 10. Load Resnet18 Model\n",
        "# 11. Define Loss function and optimizer\n",
        "# 12. Run train and test"
      ],
      "execution_count": 0,
      "outputs": []
    },
    {
      "cell_type": "markdown",
      "metadata": {
        "id": "KOdHHdPxuQFs",
        "colab_type": "text"
      },
      "source": [
        "### 1. Mount google drive"
      ]
    },
    {
      "cell_type": "code",
      "metadata": {
        "id": "YCII_8_auNbk",
        "colab_type": "code",
        "outputId": "108d8223-72c0-44a6-ee4a-a1ff1608ac0b",
        "colab": {
          "base_uri": "https://localhost:8080/",
          "height": 126
        }
      },
      "source": [
        "# Load data from Google drive\n",
        "from google.colab import drive\n",
        "drive.mount('/content/drive')"
      ],
      "execution_count": 4,
      "outputs": [
        {
          "output_type": "stream",
          "text": [
            "Go to this URL in a browser: https://accounts.google.com/o/oauth2/auth?client_id=947318989803-6bn6qk8qdgf4n4g3pfee6491hc0brc4i.apps.googleusercontent.com&redirect_uri=urn%3aietf%3awg%3aoauth%3a2.0%3aoob&response_type=code&scope=email%20https%3a%2f%2fwww.googleapis.com%2fauth%2fdocs.test%20https%3a%2f%2fwww.googleapis.com%2fauth%2fdrive%20https%3a%2f%2fwww.googleapis.com%2fauth%2fdrive.photos.readonly%20https%3a%2f%2fwww.googleapis.com%2fauth%2fpeopleapi.readonly\n",
            "\n",
            "Enter your authorization code:\n",
            "··········\n",
            "Mounted at /content/drive\n"
          ],
          "name": "stdout"
        }
      ]
    },
    {
      "cell_type": "markdown",
      "metadata": {
        "id": "iouz-VhCvRKa",
        "colab_type": "text"
      },
      "source": [
        "### 2. Set the directory path of google drive"
      ]
    },
    {
      "cell_type": "code",
      "metadata": {
        "id": "qYAhAXd7u8Is",
        "colab_type": "code",
        "colab": {}
      },
      "source": [
        "import sys\n",
        "%load_ext autoreload\n",
        "%autoreload 2\n",
        "sys.path.append('/content/drive/My Drive/eva-4/assignment-8')"
      ],
      "execution_count": 0,
      "outputs": []
    },
    {
      "cell_type": "code",
      "metadata": {
        "id": "EshyBNNlvXUB",
        "colab_type": "code",
        "outputId": "e1bd138e-409b-47d6-bf62-8496a7179102",
        "colab": {
          "base_uri": "https://localhost:8080/",
          "height": 35
        }
      },
      "source": [
        "cd '/content/drive/My Drive/eva-4/assignment-8'"
      ],
      "execution_count": 6,
      "outputs": [
        {
          "output_type": "stream",
          "text": [
            "/content/drive/My Drive/eva-4/assignment-8\n"
          ],
          "name": "stdout"
        }
      ]
    },
    {
      "cell_type": "code",
      "metadata": {
        "id": "iCrlbbXOvjzh",
        "colab_type": "code",
        "outputId": "3a482e9f-a833-437b-8727-64266c60045f",
        "colab": {
          "base_uri": "https://localhost:8080/",
          "height": 35
        }
      },
      "source": [
        "ls"
      ],
      "execution_count": 7,
      "outputs": [
        {
          "output_type": "stream",
          "text": [
            "\u001b[0m\u001b[01;34mcheckpoint\u001b[0m/  \u001b[01;34mdata\u001b[0m/  model.py  \u001b[01;34m__pycache__\u001b[0m/  S8_functions.py  utils.py\n"
          ],
          "name": "stdout"
        }
      ]
    },
    {
      "cell_type": "markdown",
      "metadata": {
        "id": "6_gBUHNhwZF8",
        "colab_type": "text"
      },
      "source": [
        "### 3. Import all modules and libraries"
      ]
    },
    {
      "cell_type": "code",
      "metadata": {
        "id": "mJfJaQkMwdcM",
        "colab_type": "code",
        "colab": {}
      },
      "source": [
        "import torch\n",
        "import torch.nn as nn\n",
        "import torchvision\n",
        "import torchvision.transforms as transforms"
      ],
      "execution_count": 0,
      "outputs": []
    },
    {
      "cell_type": "markdown",
      "metadata": {
        "id": "8UzFE61fvvzj",
        "colab_type": "text"
      },
      "source": [
        "### 4. Set Device"
      ]
    },
    {
      "cell_type": "code",
      "metadata": {
        "id": "RdESvDmFvlO1",
        "colab_type": "code",
        "outputId": "9acce96b-46ee-49b4-ee32-b9b3525eed48",
        "colab": {
          "base_uri": "https://localhost:8080/",
          "height": 35
        }
      },
      "source": [
        "use_cuda = torch.cuda.is_available()\n",
        "device = torch.device(\"cuda\" if use_cuda else \"cpu\")\n",
        "print(device)"
      ],
      "execution_count": 9,
      "outputs": [
        {
          "output_type": "stream",
          "text": [
            "cuda\n"
          ],
          "name": "stdout"
        }
      ]
    },
    {
      "cell_type": "markdown",
      "metadata": {
        "id": "1gXN5mwvw_mO",
        "colab_type": "text"
      },
      "source": [
        "###  5. Import all the functions"
      ]
    },
    {
      "cell_type": "code",
      "metadata": {
        "id": "0yM0_rOMxCr7",
        "colab_type": "code",
        "colab": {}
      },
      "source": [
        "from S8_functions import myfunc, transformations, loadcifar10dataset, getclasses, display, train, test\n",
        "from model import Net, ResNet, resnet18"
      ],
      "execution_count": 0,
      "outputs": []
    },
    {
      "cell_type": "markdown",
      "metadata": {
        "id": "TgfbtDvV3Std",
        "colab_type": "text"
      },
      "source": [
        "###  6. Load Transformations"
      ]
    },
    {
      "cell_type": "code",
      "metadata": {
        "id": "MOJImFEc3YO2",
        "colab_type": "code",
        "colab": {}
      },
      "source": [
        "transform_train, transform_test = transformations()"
      ],
      "execution_count": 0,
      "outputs": []
    },
    {
      "cell_type": "markdown",
      "metadata": {
        "id": "uso5HfFp3iQ5",
        "colab_type": "text"
      },
      "source": [
        "###  7. Load Dataset"
      ]
    },
    {
      "cell_type": "code",
      "metadata": {
        "id": "CNK1p6sk3oZX",
        "colab_type": "code",
        "outputId": "be5c0e64-33a2-46fe-ea10-cc3ea96f4c99",
        "colab": {
          "base_uri": "https://localhost:8080/",
          "height": 52
        }
      },
      "source": [
        "trainset, trainloader, testset, testloader = loadcifar10dataset(transform_train, transform_test)"
      ],
      "execution_count": 12,
      "outputs": [
        {
          "output_type": "stream",
          "text": [
            "Files already downloaded and verified\n",
            "Files already downloaded and verified\n"
          ],
          "name": "stdout"
        }
      ]
    },
    {
      "cell_type": "markdown",
      "metadata": {
        "id": "RlrYDL2_xEiz",
        "colab_type": "text"
      },
      "source": [
        "###  8. Load Classes"
      ]
    },
    {
      "cell_type": "code",
      "metadata": {
        "id": "4LiQgSYO30gf",
        "colab_type": "code",
        "outputId": "301be17d-dc38-484a-9dd3-4f313d28c80c",
        "colab": {
          "base_uri": "https://localhost:8080/",
          "height": 35
        }
      },
      "source": [
        "classes = getclasses()\n",
        "print(classes)"
      ],
      "execution_count": 13,
      "outputs": [
        {
          "output_type": "stream",
          "text": [
            "('plane', 'car', 'bird', 'cat', 'deer', 'dog', 'frog', 'horse', 'ship', 'truck')\n"
          ],
          "name": "stdout"
        }
      ]
    },
    {
      "cell_type": "markdown",
      "metadata": {
        "id": "YUYcV4I137Wf",
        "colab_type": "text"
      },
      "source": [
        "### 9. Display sample images"
      ]
    },
    {
      "cell_type": "code",
      "metadata": {
        "id": "oBXRNlu14E0g",
        "colab_type": "code",
        "outputId": "51e6317a-10a1-40f3-d206-f75c3eea52dd",
        "colab": {
          "base_uri": "https://localhost:8080/",
          "height": 173
        }
      },
      "source": [
        "display(4, trainloader, classes)"
      ],
      "execution_count": 14,
      "outputs": [
        {
          "output_type": "stream",
          "text": [
            "Clipping input data to the valid range for imshow with RGB data ([0..1] for floats or [0..255] for integers).\n"
          ],
          "name": "stderr"
        },
        {
          "output_type": "stream",
          "text": [
            "truck horse plane horse\n"
          ],
          "name": "stdout"
        },
        {
          "output_type": "display_data",
          "data": {
            "image/png": "[encoded data removed]",
            "text/plain": [
              "<Figure size 432x288 with 1 Axes>"
            ]
          },
          "metadata": {
            "tags": []
          }
        }
      ]
    },
    {
      "cell_type": "markdown",
      "metadata": {
        "id": "CUzQmcOr4Ui_",
        "colab_type": "text"
      },
      "source": [
        "### 10. Load Resnet18 Model\n"
      ]
    },
    {
      "cell_type": "code",
      "metadata": {
        "id": "auPmRERP4d1J",
        "colab_type": "code",
        "outputId": "da067b60-58d7-4610-bbbc-d145a9a06692",
        "colab": {
          "base_uri": "https://localhost:8080/",
          "height": 35
        }
      },
      "source": [
        "print(\"Building Model\")\n",
        "net = resnet18()"
      ],
      "execution_count": 15,
      "outputs": [
        {
          "output_type": "stream",
          "text": [
            "Building Model\n"
          ],
          "name": "stdout"
        }
      ]
    },
    {
      "cell_type": "code",
      "metadata": {
        "id": "iZ1XA3Vm6jDq",
        "colab_type": "code",
        "outputId": "8692dafa-1258-40d1-f981-ac780fe6b0d9",
        "colab": {
          "base_uri": "https://localhost:8080/",
          "height": 1000
        }
      },
      "source": [
        "# Display Model Summary\n",
        "!pip install torchsummary\n",
        "from torchsummary import summary\n",
        "\n",
        "model = net.to(device)\n",
        "summary(model, input_size=(3, 32, 32))"
      ],
      "execution_count": 16,
      "outputs": [
        {
          "output_type": "stream",
          "text": [
            "Requirement already satisfied: torchsummary in /usr/local/lib/python3.6/dist-packages (1.5.1)\n",
            "----------------------------------------------------------------\n",
            "        Layer (type)               Output Shape         Param #\n",
            "================================================================\n",
            "            Conv2d-1           [-1, 64, 32, 32]           1,728\n",
            "       BatchNorm2d-2           [-1, 64, 32, 32]             128\n",
            "            Conv2d-3           [-1, 64, 32, 32]          36,864\n",
            "       BatchNorm2d-4           [-1, 64, 32, 32]             128\n",
            "            Conv2d-5           [-1, 64, 32, 32]          36,864\n",
            "       BatchNorm2d-6           [-1, 64, 32, 32]             128\n",
            "        BasicBlock-7           [-1, 64, 32, 32]               0\n",
            "            Conv2d-8           [-1, 64, 32, 32]          36,864\n",
            "       BatchNorm2d-9           [-1, 64, 32, 32]             128\n",
            "           Conv2d-10           [-1, 64, 32, 32]          36,864\n",
            "      BatchNorm2d-11           [-1, 64, 32, 32]             128\n",
            "       BasicBlock-12           [-1, 64, 32, 32]               0\n",
            "           Conv2d-13          [-1, 128, 16, 16]          73,728\n",
            "      BatchNorm2d-14          [-1, 128, 16, 16]             256\n",
            "           Conv2d-15          [-1, 128, 16, 16]         147,456\n",
            "      BatchNorm2d-16          [-1, 128, 16, 16]             256\n",
            "           Conv2d-17          [-1, 128, 16, 16]           8,192\n",
            "      BatchNorm2d-18          [-1, 128, 16, 16]             256\n",
            "       BasicBlock-19          [-1, 128, 16, 16]               0\n",
            "           Conv2d-20          [-1, 128, 16, 16]         147,456\n",
            "      BatchNorm2d-21          [-1, 128, 16, 16]             256\n",
            "           Conv2d-22          [-1, 128, 16, 16]         147,456\n",
            "      BatchNorm2d-23          [-1, 128, 16, 16]             256\n",
            "       BasicBlock-24          [-1, 128, 16, 16]               0\n",
            "           Conv2d-25            [-1, 256, 8, 8]         294,912\n",
            "      BatchNorm2d-26            [-1, 256, 8, 8]             512\n",
            "           Conv2d-27            [-1, 256, 8, 8]         589,824\n",
            "      BatchNorm2d-28            [-1, 256, 8, 8]             512\n",
            "           Conv2d-29            [-1, 256, 8, 8]          32,768\n",
            "      BatchNorm2d-30            [-1, 256, 8, 8]             512\n",
            "       BasicBlock-31            [-1, 256, 8, 8]               0\n",
            "           Conv2d-32            [-1, 256, 8, 8]         589,824\n",
            "      BatchNorm2d-33            [-1, 256, 8, 8]             512\n",
            "           Conv2d-34            [-1, 256, 8, 8]         589,824\n",
            "      BatchNorm2d-35            [-1, 256, 8, 8]             512\n",
            "       BasicBlock-36            [-1, 256, 8, 8]               0\n",
            "           Conv2d-37            [-1, 512, 4, 4]       1,179,648\n",
            "      BatchNorm2d-38            [-1, 512, 4, 4]           1,024\n",
            "           Conv2d-39            [-1, 512, 4, 4]       2,359,296\n",
            "      BatchNorm2d-40            [-1, 512, 4, 4]           1,024\n",
            "           Conv2d-41            [-1, 512, 4, 4]         131,072\n",
            "      BatchNorm2d-42            [-1, 512, 4, 4]           1,024\n",
            "       BasicBlock-43            [-1, 512, 4, 4]               0\n",
            "           Conv2d-44            [-1, 512, 4, 4]       2,359,296\n",
            "      BatchNorm2d-45            [-1, 512, 4, 4]           1,024\n",
            "           Conv2d-46            [-1, 512, 4, 4]       2,359,296\n",
            "      BatchNorm2d-47            [-1, 512, 4, 4]           1,024\n",
            "       BasicBlock-48            [-1, 512, 4, 4]               0\n",
            "           Linear-49                   [-1, 10]           5,130\n",
            "================================================================\n",
            "Total params: 11,173,962\n",
            "Trainable params: 11,173,962\n",
            "Non-trainable params: 0\n",
            "----------------------------------------------------------------\n",
            "Input size (MB): 0.01\n",
            "Forward/backward pass size (MB): 11.25\n",
            "Params size (MB): 42.63\n",
            "Estimated Total Size (MB): 53.89\n",
            "----------------------------------------------------------------\n"
          ],
          "name": "stdout"
        }
      ]
    },
    {
      "cell_type": "markdown",
      "metadata": {
        "id": "jddcsjNZ9mlq",
        "colab_type": "text"
      },
      "source": [
        "### 11. Define loss function and optimizer\n"
      ]
    },
    {
      "cell_type": "code",
      "metadata": {
        "id": "_zZ539Vx9tcJ",
        "colab_type": "code",
        "colab": {}
      },
      "source": [
        "import torch.optim as optim\n",
        "\n",
        "criterion = nn.CrossEntropyLoss()\n",
        "optimizer = optim.SGD(net.parameters(), lr=0.001, momentum=0.9)"
      ],
      "execution_count": 0,
      "outputs": []
    },
    {
      "cell_type": "markdown",
      "metadata": {
        "id": "GD_6sHrs-DWj",
        "colab_type": "text"
      },
      "source": [
        "### 12. Run Train and Test"
      ]
    },
    {
      "cell_type": "code",
      "metadata": {
        "id": "EHGIiWEF-RMP",
        "colab_type": "code",
        "outputId": "c10bd39b-25c3-4902-d17b-94961d9da6d8",
        "colab": {
          "base_uri": "https://localhost:8080/",
          "height": 728
        }
      },
      "source": [
        "for epoch in range(10):\n",
        "    train(net, trainloader, device, optimizer, criterion, epoch)\n",
        "    test(net, testloader, device, criterion, epoch)"
      ],
      "execution_count": 18,
      "outputs": [
        {
          "output_type": "stream",
          "text": [
            "\n",
            "Epoch: 0\n",
            " [================================================================>]  Step: 26ms | Tot: 5m43s | Train >> Loss: 1.567 | Acc: 43.442% (21721/50000) 12500/12500 \n",
            " [================================================================>]  Step: 15ms | Tot: 48s33ms | Test >> Loss: 1.093 | Acc: 61.430% (6143/10000) 2500/2500 \n",
            "\n",
            "Epoch: 1\n",
            " [================================================================>]  Step: 26ms | Tot: 5m34s | Train >> Loss: 0.995 | Acc: 64.882% (32441/50000) 12500/12500 \n",
            " [================================================================>]  Step: 15ms | Tot: 47s357ms | Test >> Loss: 0.807 | Acc: 73.140% (7314/10000) 2500/2500 \n",
            "\n",
            "Epoch: 2\n",
            " [================================================================>]  Step: 22ms | Tot: 5m35s | Train >> Loss: 0.780 | Acc: 72.752% (36376/50000) 12500/12500 \n",
            " [================================================================>]  Step: 22ms | Tot: 46s891ms | Test >> Loss: 0.691 | Acc: 76.680% (7668/10000) 2500/2500 \n",
            "\n",
            "Epoch: 3\n",
            " [================================================================>]  Step: 23ms | Tot: 5m38s | Train >> Loss: 0.659 | Acc: 77.024% (38512/50000) 12500/12500 \n",
            " [================================================================>]  Step: 16ms | Tot: 47s476ms | Test >> Loss: 0.622 | Acc: 79.220% (7922/10000) 2500/2500 \n",
            "\n",
            "Epoch: 4\n",
            " [================================================================>]  Step: 29ms | Tot: 5m38s | Train >> Loss: 0.583 | Acc: 79.728% (39864/50000) 12500/12500 \n",
            " [================================================================>]  Step: 19ms | Tot: 47s864ms | Test >> Loss: 0.538 | Acc: 82.180% (8218/10000) 2500/2500 \n",
            "\n",
            "Epoch: 5\n",
            " [================================================================>]  Step: 23ms | Tot: 5m42s | Train >> Loss: 0.517 | Acc: 82.250% (41125/50000) 12500/12500 \n",
            " [================================================================>]  Step: 19ms | Tot: 48s702ms | Test >> Loss: 0.505 | Acc: 82.780% (8278/10000) 2500/2500 \n",
            "\n",
            "Epoch: 6\n",
            " [================================================================>]  Step: 25ms | Tot: 5m37s | Train >> Loss: 0.472 | Acc: 83.850% (41925/50000) 12500/12500 \n",
            " [================================================================>]  Step: 13ms | Tot: 46s879ms | Test >> Loss: 0.442 | Acc: 84.630% (8463/10000) 2500/2500 \n",
            "\n",
            "Epoch: 7\n",
            " [================================================================>]  Step: 25ms | Tot: 5m37s | Train >> Loss: 0.433 | Acc: 85.072% (42536/50000) 12500/12500 \n",
            " [================================================================>]  Step: 17ms | Tot: 47s651ms | Test >> Loss: 0.447 | Acc: 84.890% (8489/10000) 2500/2500 \n",
            "\n",
            "Epoch: 8\n",
            " [================================================================>]  Step: 25ms | Tot: 5m36s | Train >> Loss: 0.400 | Acc: 86.164% (43082/50000) 12500/12500 \n",
            " [================================================================>]  Step: 20ms | Tot: 47s395ms | Test >> Loss: 0.408 | Acc: 86.560% (8656/10000) 2500/2500 \n",
            "\n",
            "Epoch: 9\n",
            " [================================================================>]  Step: 23ms | Tot: 5m33s | Train >> Loss: 0.373 | Acc: 87.184% (43592/50000) 12500/12500 \n",
            " [================================================================>]  Step: 17ms | Tot: 47s933ms | Test >> Loss: 0.425 | Acc: 85.560% (8556/10000) 2500/2500 \n"
          ],
          "name": "stdout"
        }
      ]
    },
    {
      "cell_type": "markdown",
      "metadata": {
        "id": "mmvSUlfTa1j9",
        "colab_type": "text"
      },
      "source": [
        "### 13. Analysis\n",
        "- No of Epochs : 9\n",
        "- Best Train Acc: 87.184%\n",
        "- Best Test  Acc: 86.560%\n",
        "- Epoch 8 Acccuracy\n",
        "  - Train : 86.164%\n",
        "  - Test  : 86.560%\n",
        "- Overfitting \n",
        "  - Calculation: (100 - 86.560) + 86.164 = 99.604 --> No Overfitting\n",
        "  - Difference : 86.164 - 86.560 = -0.396 --> Less -> No overfitting"
      ]
    }
  ]
}