{
  "nbformat": 4,
  "nbformat_minor": 0,
  "metadata": {
    "colab": {
      "name": "EVA-4-S8-Praveen-Raghuvanshi-Main.ipynb",
      "provenance": [],
      "collapsed_sections": [],
      "authorship_tag": "ABX9TyM+6MaW2ZXO7YHYrM3B0vsN",
      "include_colab_link": true
    },
    "kernelspec": {
      "name": "python3",
      "display_name": "Python 3"
    }
  },
  "cells": [
    {
      "cell_type": "markdown",
      "metadata": {
        "id": "view-in-github",
        "colab_type": "text"
      },
      "source": [
        "<a href=\"https://colab.research.google.com/github/praveenraghuvanshi1512/EVA4/blob/Session-8/Session-8/Assignment-8/EVA_4_S8_Praveen_Raghuvanshi_Main.ipynb\" target=\"_parent\"><img src=\"https://colab.research.google.com/assets/colab-badge.svg\" alt=\"Open In Colab\"/></a>"
      ]
    },
    {
      "cell_type": "code",
      "metadata": {
        "id": "GcS9dBHZuJ0g",
        "colab_type": "code",
        "colab": {}
      },
      "source": [
        "# 1. Mount google drive\n",
        "# 2. Set the directory path of google drive\n",
        "# 3. Import all modules and libraries\n",
        "# 4. Set Device\n",
        "# 5. Import all the functions\n",
        "# 6. Load transformations\n",
        "# 7. Load dataset\n",
        "# 8. Load Model\n",
        "# 9. Run Model\n",
        "# 10. Plot accuracies"
      ],
      "execution_count": 0,
      "outputs": []
    },
    {
      "cell_type": "markdown",
      "metadata": {
        "id": "KOdHHdPxuQFs",
        "colab_type": "text"
      },
      "source": [
        "### 1. Mount google drive"
      ]
    },
    {
      "cell_type": "code",
      "metadata": {
        "id": "YCII_8_auNbk",
        "colab_type": "code",
        "outputId": "1b912c6f-d323-4b1b-f966-22eab634e063",
        "colab": {
          "base_uri": "https://localhost:8080/",
          "height": 35
        }
      },
      "source": [
        "# Load data from Google drive\n",
        "from google.colab import drive\n",
        "drive.mount('/content/drive')"
      ],
      "execution_count": 0,
      "outputs": [
        {
          "output_type": "stream",
          "text": [
            "Drive already mounted at /content/drive; to attempt to forcibly remount, call drive.mount(\"/content/drive\", force_remount=True).\n"
          ],
          "name": "stdout"
        }
      ]
    },
    {
      "cell_type": "markdown",
      "metadata": {
        "id": "iouz-VhCvRKa",
        "colab_type": "text"
      },
      "source": [
        "### 2. Set the directory path of google drive"
      ]
    },
    {
      "cell_type": "code",
      "metadata": {
        "id": "qYAhAXd7u8Is",
        "colab_type": "code",
        "colab": {}
      },
      "source": [
        "import sys\n",
        "sys.path.append('/content/drive/My Drive/Colab Notebooks')"
      ],
      "execution_count": 0,
      "outputs": []
    },
    {
      "cell_type": "code",
      "metadata": {
        "id": "EshyBNNlvXUB",
        "colab_type": "code",
        "outputId": "e8b01c23-3daa-4de3-c1f9-45338dfa5f8c",
        "colab": {
          "base_uri": "https://localhost:8080/",
          "height": 35
        }
      },
      "source": [
        "cd '/content/drive/My Drive/Colab Notebooks'"
      ],
      "execution_count": 0,
      "outputs": [
        {
          "output_type": "stream",
          "text": [
            "/content/drive/My Drive/Colab Notebooks\n"
          ],
          "name": "stdout"
        }
      ]
    },
    {
      "cell_type": "code",
      "metadata": {
        "id": "iCrlbbXOvjzh",
        "colab_type": "code",
        "outputId": "22009f88-1654-4adf-84ed-5f6d90fe85b6",
        "colab": {
          "base_uri": "https://localhost:8080/",
          "height": 599
        }
      },
      "source": [
        "ls"
      ],
      "execution_count": 0,
      "outputs": [
        {
          "output_type": "stream",
          "text": [
            "'Copy of Copy of Copy of EVA-4-S5-Praveen-Raghuvanshi-Code-Rotation.ipynb'\n",
            "'Copy of Copy of EVA-4-S5-Praveen-Raghuvanshi-Code-Capacity.ipynb'\n",
            "'Copy of EVA-4-Assignment-4-Praveen-Raghuvanshi.ipynb'\n",
            "'Copy of EVA4 S3 PyTorch101.ipynb'\n",
            "'Copy of EVA-4-S5-Praveen-Raghuvanshi-Code-GAP.ipynb'\n",
            "'Copy of EVA-4-S7-Praveen-Raghuvanshi-Functions.ipynb'\n",
            "'Copy of EVA4 - Session 2.ipynb'\n",
            "'Copy of Python101.ipynb'\n",
            "'Copy of S7.ipynb'\n",
            " EIP4_A5_Praveen_Raghuvanshi_DenseNet_2.ipynb\n",
            " EIP4_A5_Praveen_Raghuvanshi_DenseNet_Final.ipynb\n",
            "'EVA-4-Assignment-4-Praveen-Raghuvanshi (1).ipynb'\n",
            "'EVA-4-Assignment-4-Praveen-Raghuvanshi (2).ipynb'\n",
            " EVA-4-Assignment-4-Praveen-Raghuvanshi.ipynb\n",
            " EVA-4-S5-Praveen-Raghuvanshi-Augmentation.ipynb\n",
            " EVA-4-S5-Praveen-Raghuvanshi-Base.ipynb\n",
            " EVA-4-S5-Praveen-Raghuvanshi-Code-1.ipynb\n",
            " EVA-4-S5-Praveen-Raghuvanshi-Code-2.ipynb\n",
            " EVA-4-S5-Praveen-Raghuvanshi-Code-3.ipynb\n",
            " EVA-4-S5-Praveen-Raghuvanshi-INCCAPACITY.ipynb\n",
            " EVA-4-S5-Praveen-Raghuvanshi-LIGHT-BatchNorm.ipynb\n",
            " EVA-4-S5-Praveen-Raghuvanshi-LIGHTER.ipynb\n",
            " EVA-4-S5-Praveen-Raghuvanshi-LR-INCCAPACITY.ipynb\n",
            " EVA-4-S5-Praveen-Raghuvanshi-LR.ipynb\n",
            " EVA-4-S6-Praveen-Raghuvanshi-all.ipynb\n",
            " EVA-4-S6-Praveen-Raghuvanshi-With_L1.ipynb\n",
            " EVA-4-S6-Praveen-Raghuvanshi-With_L1+L2.ipynb\n",
            " EVA-4-S6-Praveen-Raghuvanshi-With_L2.ipynb\n",
            " EVA-4-S7-Praveen-Raghuvanshi-Main.ipynb\n",
            "'EVA4-Session-2- Praveen-Raghuvanshi.ipynb'\n",
            " \u001b[0m\u001b[01;34mmodels\u001b[0m/\n",
            " S7_functions.ipynb\n"
          ],
          "name": "stdout"
        }
      ]
    },
    {
      "cell_type": "markdown",
      "metadata": {
        "id": "6_gBUHNhwZF8",
        "colab_type": "text"
      },
      "source": [
        "### 3. Import all modules and libraries"
      ]
    },
    {
      "cell_type": "code",
      "metadata": {
        "id": "mJfJaQkMwdcM",
        "colab_type": "code",
        "colab": {}
      },
      "source": [
        "import torch\n",
        "import torchvision\n",
        "import torchvision.transforms as transforms"
      ],
      "execution_count": 0,
      "outputs": []
    },
    {
      "cell_type": "markdown",
      "metadata": {
        "id": "8UzFE61fvvzj",
        "colab_type": "text"
      },
      "source": [
        "### 4. Set Device"
      ]
    },
    {
      "cell_type": "code",
      "metadata": {
        "id": "RdESvDmFvlO1",
        "colab_type": "code",
        "outputId": "e23ba7ef-a312-440a-9efc-7f1d9aa4b2ba",
        "colab": {
          "base_uri": "https://localhost:8080/",
          "height": 35
        }
      },
      "source": [
        "use_cuda = torch.cuda.is_available()\n",
        "device = torch.device(\"cuda\" if use_cuda else \"cpu\")\n",
        "print(device)"
      ],
      "execution_count": 0,
      "outputs": [
        {
          "output_type": "stream",
          "text": [
            "cpu\n"
          ],
          "name": "stdout"
        }
      ]
    },
    {
      "cell_type": "markdown",
      "metadata": {
        "id": "1gXN5mwvw_mO",
        "colab_type": "text"
      },
      "source": [
        "###  5. Import all the functions"
      ]
    },
    {
      "cell_type": "code",
      "metadata": {
        "id": "0yM0_rOMxCr7",
        "colab_type": "code",
        "outputId": "ffde68e5-5815-4925-a725-9cdcb1efb122",
        "colab": {
          "base_uri": "https://localhost:8080/",
          "height": 389
        }
      },
      "source": [
        "from S7_functions import train_test_dataloaders\n",
        "\n",
        "print(dir(S7_functions))\n",
        "trans = transformations()\n",
        "train_loader, test_loader = train_test_dataloader(trans)"
      ],
      "execution_count": 0,
      "outputs": [
        {
          "output_type": "error",
          "ename": "ModuleNotFoundError",
          "evalue": "ignored",
          "traceback": [
            "\u001b[0;31m---------------------------------------------------------------------------\u001b[0m",
            "\u001b[0;31mModuleNotFoundError\u001b[0m                       Traceback (most recent call last)",
            "\u001b[0;32m<ipython-input-82-d1c561bf411d>\u001b[0m in \u001b[0;36m<module>\u001b[0;34m()\u001b[0m\n\u001b[0;32m----> 1\u001b[0;31m \u001b[0;32mfrom\u001b[0m \u001b[0mS7_functions\u001b[0m \u001b[0;32mimport\u001b[0m \u001b[0mtrain_test_dataloaders\u001b[0m\u001b[0;34m\u001b[0m\u001b[0;34m\u001b[0m\u001b[0m\n\u001b[0m\u001b[1;32m      2\u001b[0m \u001b[0;34m\u001b[0m\u001b[0m\n\u001b[1;32m      3\u001b[0m \u001b[0mprint\u001b[0m\u001b[0;34m(\u001b[0m\u001b[0mdir\u001b[0m\u001b[0;34m(\u001b[0m\u001b[0mS7_functions\u001b[0m\u001b[0;34m)\u001b[0m\u001b[0;34m)\u001b[0m\u001b[0;34m\u001b[0m\u001b[0;34m\u001b[0m\u001b[0m\n\u001b[1;32m      4\u001b[0m \u001b[0mtrans\u001b[0m \u001b[0;34m=\u001b[0m \u001b[0mtransformations\u001b[0m\u001b[0;34m(\u001b[0m\u001b[0;34m)\u001b[0m\u001b[0;34m\u001b[0m\u001b[0;34m\u001b[0m\u001b[0m\n\u001b[1;32m      5\u001b[0m \u001b[0mtrain_loader\u001b[0m\u001b[0;34m,\u001b[0m \u001b[0mtest_loader\u001b[0m \u001b[0;34m=\u001b[0m \u001b[0mtrain_test_dataloader\u001b[0m\u001b[0;34m(\u001b[0m\u001b[0mtrans\u001b[0m\u001b[0;34m)\u001b[0m\u001b[0;34m\u001b[0m\u001b[0;34m\u001b[0m\u001b[0m\n",
            "\u001b[0;31mModuleNotFoundError\u001b[0m: No module named 'S7_functions'",
            "",
            "\u001b[0;31m---------------------------------------------------------------------------\u001b[0;32m\nNOTE: If your import is failing due to a missing package, you can\nmanually install dependencies using either !pip or !apt.\n\nTo view examples of installing some common dependencies, click the\n\"Open Examples\" button below.\n\u001b[0;31m---------------------------------------------------------------------------\u001b[0m\n"
          ]
        }
      ]
    },
    {
      "cell_type": "markdown",
      "metadata": {
        "id": "RlrYDL2_xEiz",
        "colab_type": "text"
      },
      "source": [
        ""
      ]
    }
  ]
}