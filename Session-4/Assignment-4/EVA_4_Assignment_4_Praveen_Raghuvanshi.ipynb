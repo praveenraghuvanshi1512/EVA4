{
  "nbformat": 4,
  "nbformat_minor": 0,
  "metadata": {
    "colab": {
      "name": "EVA-4-Assignment-4-Praveen-Raghuvanshi.ipynb",
      "provenance": [],
      "collapsed_sections": [],
      "authorship_tag": "ABX9TyNVB3VoiS7ylncMCwAz+fZW",
      "include_colab_link": true
    },
    "kernelspec": {
      "name": "python3",
      "display_name": "Python 3"
    }
  },
  "cells": [
    {
      "cell_type": "markdown",
      "metadata": {
        "id": "view-in-github",
        "colab_type": "text"
      },
      "source": [
        "<a href=\"https://colab.research.google.com/github/praveenraghuvanshi1512/EVA4/blob/Session-4/Session-4/Assignment-4/EVA_4_Assignment_4_Praveen_Raghuvanshi.ipynb\" target=\"_parent\"><img src=\"https://colab.research.google.com/assets/colab-badge.svg\" alt=\"Open In Colab\"/></a>"
      ]
    },
    {
      "cell_type": "code",
      "metadata": {
        "id": "dAeqGY3GKUNT",
        "colab_type": "code",
        "colab": {}
      },
      "source": [
        "# Import all the modules"
      ],
      "execution_count": 0,
      "outputs": []
    },
    {
      "cell_type": "code",
      "metadata": {
        "id": "lcXbdkx0QDrL",
        "colab_type": "code",
        "colab": {}
      },
      "source": [
        "# Load dataset"
      ],
      "execution_count": 0,
      "outputs": []
    },
    {
      "cell_type": "code",
      "metadata": {
        "id": "tIy3_Q7aQF2y",
        "colab_type": "code",
        "colab": {}
      },
      "source": [
        "# Pre-processing"
      ],
      "execution_count": 0,
      "outputs": []
    },
    {
      "cell_type": "code",
      "metadata": {
        "id": "q0qRLyOdQNbx",
        "colab_type": "code",
        "colab": {}
      },
      "source": [
        "# Define network"
      ],
      "execution_count": 0,
      "outputs": []
    },
    {
      "cell_type": "code",
      "metadata": {
        "id": "NYfC8oqyQQ8A",
        "colab_type": "code",
        "colab": {}
      },
      "source": [
        "# Hyperparameters"
      ],
      "execution_count": 0,
      "outputs": []
    },
    {
      "cell_type": "code",
      "metadata": {
        "id": "NdiXQb6gQWjH",
        "colab_type": "code",
        "colab": {}
      },
      "source": [
        "# Compile model"
      ],
      "execution_count": 0,
      "outputs": []
    },
    {
      "cell_type": "code",
      "metadata": {
        "id": "-4HWLVarQY8I",
        "colab_type": "code",
        "colab": {}
      },
      "source": [
        "# Train model"
      ],
      "execution_count": 0,
      "outputs": []
    },
    {
      "cell_type": "code",
      "metadata": {
        "id": "ORXPJthCQasg",
        "colab_type": "code",
        "colab": {}
      },
      "source": [
        "# Evaluate Model"
      ],
      "execution_count": 0,
      "outputs": []
    },
    {
      "cell_type": "code",
      "metadata": {
        "id": "9dAn_w-kQcaA",
        "colab_type": "code",
        "colab": {}
      },
      "source": [
        "# Plot acc and loss"
      ],
      "execution_count": 0,
      "outputs": []
    }
  ]
}