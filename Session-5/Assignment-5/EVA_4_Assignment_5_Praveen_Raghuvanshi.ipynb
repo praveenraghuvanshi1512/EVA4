{
  "nbformat": 4,
  "nbformat_minor": 0,
  "metadata": {
    "colab": {
      "name": "EVA-4-Assignment-4-Praveen-Raghuvanshi.ipynb",
      "provenance": [],
      "collapsed_sections": [],
      "toc_visible": true,
      "authorship_tag": "ABX9TyPKo/GUcnZxoIxVkB1KHWSU",
      "include_colab_link": true
    },
    "kernelspec": {
      "name": "python3",
      "display_name": "Python 3"
    },
    "accelerator": "GPU"
  },
  "cells": [
    {
      "cell_type": "markdown",
      "metadata": {
        "id": "view-in-github",
        "colab_type": "text"
      },
      "source": [
        "<a href=\"https://colab.research.google.com/github/praveenraghuvanshi1512/EVA4/blob/Session-4/Session-4/Assignment-4/EVA_4_Assignment_4_Praveen_Raghuvanshi.ipynb\" target=\"_parent\"><img src=\"https://colab.research.google.com/assets/colab-badge.svg\" alt=\"Open In Colab\"/></a>"
      ]
    },
    {
      "cell_type": "code",
      "metadata": {
        "id": "AETRex3eU1k4",
        "colab_type": "code",
        "outputId": "6fa8eb36-17ab-430f-de78-8262f042c976",
        "colab": {
          "base_uri": "https://localhost:8080/",
          "height": 101
        }
      },
      "source": [
        "# Install pytorch and tochvision \n",
        "!pip install torch torchvision"
      ],
      "execution_count": 1,
      "outputs": [
        {
          "output_type": "stream",
          "text": [
            "Requirement already satisfied: torch in /usr/local/lib/python3.6/dist-packages (1.4.0)\n",
            "Requirement already satisfied: torchvision in /usr/local/lib/python3.6/dist-packages (0.5.0)\n",
            "Requirement already satisfied: six in /usr/local/lib/python3.6/dist-packages (from torchvision) (1.12.0)\n",
            "Requirement already satisfied: pillow>=4.1.1 in /usr/local/lib/python3.6/dist-packages (from torchvision) (6.2.2)\n",
            "Requirement already satisfied: numpy in /usr/local/lib/python3.6/dist-packages (from torchvision) (1.17.5)\n"
          ],
          "name": "stdout"
        }
      ]
    },
    {
      "cell_type": "code",
      "metadata": {
        "id": "W0L-Gu22bQzn",
        "colab_type": "code",
        "outputId": "cdd6b90a-f648-477c-a76b-7522c474fcf4",
        "colab": {
          "base_uri": "https://localhost:8080/",
          "height": 302
        }
      },
      "source": [
        "!nvidia-smi"
      ],
      "execution_count": 2,
      "outputs": [
        {
          "output_type": "stream",
          "text": [
            "Tue Feb 11 21:04:09 2020       \n",
            "+-----------------------------------------------------------------------------+\n",
            "| NVIDIA-SMI 440.48.02    Driver Version: 418.67       CUDA Version: 10.1     |\n",
            "|-------------------------------+----------------------+----------------------+\n",
            "| GPU  Name        Persistence-M| Bus-Id        Disp.A | Volatile Uncorr. ECC |\n",
            "| Fan  Temp  Perf  Pwr:Usage/Cap|         Memory-Usage | GPU-Util  Compute M. |\n",
            "|===============================+======================+======================|\n",
            "|   0  Tesla T4            Off  | 00000000:00:04.0 Off |                    0 |\n",
            "| N/A   45C    P8    10W /  70W |      0MiB / 15079MiB |      0%      Default |\n",
            "+-------------------------------+----------------------+----------------------+\n",
            "                                                                               \n",
            "+-----------------------------------------------------------------------------+\n",
            "| Processes:                                                       GPU Memory |\n",
            "|  GPU       PID   Type   Process name                             Usage      |\n",
            "|=============================================================================|\n",
            "|  No running processes found                                                 |\n",
            "+-----------------------------------------------------------------------------+\n"
          ],
          "name": "stdout"
        }
      ]
    },
    {
      "cell_type": "code",
      "metadata": {
        "id": "dAeqGY3GKUNT",
        "colab_type": "code",
        "outputId": "33052b75-2095-4b6c-a62f-a31c750ac0c4",
        "colab": {
          "base_uri": "https://localhost:8080/",
          "height": 34
        }
      },
      "source": [
        "# Import libraries\n",
        "import pandas as pd\n",
        "import numpy as np\n",
        "\n",
        "# For reading and displaying images\n",
        "from skimage.io import imread\n",
        "import matplotlib.pyplot as plt\n",
        "%matplotlib inline\n",
        "\n",
        "# For creating validation set\n",
        "from sklearn.model_selection import train_test_split\n",
        "\n",
        "# from evaluating the model\n",
        "from sklearn.metrics import accuracy_score\n",
        "from tqdm import tqdm\n",
        "\n",
        "# Pytorch libraries and modules\n",
        "import torch\n",
        "import torch.nn as nn\n",
        "import torch.nn.functional as F\n",
        "from torch.autograd import Variable\n",
        "from torch.nn import Linear, ReLU, CrossEntropyLoss, Sequential, Module, Softmax, Dropout\n",
        "from torch.optim import Adam, SGD\n",
        "from torchvision import datasets, transforms, utils\n",
        "\n",
        "# Set the device\n",
        "device = torch.device(\"cuda\" if torch.cuda.is_available() else \"cpu\")\n",
        "print(device)"
      ],
      "execution_count": 3,
      "outputs": [
        {
          "output_type": "stream",
          "text": [
            "cuda\n"
          ],
          "name": "stdout"
        }
      ]
    },
    {
      "cell_type": "code",
      "metadata": {
        "id": "NYfC8oqyQQ8A",
        "colab_type": "code",
        "colab": {}
      },
      "source": [
        "# Constants and Hyperparameters\n",
        "PATH_TO_STORE_TRAINSET = './data'\n",
        "PATH_TO_STORE_TESTSET = './data'\n",
        "input_size = 784\n",
        "output_size = 10\n",
        "\n",
        "num_epochs = 20\n",
        "batch_size = 32\n",
        "learning_rate = 1e-4\n",
        "random_seed = 1"
      ],
      "execution_count": 0,
      "outputs": []
    },
    {
      "cell_type": "code",
      "metadata": {
        "id": "_ICF0PNSA-Vz",
        "colab_type": "code",
        "colab": {}
      },
      "source": [
        "# Transformations\n",
        "\n",
        "transform = transforms.Compose([transforms.ToTensor(),\n",
        "                                transforms.Normalize((0.1307,), (0.3081,)),\n",
        "                                ])"
      ],
      "execution_count": 0,
      "outputs": []
    },
    {
      "cell_type": "code",
      "metadata": {
        "id": "lcXbdkx0QDrL",
        "colab_type": "code",
        "outputId": "99733bc5-f2dd-4ab2-cc8e-81116d91cec7",
        "colab": {
          "base_uri": "https://localhost:8080/",
          "height": 50
        }
      },
      "source": [
        "# Load dataset\n",
        "train_dataset = datasets.MNIST(root=PATH_TO_STORE_TRAINSET, train=True, download=True, transform=transform)\n",
        "test_dataset  = datasets.MNIST(root=PATH_TO_STORE_TESTSET,  train=False, download=True, transform=transform)\n",
        "\n",
        "train_loader = torch.utils.data.DataLoader(train_dataset, batch_size=batch_size, shuffle=True)\n",
        "test_loader  = torch.utils.data.DataLoader(test_dataset,  batch_size=batch_size, shuffle=True)\n",
        "\n",
        "print(len(train_dataset))\n",
        "print(len(test_dataset))"
      ],
      "execution_count": 6,
      "outputs": [
        {
          "output_type": "stream",
          "text": [
            "60000\n",
            "10000\n"
          ],
          "name": "stdout"
        }
      ]
    },
    {
      "cell_type": "code",
      "metadata": {
        "id": "dcrOdBf-_Ibb",
        "colab_type": "code",
        "outputId": "8df5a137-0c15-4525-eb3a-baad87b6a825",
        "colab": {
          "base_uri": "https://localhost:8080/",
          "height": 416
        }
      },
      "source": [
        "# Data Analysis\n",
        "dataiter = iter(train_loader)\n",
        "images, labels = dataiter.next()\n",
        "\n",
        "print(images.shape)\n",
        "print(labels.shape)\n",
        "\n",
        "# Plot images\n",
        "plt.imshow(images[0].numpy().squeeze(), cmap='gray_r')\n",
        "\n",
        "figure = plt.figure()\n",
        "num_of_images = 30\n",
        "for index in range(1, num_of_images + 1):\n",
        "  plt.subplot(6, 10, index)\n",
        "  plt.axis('off')\n",
        "  plt.imshow(images[index].numpy().squeeze(), cmap='gray_r')"
      ],
      "execution_count": 9,
      "outputs": [
        {
          "output_type": "stream",
          "text": [
            "torch.Size([32, 1, 28, 28])\n",
            "torch.Size([32])\n"
          ],
          "name": "stdout"
        },
        {
          "output_type": "display_data",
          "data": {
            "image/png": "[encoded data removed]",
            "text/plain": [
              "<Figure size 432x288 with 1 Axes>"
            ]
          },
          "metadata": {
            "tags": []
          }
        },
        {
          "output_type": "display_data",
          "data": {
            "image/png": "[encoded data removed]",
            "text/plain": [
              "<Figure size 432x288 with 30 Axes>"
            ]
          },
          "metadata": {
            "tags": []
          }
        }
      ]
    },
    {
      "cell_type": "code",
      "metadata": {
        "id": "q0qRLyOdQNbx",
        "colab_type": "code",
        "colab": {}
      },
      "source": [
        "class Model(nn.Module):\n",
        "    def __init__(self):\n",
        "        super(Model, self).__init__()\n",
        "        self.conv1 = nn.Conv2d(1, 16, 3, bias=False)  # Input - 28, Output - 26, RF  - 3\n",
        "        self.bn1   = nn.BatchNorm2d(16)\n",
        "        self.conv2 = nn.Conv2d(16, 32, 3, bias=False) # Input - 26, Output - 24, RF  - 5\n",
        "        self.bn2   = nn.BatchNorm2d(32)\n",
        "        self.pool1 = nn.MaxPool2d(2, 2)               # Input - 24, Output - 12, RF  - 10\n",
        "        self.conv3 = nn.Conv2d(32, 16, 3, bias=False) # Input - 12, Output - 10, RF  - 12\n",
        "        self.bn3   = nn.BatchNorm2d(16)\n",
        "        self.conv4 = nn.Conv2d(16, 32, 3, bias=False) # Input - 10, Output - 8, RF  - 14\n",
        "        self.bn4   = nn.BatchNorm2d(32)\n",
        "        self.pool2 = nn.MaxPool2d(2, 2)               # Input - 8, Output - 4, RF  - 28\n",
        "        self.conv5 = nn.Conv2d(32, 10, 4, bias=False) # Input - 4, Output - 2, RF  - 30        \n",
        "        self.dropout = nn.Dropout2d(0.1)\n",
        "        \n",
        "    def forward(self, x):\n",
        "        x = self.pool1(self.dropout(F.relu(self.bn2(self.conv2(self.dropout(F.relu(self.bn1(self.conv1(x)))))))))\n",
        "        x = self.pool2(self.dropout(F.relu(self.bn4(self.conv4(self.dropout(F.relu(self.bn3(self.conv3(x)))))))))\n",
        "        x = self.conv5(x)\n",
        "        x = x.view(-1, 10)\n",
        "        return F.log_softmax(x)"
      ],
      "execution_count": 0,
      "outputs": []
    },
    {
      "cell_type": "code",
      "metadata": {
        "id": "G803R2_WGkC1",
        "colab_type": "code",
        "colab": {}
      },
      "source": [
        "# initialize CNN, cost, and optimizer\n",
        "model = Model()\n",
        "model.to(device)\n",
        "criterion = nn.NLLLoss()   # with log_softmax() as the last layer, this is equivalent to cross entropy loss\n",
        "optimizer = torch.optim.Adam(model.parameters(), lr=learning_rate)"
      ],
      "execution_count": 0,
      "outputs": []
    },
    {
      "cell_type": "code",
      "metadata": {
        "id": "YW2VC6D4Gn4C",
        "colab_type": "code",
        "outputId": "06e1f77c-69ad-49e4-e9fa-e6bd89de7e06",
        "colab": {
          "base_uri": "https://localhost:8080/",
          "height": 524
        }
      },
      "source": [
        "# Model summary\n",
        "from torchsummary import summary\n",
        "summary(model, input_size=(1, 28, 28))"
      ],
      "execution_count": 12,
      "outputs": [
        {
          "output_type": "stream",
          "text": [
            "----------------------------------------------------------------\n",
            "        Layer (type)               Output Shape         Param #\n",
            "================================================================\n",
            "            Conv2d-1           [-1, 16, 26, 26]             144\n",
            "       BatchNorm2d-2           [-1, 16, 26, 26]              32\n",
            "         Dropout2d-3           [-1, 16, 26, 26]               0\n",
            "            Conv2d-4           [-1, 32, 24, 24]           4,608\n",
            "       BatchNorm2d-5           [-1, 32, 24, 24]              64\n",
            "         Dropout2d-6           [-1, 32, 24, 24]               0\n",
            "         MaxPool2d-7           [-1, 32, 12, 12]               0\n",
            "            Conv2d-8           [-1, 16, 10, 10]           4,608\n",
            "       BatchNorm2d-9           [-1, 16, 10, 10]              32\n",
            "        Dropout2d-10           [-1, 16, 10, 10]               0\n",
            "           Conv2d-11             [-1, 32, 8, 8]           4,608\n",
            "      BatchNorm2d-12             [-1, 32, 8, 8]              64\n",
            "        Dropout2d-13             [-1, 32, 8, 8]               0\n",
            "        MaxPool2d-14             [-1, 32, 4, 4]               0\n",
            "           Conv2d-15             [-1, 10, 1, 1]           5,120\n",
            "================================================================\n",
            "Total params: 19,280\n",
            "Trainable params: 19,280\n",
            "Non-trainable params: 0\n",
            "----------------------------------------------------------------\n",
            "Input size (MB): 0.00\n",
            "Forward/backward pass size (MB): 0.79\n",
            "Params size (MB): 0.07\n",
            "Estimated Total Size (MB): 0.87\n",
            "----------------------------------------------------------------\n"
          ],
          "name": "stdout"
        },
        {
          "output_type": "stream",
          "text": [
            "/usr/local/lib/python3.6/dist-packages/ipykernel_launcher.py:22: UserWarning: Implicit dimension choice for log_softmax has been deprecated. Change the call to include dim=X as an argument.\n"
          ],
          "name": "stderr"
        }
      ]
    },
    {
      "cell_type": "code",
      "metadata": {
        "id": "-4HWLVarQY8I",
        "colab_type": "code",
        "outputId": "47a10761-0933-45b6-b9c1-9fb35e0f3918",
        "colab": {
          "base_uri": "https://localhost:8080/",
          "height": 440
        }
      },
      "source": [
        "# Training Time!\n",
        "import time\n",
        "import copy\n",
        "\n",
        "# Some initialization work first...\n",
        "train_losses, val_losses = [], []\n",
        "train_accu, val_accu = [], []\n",
        "start_time = time.time()\n",
        "early_stop_counter = 10   # stop when the validation loss does not improve for 10 iterations to prevent overfitting\n",
        "counter = 0\n",
        "best_val_loss = float('Inf')\n",
        "\n",
        "for e in tqdm(range(num_epochs)):\n",
        "    epoch_start_time = time.time()\n",
        "    running_loss = 0\n",
        "    accuracy=0\n",
        "    # training step\n",
        "    model.train()\n",
        "    for images, labels in train_loader:\n",
        "        images = images.to(device)\n",
        "        labels = labels.to(device)\n",
        "        optimizer.zero_grad()\n",
        "        log_ps = model(images)\n",
        "        \n",
        "        ps = torch.exp(log_ps)                \n",
        "        top_p, top_class = ps.topk(1, dim=1)\n",
        "        equals = top_class == labels.view(*top_class.shape)\n",
        "        accuracy += torch.mean(equals.type(torch.FloatTensor))\n",
        "        \n",
        "        loss = criterion(log_ps, labels)\n",
        "        loss.backward()\n",
        "        optimizer.step()\n",
        "        \n",
        "        running_loss += loss.item()\n",
        "    \n",
        "    # record training loss and error, then evaluate using validation data\n",
        "    train_losses.append(running_loss/len(train_loader))\n",
        "    train_accu.append(accuracy/len(train_loader))\n",
        "    val_loss = 0\n",
        "    accuracy=0\n",
        "    model.eval()\n",
        "    with torch.no_grad():\n",
        "        for images, labels in test_loader:\n",
        "            images = images.to(device)\n",
        "            labels = labels.to(device)\n",
        "            log_ps = model(images)\n",
        "            val_loss += criterion(log_ps, labels)\n",
        "\n",
        "            ps = torch.exp(log_ps)\n",
        "            top_p, top_class = ps.topk(1, dim=1)\n",
        "            equals = top_class == labels.view(*top_class.shape)\n",
        "            accuracy += torch.mean(equals.type(torch.FloatTensor))\n",
        "    val_losses.append(val_loss/len(test_loader))\n",
        "    val_accu.append(accuracy/len(test_loader))\n",
        "\n",
        "    print(\"Epoch: {}/{}.. \".format(e+1, num_epochs),\n",
        "          \"Time: {:.2f}s..\".format(time.time()-epoch_start_time),\n",
        "          \"Training Loss: {:.3f}.. \".format(train_losses[-1]),\n",
        "          \"Training Accu: {:.3f}.. \".format(train_accu[-1]),\n",
        "          \"Val Loss: {:.3f}.. \".format(val_losses[-1]),\n",
        "          \"Val Accu: {:.3f}\".format(val_accu[-1]))\n",
        "\n",
        "#     print('Epoch %d / %d took %6.2f seconds' % (e+1, epochs, time.time()-epoch_start_time))\n",
        "#     print('Total training time till this epoch was %8.2f seconds' % (time.time()-start_time))\n",
        "    \n",
        "    if val_losses[-1] < best_val_loss:\n",
        "        best_val_loss = val_losses[-1]\n",
        "        counter=0\n",
        "        best_model_wts = copy.deepcopy(model.state_dict())\n",
        "    else:\n",
        "        counter+=1\n",
        "        print('Validation loss has not improved since: {:.3f}..'.format(best_val_loss), 'Count: ', str(counter))\n",
        "        if counter >= early_stop_counter:\n",
        "            print('Early Stopping Now!!!!')\n",
        "            model.load_state_dict(best_model_wts)\n",
        "            break"
      ],
      "execution_count": 13,
      "outputs": [
        {
          "output_type": "stream",
          "text": [
            "  0%|          | 0/20 [00:00<?, ?it/s]/usr/local/lib/python3.6/dist-packages/ipykernel_launcher.py:22: UserWarning: Implicit dimension choice for log_softmax has been deprecated. Change the call to include dim=X as an argument.\n",
            "  5%|▌         | 1/20 [00:17<05:38, 17.84s/it]"
          ],
          "name": "stderr"
        },
        {
          "output_type": "stream",
          "text": [
            "Epoch: 1/20..  Time: 17.84s.. Training Loss: 0.538..  Training Accu: 0.869..  Val Loss: 0.129..  Val Accu: 0.967\n"
          ],
          "name": "stdout"
        },
        {
          "output_type": "stream",
          "text": [
            "\r 10%|█         | 2/20 [00:34<05:14, 17.47s/it]"
          ],
          "name": "stderr"
        },
        {
          "output_type": "stream",
          "text": [
            "Epoch: 2/20..  Time: 16.59s.. Training Loss: 0.139..  Training Accu: 0.964..  Val Loss: 0.074..  Val Accu: 0.979\n"
          ],
          "name": "stdout"
        },
        {
          "output_type": "stream",
          "text": [
            "\r 15%|█▌        | 3/20 [00:51<04:53, 17.28s/it]"
          ],
          "name": "stderr"
        },
        {
          "output_type": "stream",
          "text": [
            "Epoch: 3/20..  Time: 16.84s.. Training Loss: 0.096..  Training Accu: 0.973..  Val Loss: 0.057..  Val Accu: 0.984\n"
          ],
          "name": "stdout"
        },
        {
          "output_type": "stream",
          "text": [
            "\r 20%|██        | 4/20 [01:08<04:34, 17.15s/it]"
          ],
          "name": "stderr"
        },
        {
          "output_type": "stream",
          "text": [
            "Epoch: 4/20..  Time: 16.83s.. Training Loss: 0.076..  Training Accu: 0.978..  Val Loss: 0.044..  Val Accu: 0.987\n"
          ],
          "name": "stdout"
        },
        {
          "output_type": "stream",
          "text": [
            "\r 25%|██▌       | 5/20 [01:24<04:15, 17.05s/it]"
          ],
          "name": "stderr"
        },
        {
          "output_type": "stream",
          "text": [
            "Epoch: 5/20..  Time: 16.84s.. Training Loss: 0.067..  Training Accu: 0.980..  Val Loss: 0.040..  Val Accu: 0.987\n"
          ],
          "name": "stdout"
        },
        {
          "output_type": "stream",
          "text": [
            "\r 30%|███       | 6/20 [01:42<04:00, 17.15s/it]"
          ],
          "name": "stderr"
        },
        {
          "output_type": "stream",
          "text": [
            "Epoch: 6/20..  Time: 17.38s.. Training Loss: 0.059..  Training Accu: 0.983..  Val Loss: 0.036..  Val Accu: 0.988\n"
          ],
          "name": "stdout"
        },
        {
          "output_type": "stream",
          "text": [
            "\r 35%|███▌      | 7/20 [01:59<03:41, 17.03s/it]"
          ],
          "name": "stderr"
        },
        {
          "output_type": "stream",
          "text": [
            "Epoch: 7/20..  Time: 16.74s.. Training Loss: 0.053..  Training Accu: 0.984..  Val Loss: 0.034..  Val Accu: 0.990\n"
          ],
          "name": "stdout"
        },
        {
          "output_type": "stream",
          "text": [
            "\r 40%|████      | 8/20 [02:15<03:23, 16.97s/it]"
          ],
          "name": "stderr"
        },
        {
          "output_type": "stream",
          "text": [
            "Epoch: 8/20..  Time: 16.82s.. Training Loss: 0.050..  Training Accu: 0.985..  Val Loss: 0.031..  Val Accu: 0.990\n"
          ],
          "name": "stdout"
        },
        {
          "output_type": "stream",
          "text": [
            "\r 45%|████▌     | 9/20 [02:33<03:07, 17.04s/it]"
          ],
          "name": "stderr"
        },
        {
          "output_type": "stream",
          "text": [
            "Epoch: 9/20..  Time: 17.22s.. Training Loss: 0.047..  Training Accu: 0.986..  Val Loss: 0.028..  Val Accu: 0.990\n"
          ],
          "name": "stdout"
        },
        {
          "output_type": "stream",
          "text": [
            "\r 50%|█████     | 10/20 [02:49<02:49, 16.97s/it]"
          ],
          "name": "stderr"
        },
        {
          "output_type": "stream",
          "text": [
            "Epoch: 10/20..  Time: 16.80s.. Training Loss: 0.044..  Training Accu: 0.987..  Val Loss: 0.027..  Val Accu: 0.991\n"
          ],
          "name": "stdout"
        },
        {
          "output_type": "stream",
          "text": [
            "\r 55%|█████▌    | 11/20 [03:06<02:31, 16.78s/it]"
          ],
          "name": "stderr"
        },
        {
          "output_type": "stream",
          "text": [
            "Epoch: 11/20..  Time: 16.34s.. Training Loss: 0.042..  Training Accu: 0.988..  Val Loss: 0.027..  Val Accu: 0.992\n"
          ],
          "name": "stdout"
        },
        {
          "output_type": "stream",
          "text": [
            "\r 60%|██████    | 12/20 [03:23<02:14, 16.87s/it]"
          ],
          "name": "stderr"
        },
        {
          "output_type": "stream",
          "text": [
            "Epoch: 12/20..  Time: 17.07s.. Training Loss: 0.039..  Training Accu: 0.988..  Val Loss: 0.026..  Val Accu: 0.991\n"
          ],
          "name": "stdout"
        },
        {
          "output_type": "stream",
          "text": [
            "\r 65%|██████▌   | 13/20 [03:40<01:59, 17.02s/it]"
          ],
          "name": "stderr"
        },
        {
          "output_type": "stream",
          "text": [
            "Epoch: 13/20..  Time: 17.37s.. Training Loss: 0.037..  Training Accu: 0.989..  Val Loss: 0.024..  Val Accu: 0.992\n"
          ],
          "name": "stdout"
        },
        {
          "output_type": "stream",
          "text": [
            "\r 70%|███████   | 14/20 [03:57<01:41, 16.86s/it]"
          ],
          "name": "stderr"
        },
        {
          "output_type": "stream",
          "text": [
            "Epoch: 14/20..  Time: 16.48s.. Training Loss: 0.036..  Training Accu: 0.989..  Val Loss: 0.023..  Val Accu: 0.993\n"
          ],
          "name": "stdout"
        },
        {
          "output_type": "stream",
          "text": [
            "\r 75%|███████▌  | 15/20 [04:14<01:24, 16.93s/it]"
          ],
          "name": "stderr"
        },
        {
          "output_type": "stream",
          "text": [
            "Epoch: 15/20..  Time: 17.08s.. Training Loss: 0.034..  Training Accu: 0.989..  Val Loss: 0.024..  Val Accu: 0.993\n",
            "Validation loss has not improved since: 0.023.. Count:  1\n"
          ],
          "name": "stdout"
        },
        {
          "output_type": "stream",
          "text": [
            "\r 80%|████████  | 16/20 [04:31<01:07, 16.93s/it]"
          ],
          "name": "stderr"
        },
        {
          "output_type": "stream",
          "text": [
            "Epoch: 16/20..  Time: 16.94s.. Training Loss: 0.033..  Training Accu: 0.990..  Val Loss: 0.022..  Val Accu: 0.993\n"
          ],
          "name": "stdout"
        },
        {
          "output_type": "stream",
          "text": [
            "\r 85%|████████▌ | 17/20 [04:48<00:50, 16.89s/it]"
          ],
          "name": "stderr"
        },
        {
          "output_type": "stream",
          "text": [
            "Epoch: 17/20..  Time: 16.80s.. Training Loss: 0.032..  Training Accu: 0.990..  Val Loss: 0.024..  Val Accu: 0.993\n",
            "Validation loss has not improved since: 0.022.. Count:  1\n"
          ],
          "name": "stdout"
        },
        {
          "output_type": "stream",
          "text": [
            "\r 90%|█████████ | 18/20 [05:04<00:33, 16.88s/it]"
          ],
          "name": "stderr"
        },
        {
          "output_type": "stream",
          "text": [
            "Epoch: 18/20..  Time: 16.85s.. Training Loss: 0.030..  Training Accu: 0.991..  Val Loss: 0.021..  Val Accu: 0.993\n"
          ],
          "name": "stdout"
        },
        {
          "output_type": "stream",
          "text": [
            "\r 95%|█████████▌| 19/20 [05:22<00:17, 17.09s/it]"
          ],
          "name": "stderr"
        },
        {
          "output_type": "stream",
          "text": [
            "Epoch: 19/20..  Time: 17.59s.. Training Loss: 0.030..  Training Accu: 0.991..  Val Loss: 0.021..  Val Accu: 0.993\n"
          ],
          "name": "stdout"
        },
        {
          "output_type": "stream",
          "text": [
            "\r100%|██████████| 20/20 [05:39<00:00, 17.03s/it]"
          ],
          "name": "stderr"
        },
        {
          "output_type": "stream",
          "text": [
            "Epoch: 20/20..  Time: 16.88s.. Training Loss: 0.029..  Training Accu: 0.991..  Val Loss: 0.020..  Val Accu: 0.994\n"
          ],
          "name": "stdout"
        },
        {
          "output_type": "stream",
          "text": [
            "\n"
          ],
          "name": "stderr"
        }
      ]
    },
    {
      "cell_type": "code",
      "metadata": {
        "id": "ORXPJthCQasg",
        "colab_type": "code",
        "outputId": "bf24d42f-6a97-4aa7-bdca-658cb2305ed7",
        "colab": {
          "base_uri": "https://localhost:8080/",
          "height": 700
        }
      },
      "source": [
        "# plot training history\n",
        "plt.figure(figsize=(12,12))\n",
        "plt.subplot(2,1,1)\n",
        "ax = plt.gca()\n",
        "ax.set_xlim([0, e + 2])\n",
        "plt.ylabel('Loss')\n",
        "plt.plot(range(1, e + 2), train_losses[:e+1], 'r', label='Training Loss')\n",
        "plt.plot(range(1, e + 2), val_losses[:e+1], 'b', label='Validation Loss')\n",
        "ax.grid(linestyle='-.')\n",
        "plt.legend()\n",
        "plt.subplot(2,1,2)\n",
        "ax = plt.gca()\n",
        "ax.set_xlim([0, e+2])\n",
        "plt.ylabel('Accuracy')\n",
        "plt.plot(range(1, e + 2), train_accu[:e+1], 'r', label='Training Accuracy')\n",
        "plt.plot(range(1, e + 2), val_accu[:e+1], 'b', label='Validation Accuracy')\n",
        "ax.grid(linestyle='-.')\n",
        "plt.legend()\n",
        "plt.show()"
      ],
      "execution_count": 14,
      "outputs": [
        {
          "output_type": "display_data",
          "data": {
            "image/png": "[encoded data removed]",
            "text/plain": [
              "<Figure size 864x864 with 2 Axes>"
            ]
          },
          "metadata": {
            "tags": []
          }
        }
      ]
    },
    {
      "cell_type": "code",
      "metadata": {
        "id": "uTU-4G7wtkmz",
        "colab_type": "code",
        "colab": {}
      },
      "source": [
        ""
      ],
      "execution_count": 0,
      "outputs": []
    }
  ]
}