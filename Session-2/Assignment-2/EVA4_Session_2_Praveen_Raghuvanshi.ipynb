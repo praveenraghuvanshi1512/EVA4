{
  "nbformat": 4,
  "nbformat_minor": 0,
  "metadata": {
    "colab": {
      "name": "EVA4-Session-2- Praveen-Raghuvanshi.ipynb",
      "provenance": [],
      "collapsed_sections": []
    },
    "kernelspec": {
      "name": "python3",
      "display_name": "Python 3"
    },
    "accelerator": "GPU"
  },
  "cells": [
    {
      "cell_type": "code",
      "metadata": {
        "id": "0m2JWFliFfKT",
        "colab_type": "code",
        "colab": {}
      },
      "source": [
        "# Import all the required modules for this network\n",
        "from __future__ import print_function         \n",
        "import torch                                  # PyTorch library\n",
        "import torch.nn as nn                         # PyTorch Neural Network library\n",
        "import torch.nn.functional as F               # Different funtions within neural networks such as Activation and Loss functions \n",
        "import torch.optim as optim                   # Diffrerent Optimizer algorithms such as Adam, RMSProp\n",
        "from torchvision import datasets, transforms  # Datasets for storing data and transforms for transforming the data such as scale, resize etc"
      ],
      "execution_count": 0,
      "outputs": []
    },
    {
      "cell_type": "code",
      "metadata": {
        "id": "h_Cx9q2QFgM7",
        "colab_type": "code",
        "colab": {}
      },
      "source": [
        "class Net(nn.Module):\n",
        "    ''' Custom Neural Network \n",
        "    This is a class extended from pytorch inbuilt class 'Module'. '''\n",
        "    def __init__(self):\n",
        "        # Call to base class constrcutor\n",
        "        super(Net, self).__init__()\n",
        "\n",
        "        # Defining different layers such as convolution and pool\n",
        "        # Conv2d represents a Convolution on an image of 2D.\n",
        "        #     First Parameter: Input no of channels           - [1] - Black/White image\n",
        "        #     Second Parameter: Output no of channels         - [32]\n",
        "        #     Third Parameter: Kernel size such as 3 for 3x3  - [3]\n",
        "        # MaxPool represents Max pooling which reduces the image size.\n",
        "        # Last Conv2D: It has output channel size of 10 which is the no of classes, here it is digits 0-9.\n",
        "        self.conv1 = nn.Conv2d(1, 32, 3, padding=1)         # input - 28x28x1,  Output - 26x26x32,   RF - 3x3\n",
        "        self.conv2 = nn.Conv2d(32, 64, 3, padding=1)        # input - 26x26x32, Output - 26x26x64,   RF - 5x5\n",
        "        self.pool1 = nn.MaxPool2d(2, 2)                     # input - 26x26x64, Output - 14x14x64,   RF - 10x10\n",
        "\n",
        "        self.conv3 = nn.Conv2d(64, 128, 3, padding=1)       # input - 14x14x64,  Output - 12x12x128, RF - 12x12\n",
        "        self.conv4 = nn.Conv2d(128, 256, 3, padding=1)      # input - 12x12x128, Output - 10x10x256, RF - 14x14\n",
        "        self.pool2 = nn.MaxPool2d(2, 2)                     # input - 10x10x256, Output - 5x5x256,   RF - 28x28\n",
        "\n",
        "        self.conv5 = nn.Conv2d(256, 512, 3)                 # input - 5x5x256, Output - 3x3x512,     RF - 30x30\n",
        "        self.conv6 = nn.Conv2d(512, 1024, 3)                # input - 3x3x512, Output - 1x1x1024,    RF - 32x32\n",
        "\n",
        "        self.conv7 = nn.Conv2d(1024, 10, 3)                 # input - 1x1x1024, Output - 1x1x10,     RF - 34x34\n",
        "\n",
        "    \n",
        "    def forward(self, x):\n",
        "        ''' Performs forward propagation in neural netowrk\n",
        "            An overwridden of base class forward function'''\n",
        "        x = self.pool1(F.relu(self.conv2(F.relu(self.conv1(x))))) # Block 1: Conv -> Relu -> Conv -> Relu -> Pool\n",
        "        x = self.pool2(F.relu(self.conv4(F.relu(self.conv3(x))))) # Block 2: Conv -> Relu -> Conv -> Relu -> Pool\n",
        "        x = F.relu(self.conv6(F.relu(self.conv5(x))))             # Block 3: Conv -> Relu -> Conv -> Relu\n",
        "        x = F.relu(self.conv7(x))                                 # Block 4:Conv -> Relu\n",
        "        x = x.view(-1, 10)                                        # View reshapes a tensor, here we are specifying 10 for num of classes\n",
        "\n",
        "        return F.log_softmax(x) # Passes a tensor to Softmax function to convert activations to probabilistic scores"
      ],
      "execution_count": 0,
      "outputs": []
    },
    {
      "cell_type": "code",
      "metadata": {
        "colab_type": "code",
        "id": "xdydjYTZFyi3",
        "colab": {
          "base_uri": "https://localhost:8080/",
          "height": 440
        },
        "outputId": "0d36ce93-7165-47ca-aa5a-f7c5ae404870"
      },
      "source": [
        "# Install torchsummary, a package for printing model summary similar to keras model.summary\n",
        "!pip install torchsummary\n",
        "from torchsummary import summary\n",
        "\n",
        "# Check if 'cuda' is present or not\n",
        "use_cuda = torch.cuda.is_available()\n",
        "device = torch.device(\"cuda\" if use_cuda else \"cpu\")\n",
        "\n",
        "# Create a neural network and assign it to device memory\n",
        "model = Net().to(device)\n",
        "\n",
        "# print model summary and pass model input size which is the image size\n",
        "# In this case, (1, 28, 28) --> (channel, height, width)\n",
        "summary(model, input_size=(1, 28, 28))"
      ],
      "execution_count": 4,
      "outputs": [
        {
          "output_type": "stream",
          "text": [
            "Requirement already satisfied: torchsummary in /usr/local/lib/python3.6/dist-packages (1.5.1)\n",
            "----------------------------------------------------------------\n",
            "        Layer (type)               Output Shape         Param #\n",
            "================================================================\n",
            "            Conv2d-1           [-1, 32, 28, 28]             320\n",
            "            Conv2d-2           [-1, 64, 28, 28]          18,496\n",
            "         MaxPool2d-3           [-1, 64, 14, 14]               0\n",
            "            Conv2d-4          [-1, 128, 14, 14]          73,856\n",
            "            Conv2d-5          [-1, 256, 14, 14]         295,168\n",
            "         MaxPool2d-6            [-1, 256, 7, 7]               0\n",
            "            Conv2d-7            [-1, 512, 5, 5]       1,180,160\n",
            "            Conv2d-8           [-1, 1024, 3, 3]       4,719,616\n",
            "            Conv2d-9             [-1, 10, 1, 1]          92,170\n",
            "================================================================\n",
            "Total params: 6,379,786\n",
            "Trainable params: 6,379,786\n",
            "Non-trainable params: 0\n",
            "----------------------------------------------------------------\n",
            "Input size (MB): 0.00\n",
            "Forward/backward pass size (MB): 1.51\n",
            "Params size (MB): 24.34\n",
            "Estimated Total Size (MB): 25.85\n",
            "----------------------------------------------------------------\n"
          ],
          "name": "stdout"
        },
        {
          "output_type": "stream",
          "text": [
            "/usr/local/lib/python3.6/dist-packages/ipykernel_launcher.py:38: UserWarning: Implicit dimension choice for log_softmax has been deprecated. Change the call to include dim=X as an argument.\n"
          ],
          "name": "stderr"
        }
      ]
    },
    {
      "cell_type": "code",
      "metadata": {
        "id": "DqTWLaM5GHgH",
        "colab_type": "code",
        "colab": {
          "base_uri": "https://localhost:8080/",
          "height": 252
        },
        "outputId": "5f055a8f-068d-47f6-ccc7-2ef905f093bd"
      },
      "source": [
        "\n",
        "# A seed it assigned for reproduciblity. For e.g same value is returned for every call to torch.rand(2)\n",
        "torch.manual_seed(1)\n",
        "batch_size = 128  # Batch size is the no of samples to be loaded within every forward/backward pass\n",
        "\n",
        "kwargs = {'num_workers': 1, 'pin_memory': True} if use_cuda else {}         # num_workers allows parallel processing of items within a batch. pin_memory=True is used for faster copies from a host \n",
        "train_loader = torch.utils.data.DataLoader(                                 # Loading the train data. DataLoader is used to load the data which can be iterated.\n",
        "    datasets.MNIST('../data', train=True, download=True,                    # Here we are downloading MNSIT dataset and assigning to dataset\n",
        "                    transform=transforms.Compose([                          # Here we are composing different trasnformations\n",
        "                        transforms.ToTensor(),                              # First transformation of Converting to Tensor\n",
        "                        transforms.Normalize((0.1307,), (0.3081,))          # Second transformation of Normalizing data with mean and standard devication\n",
        "                    ])),\n",
        "    batch_size=batch_size, shuffle=True, **kwargs)                          # Specifying batch size, Shuffle=True allows using different data every time\n",
        "test_loader = torch.utils.data.DataLoader(                                  # Loading the test data. DataLoader is used to load the data which can be iterated.\n",
        "    datasets.MNIST('../data', train=False, transform=transforms.Compose([   # Here we are composing different trasnformations\n",
        "                        transforms.ToTensor(),                              # First transformation of Converting to Tensor\n",
        "                        transforms.Normalize((0.1307,), (0.3081,))          # Second transformation of Normalizing data with mean and standard devication\n",
        "                    ])),\n",
        "    batch_size=batch_size, shuffle=True, **kwargs)                          # Specifying batch size, Shuffle=True allows using different data every time\n"
      ],
      "execution_count": 5,
      "outputs": [
        {
          "output_type": "stream",
          "text": [
            "\r0it [00:00, ?it/s]"
          ],
          "name": "stderr"
        },
        {
          "output_type": "stream",
          "text": [
            "Downloading http://yann.lecun.com/exdb/mnist/train-images-idx3-ubyte.gz to ../data/MNIST/raw/train-images-idx3-ubyte.gz\n"
          ],
          "name": "stdout"
        },
        {
          "output_type": "stream",
          "text": [
            "9920512it [00:01, 8883817.66it/s]                            \n"
          ],
          "name": "stderr"
        },
        {
          "output_type": "stream",
          "text": [
            "Extracting ../data/MNIST/raw/train-images-idx3-ubyte.gz to ../data/MNIST/raw\n"
          ],
          "name": "stdout"
        },
        {
          "output_type": "stream",
          "text": [
            "  0%|          | 0/28881 [00:00<?, ?it/s]"
          ],
          "name": "stderr"
        },
        {
          "output_type": "stream",
          "text": [
            "Downloading http://yann.lecun.com/exdb/mnist/train-labels-idx1-ubyte.gz to ../data/MNIST/raw/train-labels-idx1-ubyte.gz\n"
          ],
          "name": "stdout"
        },
        {
          "output_type": "stream",
          "text": [
            "32768it [00:00, 134693.63it/s]           \n",
            "  0%|          | 0/1648877 [00:00<?, ?it/s]"
          ],
          "name": "stderr"
        },
        {
          "output_type": "stream",
          "text": [
            "Extracting ../data/MNIST/raw/train-labels-idx1-ubyte.gz to ../data/MNIST/raw\n",
            "Downloading http://yann.lecun.com/exdb/mnist/t10k-images-idx3-ubyte.gz to ../data/MNIST/raw/t10k-images-idx3-ubyte.gz\n"
          ],
          "name": "stdout"
        },
        {
          "output_type": "stream",
          "text": [
            "1654784it [00:00, 2201617.41it/s]                            \n",
            "0it [00:00, ?it/s]"
          ],
          "name": "stderr"
        },
        {
          "output_type": "stream",
          "text": [
            "Extracting ../data/MNIST/raw/t10k-images-idx3-ubyte.gz to ../data/MNIST/raw\n",
            "Downloading http://yann.lecun.com/exdb/mnist/t10k-labels-idx1-ubyte.gz to ../data/MNIST/raw/t10k-labels-idx1-ubyte.gz\n"
          ],
          "name": "stdout"
        },
        {
          "output_type": "stream",
          "text": [
            "8192it [00:00, 51980.98it/s]            \n"
          ],
          "name": "stderr"
        },
        {
          "output_type": "stream",
          "text": [
            "Extracting ../data/MNIST/raw/t10k-labels-idx1-ubyte.gz to ../data/MNIST/raw\n",
            "Processing...\n",
            "Done!\n"
          ],
          "name": "stdout"
        }
      ]
    },
    {
      "cell_type": "code",
      "metadata": {
        "id": "8fDefDhaFlwH",
        "colab_type": "code",
        "colab": {}
      },
      "source": [
        "from tqdm import tqdm                                                           # tqdm is a utility for displaying progress bar\n",
        "def train(model, device, train_loader, optimizer, epoch):                       # Method that does actual training of a model using different things\n",
        "    model.train()                                                               # Actual training of our neural network\n",
        "    pbar = tqdm(train_loader)                                                   # Passing training data loader to the tqdm object for the progress bar\n",
        "    for batch_idx, (data, target) in enumerate(pbar):                           # Enumerating the progress bar object that returns a tuple\n",
        "        data, target = data.to(device), target.to(device)                       # Assigning data and target to device memory\n",
        "        optimizer.zero_grad()                                                   # Zero_grad does clear(zero) all the gradients before back propagation in order to avoid adding to earlier gradients\n",
        "        output = model(data)                                                    # We pass data to our model and get the output\n",
        "        loss = F.nll_loss(output, target)                                       # nll_loss is a negative log loss function which is used to optimize the parameters of a network \n",
        "        loss.backward()                                                         # It computes gradient of loss for all parameters in loss that have requires_grad=True\n",
        "        optimizer.step()                                                        # Its a Gradient descent\n",
        "        pbar.set_description(desc= f'loss={loss.item()} batch_id={batch_idx}')  # Create a progress bar with loss and batch_id\n",
        "\n",
        "\n",
        "def test(model, device, test_loader):                                                                   # Method that does actual training of a model using different things\n",
        "    model.eval()                                                                                        # Evaluate a model with a score on how well it performed\n",
        "    test_loss = 0                                                                                       # Test loss\n",
        "    correct = 0                                                                                         # Accuracy\n",
        "    with torch.no_grad():                                                                               # It will make all operations in the block have no gradients\n",
        "        for data, target in test_loader:                                                                # Enumerate over test loader\n",
        "            data, target = data.to(device), target.to(device)                                           # Assigning data and target to device memory\n",
        "            output = model(data)                                                                        # We pass data to our model and get the output\n",
        "            test_loss += F.nll_loss(output, target, reduction='sum').item()                             # sum up batch loss\n",
        "            pred = output.argmax(dim=1, keepdim=True)                                                   # get the index of the max log-probability\n",
        "            correct += pred.eq(target.view_as(pred)).sum().item()                                       # Compute Accuracy\n",
        "\n",
        "    test_loss /= len(test_loader.dataset)                                                               # Compute Test loss\n",
        "\n",
        "    print('\\nTest set: Average loss: {:.4f}, Accuracy: {}/{} ({:.0f}%)\\n'.format(                       # Print Average loss and accuracy\n",
        "        test_loss, correct, len(test_loader.dataset),\n",
        "        100. * correct / len(test_loader.dataset)))"
      ],
      "execution_count": 0,
      "outputs": []
    },
    {
      "cell_type": "code",
      "metadata": {
        "id": "MMWbLWO6FuHb",
        "colab_type": "code",
        "colab": {
          "base_uri": "https://localhost:8080/",
          "height": 121
        },
        "outputId": "c186e37c-557d-49b2-ec0a-bafd9dd2545a"
      },
      "source": [
        "\n",
        "model = Net().to(device)                                                    # Create a neural network and assign it to device memory\n",
        "optimizer = optim.SGD(model.parameters(), lr=0.01, momentum=0.9)            # Using SGD optimizer with learning rate of 0.01 and momentum of 0.9\n",
        "\n",
        "for epoch in range(1, 2):                                                   # Enumerate over 1 epochs\n",
        "    train(model, device, train_loader, optimizer, epoch)                    # Perform model training \n",
        "    test(model, device, test_loader)                                        # Perform model testing"
      ],
      "execution_count": 7,
      "outputs": [
        {
          "output_type": "stream",
          "text": [
            "  0%|          | 0/469 [00:00<?, ?it/s]/usr/local/lib/python3.6/dist-packages/ipykernel_launcher.py:38: UserWarning: Implicit dimension choice for log_softmax has been deprecated. Change the call to include dim=X as an argument.\n",
            "loss=1.9513400793075562 batch_id=468: 100%|██████████| 469/469 [00:18<00:00, 25.71it/s]\n"
          ],
          "name": "stderr"
        },
        {
          "output_type": "stream",
          "text": [
            "\n",
            "Test set: Average loss: 1.8775, Accuracy: 2872/10000 (29%)\n",
            "\n"
          ],
          "name": "stdout"
        }
      ]
    }
  ]
}