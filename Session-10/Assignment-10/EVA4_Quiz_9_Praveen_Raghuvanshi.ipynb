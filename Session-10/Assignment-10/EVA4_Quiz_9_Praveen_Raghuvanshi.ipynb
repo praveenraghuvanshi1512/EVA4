{
  "nbformat": 4,
  "nbformat_minor": 0,
  "metadata": {
    "colab": {
      "name": "EVA4-Quiz-9-Praveen-Raghuvanshi.ipynb",
      "provenance": [],
      "authorship_tag": "ABX9TyMGzp9Q2kYI8oXA7r1y9qk7",
      "include_colab_link": true
    },
    "kernelspec": {
      "name": "python3",
      "display_name": "Python 3"
    },
    "accelerator": "GPU"
  },
  "cells": [
    {
      "cell_type": "markdown",
      "metadata": {
        "id": "view-in-github",
        "colab_type": "text"
      },
      "source": [
        "<a href=\"https://colab.research.google.com/github/praveenraghuvanshi1512/EVA4/blob/Session-9/Session-9/Assignment-9/EVA4_Quiz_9_Praveen_Raghuvanshi.ipynb\" target=\"_parent\"><img src=\"https://colab.research.google.com/assets/colab-badge.svg\" alt=\"Open In Colab\"/></a>"
      ]
    },
    {
      "cell_type": "code",
      "metadata": {
        "id": "Pj_IXe8c0rIH",
        "colab_type": "code",
        "outputId": "39ccb674-6e3a-475f-969d-6ed99c48f4d9",
        "colab": {
          "base_uri": "https://localhost:8080/",
          "height": 34
        }
      },
      "source": [
        "import datetime\n",
        "x = datetime.datetime.now()\n",
        "print(x)"
      ],
      "execution_count": 0,
      "outputs": [
        {
          "output_type": "stream",
          "text": [
            "2020-03-17 23:40:29.329306\n"
          ],
          "name": "stdout"
        }
      ]
    },
    {
      "cell_type": "markdown",
      "metadata": {
        "id": "0Y0OhocW1vGF",
        "colab_type": "text"
      },
      "source": [
        "## Steps Summary"
      ]
    },
    {
      "cell_type": "code",
      "metadata": {
        "id": "MonoftVB10LU",
        "colab_type": "code",
        "colab": {}
      },
      "source": [
        "# 1. Mount google drive\n",
        "# 2. Set the directory path of google drive\n",
        "# 3. Import all modules and libraries\n",
        "# 4. Set Device\n",
        "# 5. Import all the functions\n",
        "# 6. Load transformations\n",
        "# 7. Load dataset\n",
        "# 8. Load Classes\n",
        "# 9. Display sample images\n",
        "# 10. Load Resnet18 Model\n",
        "# 11. Define Loss function and optimizer\n",
        "# 12. Run train and test"
      ],
      "execution_count": 0,
      "outputs": []
    },
    {
      "cell_type": "markdown",
      "metadata": {
        "id": "GRzVOmLQ13Pk",
        "colab_type": "text"
      },
      "source": [
        "### 1. Mount google drive"
      ]
    },
    {
      "cell_type": "code",
      "metadata": {
        "id": "0qVdONhZ14Jl",
        "colab_type": "code",
        "outputId": "4d08d692-7326-43d0-d9fc-269fa903cc6e",
        "colab": {
          "base_uri": "https://localhost:8080/",
          "height": 34
        }
      },
      "source": [
        "# Load data from Google drive\n",
        "from google.colab import drive\n",
        "drive.mount('/content/drive')"
      ],
      "execution_count": 0,
      "outputs": [
        {
          "output_type": "stream",
          "text": [
            "Drive already mounted at /content/drive; to attempt to forcibly remount, call drive.mount(\"/content/drive\", force_remount=True).\n"
          ],
          "name": "stdout"
        }
      ]
    },
    {
      "cell_type": "markdown",
      "metadata": {
        "id": "5r0jTiK72Fqk",
        "colab_type": "text"
      },
      "source": [
        "### 2. Set the directory path of google drive"
      ]
    },
    {
      "cell_type": "code",
      "metadata": {
        "id": "ezvJdBZu2GQG",
        "colab_type": "code",
        "colab": {}
      },
      "source": [
        "import sys\n",
        "%load_ext autoreload\n",
        "%autoreload 2\n",
        "sys.path.append('/content/drive/My Drive/eva-4/assignment-9')\n",
        "sys.path.append('/content/drive/My Drive/eva-4/assignment-9/models')"
      ],
      "execution_count": 0,
      "outputs": []
    },
    {
      "cell_type": "code",
      "metadata": {
        "id": "D1I9OphG2L05",
        "colab_type": "code",
        "outputId": "bdcdf3d0-dbf8-4de7-b1e8-c9304dd823c8",
        "colab": {
          "base_uri": "https://localhost:8080/",
          "height": 34
        }
      },
      "source": [
        "cd '/content/drive/My Drive/eva-4/assignment-9'"
      ],
      "execution_count": 0,
      "outputs": [
        {
          "output_type": "stream",
          "text": [
            "/content/drive/My Drive/eva-4/assignment-9\n"
          ],
          "name": "stdout"
        }
      ]
    },
    {
      "cell_type": "code",
      "metadata": {
        "id": "tdLN55f12Pew",
        "colab_type": "code",
        "outputId": "ad9fba72-f8c8-4873-86c8-af104c4449d2",
        "colab": {
          "base_uri": "https://localhost:8080/",
          "height": 50
        }
      },
      "source": [
        "ls"
      ],
      "execution_count": 0,
      "outputs": [
        {
          "output_type": "stream",
          "text": [
            "augmentation.py  \u001b[0m\u001b[01;34mgradcam\u001b[0m/  \u001b[01;34moutputs\u001b[0m/      S9_functions.py  utils.py\n",
            "\u001b[01;34mdata\u001b[0m/            \u001b[01;34mmodels\u001b[0m/   \u001b[01;34m__pycache__\u001b[0m/  \u001b[01;34msampleimages\u001b[0m/\n"
          ],
          "name": "stdout"
        }
      ]
    },
    {
      "cell_type": "markdown",
      "metadata": {
        "id": "Vt_1eNX52bLu",
        "colab_type": "text"
      },
      "source": [
        "### 3. Import all modules and libraries"
      ]
    },
    {
      "cell_type": "code",
      "metadata": {
        "id": "2asiTu6q2Rqs",
        "colab_type": "code",
        "colab": {}
      },
      "source": [
        "import torch\n",
        "import torch.nn as nn\n",
        "import torch.nn.functional as F\n",
        "import torchvision\n",
        "import torchvision.transforms as transforms\n",
        "import torch.optim as optim\n",
        "import numpy as np\n",
        "from torchvision.utils import make_grid"
      ],
      "execution_count": 0,
      "outputs": []
    },
    {
      "cell_type": "markdown",
      "metadata": {
        "id": "783ZpQBP2v-U",
        "colab_type": "text"
      },
      "source": [
        "### 4. Set Device"
      ]
    },
    {
      "cell_type": "code",
      "metadata": {
        "id": "urV2nOdH2gsq",
        "colab_type": "code",
        "outputId": "c8a4ef7d-bc00-43e9-bccb-c69f65f653d6",
        "colab": {
          "base_uri": "https://localhost:8080/",
          "height": 34
        }
      },
      "source": [
        "use_cuda = torch.cuda.is_available()\n",
        "device = torch.device(\"cuda\" if use_cuda else \"cpu\")\n",
        "print(device)"
      ],
      "execution_count": 0,
      "outputs": [
        {
          "output_type": "stream",
          "text": [
            "cpu\n"
          ],
          "name": "stdout"
        }
      ]
    },
    {
      "cell_type": "markdown",
      "metadata": {
        "id": "gVRMOwF123rt",
        "colab_type": "text"
      },
      "source": [
        "###  5. Import all the functions"
      ]
    },
    {
      "cell_type": "code",
      "metadata": {
        "id": "VsiF4Lhz2joa",
        "colab_type": "code",
        "colab": {}
      },
      "source": [
        "from model import Net, ResNet, resnet18\n",
        "from QuizDNN import QuizDNN\n",
        "from S9_functions import myfunc, transformations, loadcifar10dataset, getclasses, display, train, test, imshow, getoptimizer"
      ],
      "execution_count": 0,
      "outputs": []
    },
    {
      "cell_type": "markdown",
      "metadata": {
        "id": "fDd8NEK-3P2p",
        "colab_type": "text"
      },
      "source": [
        "###  6. Load Transformations"
      ]
    },
    {
      "cell_type": "code",
      "metadata": {
        "id": "yCa13dD33QOS",
        "colab_type": "code",
        "outputId": "2f57d09e-c4ec-4647-8f80-28abda78b427",
        "colab": {
          "base_uri": "https://localhost:8080/",
          "height": 642
        }
      },
      "source": [
        "!pip install -U git+https://github.com/albu/albumentations --no-cache-dir"
      ],
      "execution_count": 0,
      "outputs": [
        {
          "output_type": "stream",
          "text": [
            "Collecting git+https://github.com/albu/albumentations\n",
            "  Cloning https://github.com/albu/albumentations to /tmp/pip-req-build-causxqff\n",
            "  Running command git clone -q https://github.com/albu/albumentations /tmp/pip-req-build-causxqff\n",
            "Requirement already satisfied, skipping upgrade: numpy>=1.11.1 in /usr/local/lib/python3.6/dist-packages (from albumentations==0.4.5) (1.18.1)\n",
            "Requirement already satisfied, skipping upgrade: scipy in /usr/local/lib/python3.6/dist-packages (from albumentations==0.4.5) (1.4.1)\n",
            "Requirement already satisfied, skipping upgrade: imgaug<0.2.7,>=0.2.5 in /usr/local/lib/python3.6/dist-packages (from albumentations==0.4.5) (0.2.6)\n",
            "Requirement already satisfied, skipping upgrade: PyYAML in /usr/local/lib/python3.6/dist-packages (from albumentations==0.4.5) (3.13)\n",
            "Requirement already satisfied, skipping upgrade: opencv-python>=4.1.1 in /usr/local/lib/python3.6/dist-packages (from albumentations==0.4.5) (4.1.2.30)\n",
            "Requirement already satisfied, skipping upgrade: six in /usr/local/lib/python3.6/dist-packages (from imgaug<0.2.7,>=0.2.5->albumentations==0.4.5) (1.12.0)\n",
            "Requirement already satisfied, skipping upgrade: scikit-image>=0.11.0 in /usr/local/lib/python3.6/dist-packages (from imgaug<0.2.7,>=0.2.5->albumentations==0.4.5) (0.16.2)\n",
            "Requirement already satisfied, skipping upgrade: imageio>=2.3.0 in /usr/local/lib/python3.6/dist-packages (from scikit-image>=0.11.0->imgaug<0.2.7,>=0.2.5->albumentations==0.4.5) (2.4.1)\n",
            "Requirement already satisfied, skipping upgrade: pillow>=4.3.0 in /usr/local/lib/python3.6/dist-packages (from scikit-image>=0.11.0->imgaug<0.2.7,>=0.2.5->albumentations==0.4.5) (7.0.0)\n",
            "Requirement already satisfied, skipping upgrade: matplotlib!=3.0.0,>=2.0.0 in /usr/local/lib/python3.6/dist-packages (from scikit-image>=0.11.0->imgaug<0.2.7,>=0.2.5->albumentations==0.4.5) (3.2.0)\n",
            "Requirement already satisfied, skipping upgrade: networkx>=2.0 in /usr/local/lib/python3.6/dist-packages (from scikit-image>=0.11.0->imgaug<0.2.7,>=0.2.5->albumentations==0.4.5) (2.4)\n",
            "Requirement already satisfied, skipping upgrade: PyWavelets>=0.4.0 in /usr/local/lib/python3.6/dist-packages (from scikit-image>=0.11.0->imgaug<0.2.7,>=0.2.5->albumentations==0.4.5) (1.1.1)\n",
            "Requirement already satisfied, skipping upgrade: python-dateutil>=2.1 in /usr/local/lib/python3.6/dist-packages (from matplotlib!=3.0.0,>=2.0.0->scikit-image>=0.11.0->imgaug<0.2.7,>=0.2.5->albumentations==0.4.5) (2.8.1)\n",
            "Requirement already satisfied, skipping upgrade: pyparsing!=2.0.4,!=2.1.2,!=2.1.6,>=2.0.1 in /usr/local/lib/python3.6/dist-packages (from matplotlib!=3.0.0,>=2.0.0->scikit-image>=0.11.0->imgaug<0.2.7,>=0.2.5->albumentations==0.4.5) (2.4.6)\n",
            "Requirement already satisfied, skipping upgrade: cycler>=0.10 in /usr/local/lib/python3.6/dist-packages (from matplotlib!=3.0.0,>=2.0.0->scikit-image>=0.11.0->imgaug<0.2.7,>=0.2.5->albumentations==0.4.5) (0.10.0)\n",
            "Requirement already satisfied, skipping upgrade: kiwisolver>=1.0.1 in /usr/local/lib/python3.6/dist-packages (from matplotlib!=3.0.0,>=2.0.0->scikit-image>=0.11.0->imgaug<0.2.7,>=0.2.5->albumentations==0.4.5) (1.1.0)\n",
            "Requirement already satisfied, skipping upgrade: decorator>=4.3.0 in /usr/local/lib/python3.6/dist-packages (from networkx>=2.0->scikit-image>=0.11.0->imgaug<0.2.7,>=0.2.5->albumentations==0.4.5) (4.4.2)\n",
            "Requirement already satisfied, skipping upgrade: setuptools in /usr/local/lib/python3.6/dist-packages (from kiwisolver>=1.0.1->matplotlib!=3.0.0,>=2.0.0->scikit-image>=0.11.0->imgaug<0.2.7,>=0.2.5->albumentations==0.4.5) (45.2.0)\n",
            "Building wheels for collected packages: albumentations\n",
            "  Building wheel for albumentations (setup.py) ... \u001b[?25l\u001b[?25hdone\n",
            "  Created wheel for albumentations: filename=albumentations-0.4.5-cp36-none-any.whl size=64514 sha256=c26e380e8859df6af596b8676a49bdc4bdb9f5762a5482ff560f809ee018dca7\n",
            "  Stored in directory: /tmp/pip-ephem-wheel-cache-rgxf2box/wheels/45/8b/e4/2837bbcf517d00732b8e394f8646f22b8723ac00993230188b\n",
            "Successfully built albumentations\n",
            "Installing collected packages: albumentations\n",
            "  Found existing installation: albumentations 0.4.5\n",
            "    Uninstalling albumentations-0.4.5:\n",
            "      Successfully uninstalled albumentations-0.4.5\n",
            "Successfully installed albumentations-0.4.5\n"
          ],
          "name": "stdout"
        },
        {
          "output_type": "display_data",
          "data": {
            "application/vnd.colab-display-data+json": {
              "pip_warning": {
                "packages": [
                  "albumentations"
                ]
              }
            }
          },
          "metadata": {
            "tags": []
          }
        }
      ]
    },
    {
      "cell_type": "code",
      "metadata": {
        "id": "iyjyIveH3Sqo",
        "colab_type": "code",
        "colab": {}
      },
      "source": [
        "transform_train, transform_test = transformations()"
      ],
      "execution_count": 0,
      "outputs": []
    },
    {
      "cell_type": "markdown",
      "metadata": {
        "id": "ybRPhSEd37IW",
        "colab_type": "text"
      },
      "source": [
        "###  7. Load Dataset"
      ]
    },
    {
      "cell_type": "code",
      "metadata": {
        "id": "bxhVbhVJ37iT",
        "colab_type": "code",
        "outputId": "712b21a7-8492-4790-c32d-f5e9e9bbc557",
        "colab": {
          "base_uri": "https://localhost:8080/",
          "height": 67
        }
      },
      "source": [
        "trainset, trainloader, testset, testloader = loadcifar10dataset(transform_train, transform_test)\n",
        "print(trainloader)"
      ],
      "execution_count": 0,
      "outputs": [
        {
          "output_type": "stream",
          "text": [
            "Files already downloaded and verified\n",
            "Files already downloaded and verified\n",
            "<torch.utils.data.dataloader.DataLoader object at 0x7f2a72bc3908>\n"
          ],
          "name": "stdout"
        }
      ]
    },
    {
      "cell_type": "markdown",
      "metadata": {
        "id": "4ypjZYcv3_mF",
        "colab_type": "text"
      },
      "source": [
        "###  8. Load Classes"
      ]
    },
    {
      "cell_type": "code",
      "metadata": {
        "id": "90yT-Tdd39Go",
        "colab_type": "code",
        "outputId": "3b744f4b-a6dc-4759-dcd9-b391cf3b4277",
        "colab": {
          "base_uri": "https://localhost:8080/",
          "height": 34
        }
      },
      "source": [
        "classes = getclasses()\n",
        "print(classes)"
      ],
      "execution_count": 0,
      "outputs": [
        {
          "output_type": "stream",
          "text": [
            "('plane', 'car', 'bird', 'cat', 'deer', 'dog', 'frog', 'horse', 'ship', 'truck')\n"
          ],
          "name": "stdout"
        }
      ]
    },
    {
      "cell_type": "markdown",
      "metadata": {
        "id": "6_UVxjMb4Dx1",
        "colab_type": "text"
      },
      "source": [
        "### 9. Display sample images"
      ]
    },
    {
      "cell_type": "code",
      "metadata": {
        "id": "MgJN8szy4Bfo",
        "colab_type": "code",
        "outputId": "71cae132-28a3-4d42-9be6-6b82351349c9",
        "colab": {
          "base_uri": "https://localhost:8080/",
          "height": 302
        }
      },
      "source": [
        "display(4, trainloader, classes)"
      ],
      "execution_count": 0,
      "outputs": [
        {
          "output_type": "stream",
          "text": [
            "Clipping input data to the valid range for imshow with RGB data ([0..1] for floats or [0..255] for integers).\n"
          ],
          "name": "stderr"
        },
        {
          "output_type": "stream",
          "text": [
            "plane plane plane  frog\n"
          ],
          "name": "stdout"
        },
        {
          "output_type": "display_data",
          "data": {
            "image/png": "[encoded data removed]",
            "text/plain": [
              "<Figure size 432x288 with 1 Axes>"
            ]
          },
          "metadata": {
            "tags": []
          }
        }
      ]
    },
    {
      "cell_type": "markdown",
      "metadata": {
        "id": "Q5KWeSsw4IzE",
        "colab_type": "text"
      },
      "source": [
        "### 10. Load QuizDNN Model\n"
      ]
    },
    {
      "cell_type": "code",
      "metadata": {
        "id": "m5tvdrtI4FqM",
        "colab_type": "code",
        "outputId": "87fccd2a-5a38-4d8c-ed08-0bafeb8e46b4",
        "colab": {
          "base_uri": "https://localhost:8080/",
          "height": 34
        }
      },
      "source": [
        "print(\"Building Model\")\n",
        "net = QuizDNN()"
      ],
      "execution_count": 0,
      "outputs": [
        {
          "output_type": "stream",
          "text": [
            "Building Model\n"
          ],
          "name": "stdout"
        }
      ]
    },
    {
      "cell_type": "code",
      "metadata": {
        "id": "BLscugP44Slt",
        "colab_type": "code",
        "outputId": "94f1fedd-8922-4e45-9cd1-ec10398d78d6",
        "colab": {
          "base_uri": "https://localhost:8080/",
          "height": 1000
        }
      },
      "source": [
        "# Display Model Summary\n",
        "!pip install torchsummary\n",
        "from torchsummary import summary\n",
        "\n",
        "model = net.to(device)\n",
        "summary(model, input_size=(3, 32, 32))"
      ],
      "execution_count": 0,
      "outputs": [
        {
          "output_type": "stream",
          "text": [
            "Requirement already satisfied: torchsummary in /usr/local/lib/python3.6/dist-packages (1.5.1)\n",
            "----------------------------------------------------------------\n",
            "        Layer (type)               Output Shape         Param #\n",
            "================================================================\n",
            "            Conv2d-1           [-1, 32, 32, 32]             896\n",
            "              ReLU-2           [-1, 32, 32, 32]               0\n",
            "       BatchNorm2d-3           [-1, 32, 32, 32]              64\n",
            "           Dropout-4           [-1, 32, 32, 32]               0\n",
            "            Conv2d-5           [-1, 32, 32, 32]           9,248\n",
            "              ReLU-6           [-1, 32, 32, 32]               0\n",
            "       BatchNorm2d-7           [-1, 32, 32, 32]              64\n",
            "           Dropout-8           [-1, 32, 32, 32]               0\n",
            "            Conv2d-9           [-1, 32, 32, 32]           9,248\n",
            "             ReLU-10           [-1, 32, 32, 32]               0\n",
            "      BatchNorm2d-11           [-1, 32, 32, 32]              64\n",
            "          Dropout-12           [-1, 32, 32, 32]               0\n",
            "        MaxPool2d-13           [-1, 32, 16, 16]               0\n",
            "           Conv2d-14           [-1, 64, 16, 16]           2,112\n",
            "             ReLU-15           [-1, 64, 16, 16]               0\n",
            "      BatchNorm2d-16           [-1, 64, 16, 16]             128\n",
            "          Dropout-17           [-1, 64, 16, 16]               0\n",
            "           Conv2d-18           [-1, 64, 16, 16]          18,496\n",
            "             ReLU-19           [-1, 64, 16, 16]               0\n",
            "      BatchNorm2d-20           [-1, 64, 16, 16]             128\n",
            "          Dropout-21           [-1, 64, 16, 16]               0\n",
            "           Conv2d-22           [-1, 64, 16, 16]          36,928\n",
            "             ReLU-23           [-1, 64, 16, 16]               0\n",
            "      BatchNorm2d-24           [-1, 64, 16, 16]             128\n",
            "          Dropout-25           [-1, 64, 16, 16]               0\n",
            "           Conv2d-26           [-1, 64, 16, 16]          36,928\n",
            "             ReLU-27           [-1, 64, 16, 16]               0\n",
            "      BatchNorm2d-28           [-1, 64, 16, 16]             128\n",
            "          Dropout-29           [-1, 64, 16, 16]               0\n",
            "        MaxPool2d-30             [-1, 64, 8, 8]               0\n",
            "           Conv2d-31            [-1, 128, 8, 8]           8,320\n",
            "             ReLU-32            [-1, 128, 8, 8]               0\n",
            "      BatchNorm2d-33            [-1, 128, 8, 8]             256\n",
            "          Dropout-34            [-1, 128, 8, 8]               0\n",
            "           Conv2d-35            [-1, 128, 8, 8]          73,856\n",
            "             ReLU-36            [-1, 128, 8, 8]               0\n",
            "      BatchNorm2d-37            [-1, 128, 8, 8]             256\n",
            "          Dropout-38            [-1, 128, 8, 8]               0\n",
            "           Conv2d-39            [-1, 128, 8, 8]         147,584\n",
            "             ReLU-40            [-1, 128, 8, 8]               0\n",
            "      BatchNorm2d-41            [-1, 128, 8, 8]             256\n",
            "          Dropout-42            [-1, 128, 8, 8]               0\n",
            "           Conv2d-43            [-1, 128, 8, 8]         147,584\n",
            "             ReLU-44            [-1, 128, 8, 8]               0\n",
            "      BatchNorm2d-45            [-1, 128, 8, 8]             256\n",
            "          Dropout-46            [-1, 128, 8, 8]               0\n",
            "           Conv2d-47             [-1, 10, 1, 1]           1,280\n",
            "================================================================\n",
            "Total params: 494,208\n",
            "Trainable params: 494,208\n",
            "Non-trainable params: 0\n",
            "----------------------------------------------------------------\n",
            "Input size (MB): 0.01\n",
            "Forward/backward pass size (MB): 6.09\n",
            "Params size (MB): 1.89\n",
            "Estimated Total Size (MB): 7.99\n",
            "----------------------------------------------------------------\n"
          ],
          "name": "stdout"
        }
      ]
    },
    {
      "cell_type": "markdown",
      "metadata": {
        "id": "zmd8v-hq55MO",
        "colab_type": "text"
      },
      "source": [
        "### 11. Define loss function and optimizer\n"
      ]
    },
    {
      "cell_type": "code",
      "metadata": {
        "id": "SoFrohOn4Tvv",
        "colab_type": "code",
        "colab": {}
      },
      "source": [
        "criterion = nn.CrossEntropyLoss()\n",
        "optimizer = getoptimizer(net)"
      ],
      "execution_count": 0,
      "outputs": []
    },
    {
      "cell_type": "markdown",
      "metadata": {
        "id": "H4hsyIDh5-hc",
        "colab_type": "text"
      },
      "source": [
        "### 12. Run Train and Test"
      ]
    },
    {
      "cell_type": "code",
      "metadata": {
        "id": "JOYSwB-M57Hm",
        "colab_type": "code",
        "outputId": "12255b20-89e9-4cc1-c58f-2dd80d7f3e7a",
        "colab": {
          "base_uri": "https://localhost:8080/",
          "height": 1000
        }
      },
      "source": [
        "for epoch in range(20):\n",
        "    train(net, trainloader, device, optimizer, criterion, epoch)\n",
        "    test(net, testloader, device, criterion, epoch)\n",
        "\n",
        "print(\"Training completed\")"
      ],
      "execution_count": 0,
      "outputs": [
        {
          "output_type": "stream",
          "text": [
            "\n",
            "Epoch: 0\n",
            " [================================================================>]  Step: 1s89ms | Tot: 11m50s | Train >> Loss: 1.959 | Acc: 27.982% (13991/50000) 391/391 \n",
            " [================================================================>]  Step: 76ms | Tot: 35s701ms | Test >> Loss: 37227.147 | Acc: 37.520% (3752/10000) 79/79 \n",
            "\n",
            "Epoch: 1\n",
            " [================================================================>]  Step: 1s95ms | Tot: 10m59s | Train >> Loss: 1.677 | Acc: 38.326% (19163/50000) 391/391 \n",
            " [================================================================>]  Step: 79ms | Tot: 36s456ms | Test >> Loss: 24.492 | Acc: 36.370% (3637/10000) 79/79 \n",
            "\n",
            "Epoch: 2\n",
            " [================================================================>]  Step: 1s151ms | Tot: 11m24s | Train >> Loss: 1.515 | Acc: 44.654% (22327/50000) 391/391 \n",
            " [================================================================>]  Step: 82ms | Tot: 36s679ms | Test >> Loss: 283.657 | Acc: 53.920% (5392/10000) 79/79 \n",
            "\n",
            "Epoch: 3\n",
            " [================================================================>]  Step: 1s93ms | Tot: 11m10s | Train >> Loss: 1.411 | Acc: 49.006% (24503/50000) 391/391 \n",
            " [================================================================>]  Step: 79ms | Tot: 36s224ms | Test >> Loss: 54.976 | Acc: 56.010% (5601/10000) 79/79 \n",
            "\n",
            "Epoch: 4\n",
            " [================================================================>]  Step: 1s95ms | Tot: 11m11s | Train >> Loss: 1.286 | Acc: 54.046% (27023/50000) 391/391 \n",
            " [================================================================>]  Step: 80ms | Tot: 36s301ms | Test >> Loss: 2053.327 | Acc: 62.140% (6214/10000) 79/79 \n",
            "\n",
            "Epoch: 5\n",
            " [================================================================>]  Step: 1s109ms | Tot: 11m2s | Train >> Loss: 1.204 | Acc: 56.930% (28465/50000) 391/391 \n",
            " [================================================================>]  Step: 78ms | Tot: 36s644ms | Test >> Loss: 2199.025 | Acc: 63.890% (6389/10000) 79/79 \n",
            "\n",
            "Epoch: 6\n",
            " [================================================================>]  Step: 1s129ms | Tot: 11m18s | Train >> Loss: 1.152 | Acc: 59.212% (29606/50000) 391/391 \n",
            " [================================================================>]  Step: 83ms | Tot: 36s897ms | Test >> Loss: 1047.737 | Acc: 61.510% (6151/10000) 79/79 \n",
            "\n",
            "Epoch: 7\n",
            " [================================================================>]  Step: 1s103ms | Tot: 11m6s | Train >> Loss: 1.082 | Acc: 61.930% (30965/50000) 391/391 \n",
            " [================================================================>]  Step: 79ms | Tot: 36s253ms | Test >> Loss: 18.929 | Acc: 69.240% (6924/10000) 79/79 \n",
            "\n",
            "Epoch: 8\n",
            " [================================================================>]  Step: 1s131ms | Tot: 11m14s | Train >> Loss: 1.028 | Acc: 63.920% (31960/50000) 391/391 \n",
            " [================================================================>]  Step: 85ms | Tot: 37s59ms | Test >> Loss: 109.559 | Acc: 70.580% (7058/10000) 79/79 \n",
            "\n",
            "Epoch: 9\n",
            " [================================================================>]  Step: 1s80ms | Tot: 11m5s | Train >> Loss: 1.001 | Acc: 64.950% (32475/50000) 391/391 \n",
            " [================================================================>]  Step: 79ms | Tot: 36s561ms | Test >> Loss: 569.635 | Acc: 72.390% (7239/10000) 79/79 \n",
            "\n",
            "Epoch: 10\n",
            " [================================================================>]  Step: 1s136ms | Tot: 11m15s | Train >> Loss: 1.036 | Acc: 63.880% (31940/50000) 391/391 \n",
            " [================================================================>]  Step: 83ms | Tot: 37s848ms | Test >> Loss: 1398.666 | Acc: 70.200% (7020/10000) 79/79 \n",
            "\n",
            "Epoch: 11\n",
            " [================================================================>]  Step: 1s95ms | Tot: 11m9s | Train >> Loss: 0.955 | Acc: 66.914% (33457/50000) 391/391 \n",
            " [================================================================>]  Step: 78ms | Tot: 36s514ms | Test >> Loss: 1.226 | Acc: 73.750% (7375/10000) 79/79 \n",
            "\n",
            "Epoch: 12\n",
            " [================================================================>]  Step: 1s146ms | Tot: 11m4s | Train >> Loss: 0.905 | Acc: 68.160% (34080/50000) 391/391 \n",
            " [================================================================>]  Step: 77ms | Tot: 36s826ms | Test >> Loss: 16.489 | Acc: 76.730% (7673/10000) 79/79 \n",
            "\n",
            "Epoch: 13\n",
            " [================================================================>]  Step: 1s102ms | Tot: 11m4s | Train >> Loss: 0.879 | Acc: 69.278% (34639/50000) 391/391 \n",
            " [================================================================>]  Step: 85ms | Tot: 36s647ms | Test >> Loss: 9526.623 | Acc: 74.850% (7485/10000) 79/79 \n",
            "\n",
            "Epoch: 14\n",
            " [================================================================>]  Step: 1s120ms | Tot: 11m3s | Train >> Loss: 0.871 | Acc: 69.932% (34966/50000) 391/391 \n",
            " [================================================================>]  Step: 83ms | Tot: 36s898ms | Test >> Loss: 635.040 | Acc: 78.430% (7843/10000) 79/79 \n",
            "\n",
            "Epoch: 15\n",
            " [================================================================>]  Step: 1s119ms | Tot: 11m8s | Train >> Loss: 0.826 | Acc: 71.288% (35644/50000) 391/391 \n",
            " [================================================================>]  Step: 85ms | Tot: 36s324ms | Test >> Loss: 9495989.459 | Acc: 79.210% (7921/10000) 79/79 \n",
            "\n",
            "Epoch: 16\n",
            " [================================================================>]  Step: 1s80ms | Tot: 11m4s | Train >> Loss: 0.823 | Acc: 71.496% (35748/50000) 391/391 \n",
            " [================================================================>]  Step: 78ms | Tot: 36s206ms | Test >> Loss: 294.845 | Acc: 78.160% (7816/10000) 79/79 \n",
            "\n",
            "Epoch: 17\n",
            " [================================================================>]  Step: 1s87ms | Tot: 10m59s | Train >> Loss: 0.815 | Acc: 71.746% (35873/50000) 391/391 \n",
            " [================================================================>]  Step: 78ms | Tot: 36s37ms | Test >> Loss: 4.779 | Acc: 79.220% (7922/10000) 79/79 \n",
            "\n",
            "Epoch: 18\n",
            " [================================================================>]  Step: 1s101ms | Tot: 11m3s | Train >> Loss: 0.822 | Acc: 71.454% (35727/50000) 391/391 \n",
            " [================================================================>]  Step: 83ms | Tot: 36s21ms | Test >> Loss: 40.407 | Acc: 78.860% (7886/10000) 79/79 \n",
            "\n",
            "Epoch: 19\n",
            " [================================================================>]  Step: 1s170ms | Tot: 11m3s | Train >> Loss: 0.763 | Acc: 73.464% (36732/50000) 391/391 \n",
            " [================================================================>]  Step: 83ms | Tot: 36s621ms | Test >> Loss: 16375.236 | Acc: 80.520% (8052/10000) 79/79 \n",
            "Training completed\n"
          ],
          "name": "stdout"
        }
      ]
    }
  ]
}