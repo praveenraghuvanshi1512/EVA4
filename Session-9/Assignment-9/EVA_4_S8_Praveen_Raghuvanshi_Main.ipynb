{
  "nbformat": 4,
  "nbformat_minor": 0,
  "metadata": {
    "colab": {
      "name": "EVA-4-S8-Praveen-Raghuvanshi-Main.ipynb",
      "provenance": [],
      "collapsed_sections": [],
      "authorship_tag": "ABX9TyP7zEUESo/iL0/b6uiXgB13",
      "include_colab_link": true
    },
    "kernelspec": {
      "name": "python3",
      "display_name": "Python 3"
    },
    "accelerator": "GPU"
  },
  "cells": [
    {
      "cell_type": "markdown",
      "metadata": {
        "id": "view-in-github",
        "colab_type": "text"
      },
      "source": [
        "<a href=\"https://colab.research.google.com/github/praveenraghuvanshi1512/EVA4/blob/Session-8/Session-8/Assignment-8/EVA_4_S8_Praveen_Raghuvanshi_Main.ipynb\" target=\"_parent\"><img src=\"https://colab.research.google.com/assets/colab-badge.svg\" alt=\"Open In Colab\"/></a>"
      ]
    },
    {
      "cell_type": "markdown",
      "metadata": {
        "id": "QrQqN4zqMt5U",
        "colab_type": "text"
      },
      "source": [
        "## Steps Summary"
      ]
    },
    {
      "cell_type": "code",
      "metadata": {
        "id": "GcS9dBHZuJ0g",
        "colab_type": "code",
        "colab": {}
      },
      "source": [
        "# 1. Mount google drive\n",
        "# 2. Set the directory path of google drive\n",
        "# 3. Import all modules and libraries\n",
        "# 4. Set Device\n",
        "# 5. Import all the functions\n",
        "# 6. Load transformations\n",
        "# 7. Load dataset\n",
        "# 8. Load Classes\n",
        "# 9. Display sample images\n",
        "# 10. Load Resnet18 Model\n",
        "# 11. Define Loss function and optimizer\n",
        "# 12. Run train and test"
      ],
      "execution_count": 0,
      "outputs": []
    },
    {
      "cell_type": "markdown",
      "metadata": {
        "id": "KOdHHdPxuQFs",
        "colab_type": "text"
      },
      "source": [
        "### 1. Mount google drive"
      ]
    },
    {
      "cell_type": "code",
      "metadata": {
        "id": "YCII_8_auNbk",
        "colab_type": "code",
        "outputId": "54eb1f3e-3995-4dd0-ab7a-847d959b9a66",
        "colab": {
          "base_uri": "https://localhost:8080/",
          "height": 126
        }
      },
      "source": [
        "# Load data from Google drive\n",
        "from google.colab import drive\n",
        "drive.mount('/content/drive')"
      ],
      "execution_count": 2,
      "outputs": [
        {
          "output_type": "stream",
          "text": [
            "Go to this URL in a browser: https://accounts.google.com/o/oauth2/auth?client_id=947318989803-6bn6qk8qdgf4n4g3pfee6491hc0brc4i.apps.googleusercontent.com&redirect_uri=urn%3aietf%3awg%3aoauth%3a2.0%3aoob&response_type=code&scope=email%20https%3a%2f%2fwww.googleapis.com%2fauth%2fdocs.test%20https%3a%2f%2fwww.googleapis.com%2fauth%2fdrive%20https%3a%2f%2fwww.googleapis.com%2fauth%2fdrive.photos.readonly%20https%3a%2f%2fwww.googleapis.com%2fauth%2fpeopleapi.readonly\n",
            "\n",
            "Enter your authorization code:\n",
            "··········\n",
            "Mounted at /content/drive\n"
          ],
          "name": "stdout"
        }
      ]
    },
    {
      "cell_type": "markdown",
      "metadata": {
        "id": "iouz-VhCvRKa",
        "colab_type": "text"
      },
      "source": [
        "### 2. Set the directory path of google drive"
      ]
    },
    {
      "cell_type": "code",
      "metadata": {
        "id": "qYAhAXd7u8Is",
        "colab_type": "code",
        "colab": {}
      },
      "source": [
        "import sys\n",
        "%load_ext autoreload\n",
        "%autoreload 2\n",
        "sys.path.append('/content/drive/My Drive/eva-4/assignment-8')"
      ],
      "execution_count": 0,
      "outputs": []
    },
    {
      "cell_type": "code",
      "metadata": {
        "id": "EshyBNNlvXUB",
        "colab_type": "code",
        "outputId": "075c255a-847e-4a5a-d20e-00e9a28ba9b0",
        "colab": {
          "base_uri": "https://localhost:8080/",
          "height": 35
        }
      },
      "source": [
        "cd '/content/drive/My Drive/eva-4/assignment-8'"
      ],
      "execution_count": 4,
      "outputs": [
        {
          "output_type": "stream",
          "text": [
            "/content/drive/My Drive/eva-4/assignment-8\n"
          ],
          "name": "stdout"
        }
      ]
    },
    {
      "cell_type": "code",
      "metadata": {
        "id": "iCrlbbXOvjzh",
        "colab_type": "code",
        "outputId": "441c134c-d559-4c30-ccfc-711ce383a189",
        "colab": {
          "base_uri": "https://localhost:8080/",
          "height": 35
        }
      },
      "source": [
        "ls"
      ],
      "execution_count": 5,
      "outputs": [
        {
          "output_type": "stream",
          "text": [
            "\u001b[0m\u001b[01;34mcheckpoint\u001b[0m/  \u001b[01;34mdata\u001b[0m/  model.py  \u001b[01;34m__pycache__\u001b[0m/  S8_functions.py  utils.py\n"
          ],
          "name": "stdout"
        }
      ]
    },
    {
      "cell_type": "markdown",
      "metadata": {
        "id": "6_gBUHNhwZF8",
        "colab_type": "text"
      },
      "source": [
        "### 3. Import all modules and libraries"
      ]
    },
    {
      "cell_type": "code",
      "metadata": {
        "id": "mJfJaQkMwdcM",
        "colab_type": "code",
        "colab": {}
      },
      "source": [
        "import torch\n",
        "import torch.nn as nn\n",
        "import torchvision\n",
        "import torchvision.transforms as transforms"
      ],
      "execution_count": 0,
      "outputs": []
    },
    {
      "cell_type": "markdown",
      "metadata": {
        "id": "8UzFE61fvvzj",
        "colab_type": "text"
      },
      "source": [
        "### 4. Set Device"
      ]
    },
    {
      "cell_type": "code",
      "metadata": {
        "id": "RdESvDmFvlO1",
        "colab_type": "code",
        "outputId": "2a5ce480-545d-47ec-a288-3045a0bbd3bc",
        "colab": {
          "base_uri": "https://localhost:8080/",
          "height": 35
        }
      },
      "source": [
        "use_cuda = torch.cuda.is_available()\n",
        "device = torch.device(\"cuda\" if use_cuda else \"cpu\")\n",
        "print(device)"
      ],
      "execution_count": 7,
      "outputs": [
        {
          "output_type": "stream",
          "text": [
            "cuda\n"
          ],
          "name": "stdout"
        }
      ]
    },
    {
      "cell_type": "markdown",
      "metadata": {
        "id": "1gXN5mwvw_mO",
        "colab_type": "text"
      },
      "source": [
        "###  5. Import all the functions"
      ]
    },
    {
      "cell_type": "code",
      "metadata": {
        "id": "0yM0_rOMxCr7",
        "colab_type": "code",
        "colab": {}
      },
      "source": [
        "from S8_functions import myfunc, transformations, loadcifar10dataset, getclasses, display, train, test\n",
        "from model import Net, ResNet, resnet18"
      ],
      "execution_count": 0,
      "outputs": []
    },
    {
      "cell_type": "markdown",
      "metadata": {
        "id": "TgfbtDvV3Std",
        "colab_type": "text"
      },
      "source": [
        "###  6. Load Transformations"
      ]
    },
    {
      "cell_type": "code",
      "metadata": {
        "id": "MOJImFEc3YO2",
        "colab_type": "code",
        "colab": {}
      },
      "source": [
        "transform_train, transform_test = transformations()"
      ],
      "execution_count": 0,
      "outputs": []
    },
    {
      "cell_type": "markdown",
      "metadata": {
        "id": "uso5HfFp3iQ5",
        "colab_type": "text"
      },
      "source": [
        "###  7. Load Dataset"
      ]
    },
    {
      "cell_type": "code",
      "metadata": {
        "id": "CNK1p6sk3oZX",
        "colab_type": "code",
        "outputId": "1eacf19d-bded-4845-c6dd-04b425cbc877",
        "colab": {
          "base_uri": "https://localhost:8080/",
          "height": 52
        }
      },
      "source": [
        "trainset, trainloader, testset, testloader = loadcifar10dataset(transform_train, transform_test)"
      ],
      "execution_count": 10,
      "outputs": [
        {
          "output_type": "stream",
          "text": [
            "Files already downloaded and verified\n",
            "Files already downloaded and verified\n"
          ],
          "name": "stdout"
        }
      ]
    },
    {
      "cell_type": "markdown",
      "metadata": {
        "id": "RlrYDL2_xEiz",
        "colab_type": "text"
      },
      "source": [
        "###  8. Load Classes"
      ]
    },
    {
      "cell_type": "code",
      "metadata": {
        "id": "4LiQgSYO30gf",
        "colab_type": "code",
        "outputId": "8acaad27-e24c-4b3a-fbbc-48d049005f69",
        "colab": {
          "base_uri": "https://localhost:8080/",
          "height": 35
        }
      },
      "source": [
        "classes = getclasses()\n",
        "print(classes)"
      ],
      "execution_count": 11,
      "outputs": [
        {
          "output_type": "stream",
          "text": [
            "('plane', 'car', 'bird', 'cat', 'deer', 'dog', 'frog', 'horse', 'ship', 'truck')\n"
          ],
          "name": "stdout"
        }
      ]
    },
    {
      "cell_type": "markdown",
      "metadata": {
        "id": "YUYcV4I137Wf",
        "colab_type": "text"
      },
      "source": [
        "### 9. Display sample images"
      ]
    },
    {
      "cell_type": "code",
      "metadata": {
        "id": "oBXRNlu14E0g",
        "colab_type": "code",
        "outputId": "c971ccfa-07e9-40f5-bc67-11643b975f75",
        "colab": {
          "base_uri": "https://localhost:8080/",
          "height": 173
        }
      },
      "source": [
        "display(4, trainloader, classes)"
      ],
      "execution_count": 12,
      "outputs": [
        {
          "output_type": "stream",
          "text": [
            "Clipping input data to the valid range for imshow with RGB data ([0..1] for floats or [0..255] for integers).\n"
          ],
          "name": "stderr"
        },
        {
          "output_type": "stream",
          "text": [
            " ship  deer plane horse\n"
          ],
          "name": "stdout"
        },
        {
          "output_type": "display_data",
          "data": {
            "image/png": "[encoded data removed]",
            "text/plain": [
              "<Figure size 432x288 with 1 Axes>"
            ]
          },
          "metadata": {
            "tags": []
          }
        }
      ]
    },
    {
      "cell_type": "markdown",
      "metadata": {
        "id": "CUzQmcOr4Ui_",
        "colab_type": "text"
      },
      "source": [
        "### 10. Load Resnet18 Model\n"
      ]
    },
    {
      "cell_type": "code",
      "metadata": {
        "id": "auPmRERP4d1J",
        "colab_type": "code",
        "outputId": "c23a5365-4cf5-4846-e17e-d4c1ade417c8",
        "colab": {
          "base_uri": "https://localhost:8080/",
          "height": 35
        }
      },
      "source": [
        "print(\"Building Model\")\n",
        "net = resnet18()"
      ],
      "execution_count": 13,
      "outputs": [
        {
          "output_type": "stream",
          "text": [
            "Building Model\n"
          ],
          "name": "stdout"
        }
      ]
    },
    {
      "cell_type": "code",
      "metadata": {
        "id": "iZ1XA3Vm6jDq",
        "colab_type": "code",
        "outputId": "1e4ccd29-c788-400b-a872-af78c6d31c0e",
        "colab": {
          "base_uri": "https://localhost:8080/",
          "height": 1000
        }
      },
      "source": [
        "# Display Model Summary\n",
        "!pip install torchsummary\n",
        "from torchsummary import summary\n",
        "\n",
        "model = net.to(device)\n",
        "summary(model, input_size=(3, 32, 32))"
      ],
      "execution_count": 14,
      "outputs": [
        {
          "output_type": "stream",
          "text": [
            "Requirement already satisfied: torchsummary in /usr/local/lib/python3.6/dist-packages (1.5.1)\n",
            "----------------------------------------------------------------\n",
            "        Layer (type)               Output Shape         Param #\n",
            "================================================================\n",
            "            Conv2d-1           [-1, 64, 32, 32]           1,728\n",
            "       BatchNorm2d-2           [-1, 64, 32, 32]             128\n",
            "            Conv2d-3           [-1, 64, 32, 32]          36,864\n",
            "       BatchNorm2d-4           [-1, 64, 32, 32]             128\n",
            "            Conv2d-5           [-1, 64, 32, 32]          36,864\n",
            "       BatchNorm2d-6           [-1, 64, 32, 32]             128\n",
            "        BasicBlock-7           [-1, 64, 32, 32]               0\n",
            "            Conv2d-8           [-1, 64, 32, 32]          36,864\n",
            "       BatchNorm2d-9           [-1, 64, 32, 32]             128\n",
            "           Conv2d-10           [-1, 64, 32, 32]          36,864\n",
            "      BatchNorm2d-11           [-1, 64, 32, 32]             128\n",
            "       BasicBlock-12           [-1, 64, 32, 32]               0\n",
            "           Conv2d-13          [-1, 128, 16, 16]          73,728\n",
            "      BatchNorm2d-14          [-1, 128, 16, 16]             256\n",
            "           Conv2d-15          [-1, 128, 16, 16]         147,456\n",
            "      BatchNorm2d-16          [-1, 128, 16, 16]             256\n",
            "           Conv2d-17          [-1, 128, 16, 16]           8,192\n",
            "      BatchNorm2d-18          [-1, 128, 16, 16]             256\n",
            "       BasicBlock-19          [-1, 128, 16, 16]               0\n",
            "           Conv2d-20          [-1, 128, 16, 16]         147,456\n",
            "      BatchNorm2d-21          [-1, 128, 16, 16]             256\n",
            "           Conv2d-22          [-1, 128, 16, 16]         147,456\n",
            "      BatchNorm2d-23          [-1, 128, 16, 16]             256\n",
            "       BasicBlock-24          [-1, 128, 16, 16]               0\n",
            "           Conv2d-25            [-1, 256, 8, 8]         294,912\n",
            "      BatchNorm2d-26            [-1, 256, 8, 8]             512\n",
            "           Conv2d-27            [-1, 256, 8, 8]         589,824\n",
            "      BatchNorm2d-28            [-1, 256, 8, 8]             512\n",
            "           Conv2d-29            [-1, 256, 8, 8]          32,768\n",
            "      BatchNorm2d-30            [-1, 256, 8, 8]             512\n",
            "       BasicBlock-31            [-1, 256, 8, 8]               0\n",
            "           Conv2d-32            [-1, 256, 8, 8]         589,824\n",
            "      BatchNorm2d-33            [-1, 256, 8, 8]             512\n",
            "           Conv2d-34            [-1, 256, 8, 8]         589,824\n",
            "      BatchNorm2d-35            [-1, 256, 8, 8]             512\n",
            "       BasicBlock-36            [-1, 256, 8, 8]               0\n",
            "           Conv2d-37            [-1, 512, 4, 4]       1,179,648\n",
            "      BatchNorm2d-38            [-1, 512, 4, 4]           1,024\n",
            "           Conv2d-39            [-1, 512, 4, 4]       2,359,296\n",
            "      BatchNorm2d-40            [-1, 512, 4, 4]           1,024\n",
            "           Conv2d-41            [-1, 512, 4, 4]         131,072\n",
            "      BatchNorm2d-42            [-1, 512, 4, 4]           1,024\n",
            "       BasicBlock-43            [-1, 512, 4, 4]               0\n",
            "           Conv2d-44            [-1, 512, 4, 4]       2,359,296\n",
            "      BatchNorm2d-45            [-1, 512, 4, 4]           1,024\n",
            "           Conv2d-46            [-1, 512, 4, 4]       2,359,296\n",
            "      BatchNorm2d-47            [-1, 512, 4, 4]           1,024\n",
            "       BasicBlock-48            [-1, 512, 4, 4]               0\n",
            "           Linear-49                   [-1, 10]           5,130\n",
            "================================================================\n",
            "Total params: 11,173,962\n",
            "Trainable params: 11,173,962\n",
            "Non-trainable params: 0\n",
            "----------------------------------------------------------------\n",
            "Input size (MB): 0.01\n",
            "Forward/backward pass size (MB): 11.25\n",
            "Params size (MB): 42.63\n",
            "Estimated Total Size (MB): 53.89\n",
            "----------------------------------------------------------------\n"
          ],
          "name": "stdout"
        }
      ]
    },
    {
      "cell_type": "markdown",
      "metadata": {
        "id": "jddcsjNZ9mlq",
        "colab_type": "text"
      },
      "source": [
        "### 11. Define loss function and optimizer\n"
      ]
    },
    {
      "cell_type": "code",
      "metadata": {
        "id": "_zZ539Vx9tcJ",
        "colab_type": "code",
        "colab": {}
      },
      "source": [
        "import torch.optim as optim\n",
        "\n",
        "criterion = nn.CrossEntropyLoss()\n",
        "optimizer = optim.SGD(net.parameters(), lr=0.001, momentum=0.9)"
      ],
      "execution_count": 0,
      "outputs": []
    },
    {
      "cell_type": "markdown",
      "metadata": {
        "id": "GD_6sHrs-DWj",
        "colab_type": "text"
      },
      "source": [
        "### 12. Run Train and Test"
      ]
    },
    {
      "cell_type": "code",
      "metadata": {
        "id": "EHGIiWEF-RMP",
        "colab_type": "code",
        "outputId": "5b0d3ec5-9cb7-4ffe-b082-4d25a4e032c4",
        "colab": {
          "base_uri": "https://localhost:8080/",
          "height": 1000
        }
      },
      "source": [
        "for epoch in range(30):\n",
        "    train(net, trainloader, device, optimizer, criterion, epoch)\n",
        "    test(net, testloader, device, criterion, epoch)"
      ],
      "execution_count": 17,
      "outputs": [
        {
          "output_type": "stream",
          "text": [
            "\n",
            "Epoch: 0\n",
            " [================================================================>]  Step: 52ms | Tot: 10m48s | Train >> Loss: 1.573 | Acc: 43.288% (21644/50000) 12500/12500 \n",
            " [================================================================>]  Step: 21ms | Tot: 59s966ms | Test >> Loss: 1.146 | Acc: 60.500% (6050/10000) 2500/2500 \n",
            "\n",
            "Epoch: 1\n",
            " [================================================================>]  Step: 50ms | Tot: 10m43s | Train >> Loss: 1.003 | Acc: 64.644% (32322/50000) 12500/12500 \n",
            " [================================================================>]  Step: 27ms | Tot: 1m744ms | Test >> Loss: 0.791 | Acc: 72.120% (7212/10000) 2500/2500 \n",
            "\n",
            "Epoch: 2\n",
            " [================================================================>]  Step: 48ms | Tot: 10m43s | Train >> Loss: 0.780 | Acc: 72.986% (36493/50000) 12500/12500 \n",
            " [================================================================>]  Step: 23ms | Tot: 58s701ms | Test >> Loss: 0.689 | Acc: 76.170% (7617/10000) 2500/2500 \n",
            "\n",
            "Epoch: 3\n",
            " [================================================================>]  Step: 50ms | Tot: 10m41s | Train >> Loss: 0.658 | Acc: 77.382% (38691/50000) 12500/12500 \n",
            " [================================================================>]  Step: 19ms | Tot: 57s638ms | Test >> Loss: 0.569 | Acc: 80.710% (8071/10000) 2500/2500 \n",
            "\n",
            "Epoch: 4\n",
            " [================================================================>]  Step: 51ms | Tot: 10m40s | Train >> Loss: 0.579 | Acc: 80.060% (40030/50000) 12500/12500 \n",
            " [================================================================>]  Step: 20ms | Tot: 58s840ms | Test >> Loss: 0.513 | Acc: 82.900% (8290/10000) 2500/2500 \n",
            "\n",
            "Epoch: 5\n",
            " [================================================================>]  Step: 50ms | Tot: 10m47s | Train >> Loss: 0.517 | Acc: 82.128% (41064/50000) 12500/12500 \n",
            " [================================================================>]  Step: 22ms | Tot: 1m669ms | Test >> Loss: 0.501 | Acc: 83.080% (8308/10000) 2500/2500 \n",
            "\n",
            "Epoch: 6\n",
            " [================================================================>]  Step: 48ms | Tot: 10m46s | Train >> Loss: 0.470 | Acc: 83.652% (41826/50000) 12500/12500 \n",
            " [================================================================>]  Step: 24ms | Tot: 1m314ms | Test >> Loss: 0.465 | Acc: 84.380% (8438/10000) 2500/2500 \n",
            "\n",
            "Epoch: 7\n",
            " [================================================================>]  Step: 51ms | Tot: 10m46s | Train >> Loss: 0.429 | Acc: 85.306% (42653/50000) 12500/12500 \n",
            " [================================================================>]  Step: 29ms | Tot: 59s404ms | Test >> Loss: 0.440 | Acc: 85.320% (8532/10000) 2500/2500 \n",
            "\n",
            "Epoch: 8\n",
            " [================================================================>]  Step: 52ms | Tot: 10m47s | Train >> Loss: 0.398 | Acc: 86.496% (43248/50000) 12500/12500 \n",
            " [================================================================>]  Step: 20ms | Tot: 58s904ms | Test >> Loss: 0.419 | Acc: 85.920% (8592/10000) 2500/2500 \n",
            "\n",
            "Epoch: 9\n",
            " [================================================================>]  Step: 50ms | Tot: 10m46s | Train >> Loss: 0.370 | Acc: 87.090% (43545/50000) 12500/12500 \n",
            " [================================================================>]  Step: 22ms | Tot: 57s843ms | Test >> Loss: 0.412 | Acc: 86.230% (8623/10000) 2500/2500 \n",
            "\n",
            "Epoch: 10\n",
            " [================================================================>]  Step: 53ms | Tot: 10m44s | Train >> Loss: 0.344 | Acc: 88.238% (44119/50000) 12500/12500 \n",
            " [================================================================>]  Step: 20ms | Tot: 58s787ms | Test >> Loss: 0.435 | Acc: 85.770% (8577/10000) 2500/2500 \n",
            "\n",
            "Epoch: 11\n",
            " [================================================================>]  Step: 47ms | Tot: 10m46s | Train >> Loss: 0.323 | Acc: 88.856% (44428/50000) 12500/12500 \n",
            " [================================================================>]  Step: 21ms | Tot: 58s816ms | Test >> Loss: 0.389 | Acc: 87.370% (8737/10000) 2500/2500 \n",
            "\n",
            "Epoch: 12\n",
            " [================================================================>]  Step: 50ms | Tot: 10m40s | Train >> Loss: 0.300 | Acc: 89.536% (44768/50000) 12500/12500 \n",
            " [================================================================>]  Step: 24ms | Tot: 56s582ms | Test >> Loss: 0.394 | Acc: 86.680% (8668/10000) 2500/2500 \n",
            "\n",
            "Epoch: 13\n",
            " [================================================================>]  Step: 43ms | Tot: 10m42s | Train >> Loss: 0.283 | Acc: 90.152% (45076/50000) 12500/12500 \n",
            " [================================================================>]  Step: 20ms | Tot: 58s964ms | Test >> Loss: 0.397 | Acc: 86.930% (8693/10000) 2500/2500 \n",
            "\n",
            "Epoch: 14\n",
            " [================================================================>]  Step: 50ms | Tot: 10m43s | Train >> Loss: 0.263 | Acc: 90.850% (45425/50000) 12500/12500 \n",
            " [================================================================>]  Step: 22ms | Tot: 1m77ms | Test >> Loss: 0.324 | Acc: 89.380% (8938/10000) 2500/2500 \n",
            "\n",
            "Epoch: 15\n",
            " [================================================================>]  Step: 56ms | Tot: 10m45s | Train >> Loss: 0.250 | Acc: 91.286% (45643/50000) 12500/12500 \n",
            " [================================================================>]  Step: 24ms | Tot: 59s375ms | Test >> Loss: 0.358 | Acc: 88.140% (8814/10000) 2500/2500 \n",
            "\n",
            "Epoch: 16\n",
            " [================================================================>]  Step: 48ms | Tot: 10m49s | Train >> Loss: 0.237 | Acc: 91.794% (45897/50000) 12500/12500 \n",
            " [================================================================>]  Step: 20ms | Tot: 1m920ms | Test >> Loss: 0.323 | Acc: 88.990% (8899/10000) 2500/2500 \n",
            "\n",
            "Epoch: 17\n",
            " [================================================================>]  Step: 51ms | Tot: 10m44s | Train >> Loss: 0.224 | Acc: 92.196% (46098/50000) 12500/12500 \n",
            " [================================================================>]  Step: 19ms | Tot: 59s92ms | Test >> Loss: 0.320 | Acc: 89.500% (8950/10000) 2500/2500 \n",
            "\n",
            "Epoch: 18\n",
            " [================================================================>]  Step: 50ms | Tot: 10m45s | Train >> Loss: 0.211 | Acc: 92.644% (46322/50000) 12500/12500 \n",
            " [================================================================>]  Step: 21ms | Tot: 58s | Test >> Loss: 0.316 | Acc: 89.720% (8972/10000) 2500/2500 \n",
            "\n",
            "Epoch: 19\n",
            " [================================================================>]  Step: 51ms | Tot: 10m43s | Train >> Loss: 0.199 | Acc: 93.112% (46556/50000) 12500/12500 \n",
            " [================================================================>]  Step: 21ms | Tot: 58s548ms | Test >> Loss: 0.320 | Acc: 89.850% (8985/10000) 2500/2500 \n",
            "\n",
            "Epoch: 20\n",
            " [================================================================>]  Step: 49ms | Tot: 10m41s | Train >> Loss: 0.188 | Acc: 93.466% (46733/50000) 12500/12500 \n",
            " [================================================================>]  Step: 25ms | Tot: 59s857ms | Test >> Loss: 0.302 | Acc: 90.190% (9019/10000) 2500/2500 \n",
            "\n",
            "Epoch: 21\n",
            " [================================================================>]  Step: 51ms | Tot: 10m41s | Train >> Loss: 0.177 | Acc: 93.880% (46940/50000) 12500/12500 \n",
            " [================================================================>]  Step: 20ms | Tot: 59s145ms | Test >> Loss: 0.303 | Acc: 90.450% (9045/10000) 2500/2500 \n",
            "\n",
            "Epoch: 22\n",
            " [================================================================>]  Step: 50ms | Tot: 10m42s | Train >> Loss: 0.164 | Acc: 94.298% (47149/50000) 12500/12500 \n",
            " [================================================================>]  Step: 20ms | Tot: 59s376ms | Test >> Loss: 0.301 | Acc: 90.710% (9071/10000) 2500/2500 \n",
            "\n",
            "Epoch: 23\n",
            " [================================================================>]  Step: 50ms | Tot: 10m41s | Train >> Loss: 0.161 | Acc: 94.276% (47138/50000) 12500/12500 \n",
            " [================================================================>]  Step: 23ms | Tot: 57s858ms | Test >> Loss: 0.339 | Acc: 89.810% (8981/10000) 2500/2500 \n",
            "\n",
            "Epoch: 24\n",
            " [================================================================>]  Step: 50ms | Tot: 10m39s | Train >> Loss: 0.154 | Acc: 94.572% (47286/50000) 12500/12500 \n",
            " [================================================================>]  Step: 19ms | Tot: 57s930ms | Test >> Loss: 0.300 | Acc: 90.500% (9050/10000) 2500/2500 \n",
            "\n",
            "Epoch: 25\n",
            " [================================================================>]  Step: 52ms | Tot: 10m40s | Train >> Loss: 0.144 | Acc: 94.982% (47491/50000) 12500/12500 \n",
            " [================================================================>]  Step: 22ms | Tot: 1m531ms | Test >> Loss: 0.314 | Acc: 90.460% (9046/10000) 2500/2500 \n",
            "\n",
            "Epoch: 26\n",
            " [================================================================>]  Step: 50ms | Tot: 10m42s | Train >> Loss: 0.137 | Acc: 95.192% (47596/50000) 12500/12500 \n",
            " [================================================================>]  Step: 18ms | Tot: 57s380ms | Test >> Loss: 0.310 | Acc: 90.720% (9072/10000) 2500/2500 \n",
            "\n",
            "Epoch: 27\n",
            " [================================================================>]  Step: 51ms | Tot: 10m41s | Train >> Loss: 0.129 | Acc: 95.410% (47705/50000) 12500/12500 \n",
            " [================================================================>]  Step: 25ms | Tot: 58s971ms | Test >> Loss: 0.316 | Acc: 90.310% (9031/10000) 2500/2500 \n",
            "\n",
            "Epoch: 28\n",
            " [================================================================>]  Step: 58ms | Tot: 10m41s | Train >> Loss: 0.122 | Acc: 95.676% (47838/50000) 12500/12500 \n",
            " [================================================================>]  Step: 18ms | Tot: 57s66ms | Test >> Loss: 0.317 | Acc: 90.700% (9070/10000) 2500/2500 \n",
            "\n",
            "Epoch: 29\n",
            " [================================================================>]  Step: 45ms | Tot: 10m39s | Train >> Loss: 0.119 | Acc: 95.856% (47928/50000) 12500/12500 \n",
            " [================================================================>]  Step: 21ms | Tot: 58s597ms | Test >> Loss: 0.297 | Acc: 91.110% (9111/10000) 2500/2500 \n"
          ],
          "name": "stdout"
        }
      ]
    },
    {
      "cell_type": "markdown",
      "metadata": {
        "id": "mmvSUlfTa1j9",
        "colab_type": "text"
      },
      "source": [
        "### 13. Analysis\n",
        "- No of Epochs : 30\n",
        "- Best Train Acc: 95.856%\n",
        "- Best Test  Acc: 91.110%\n",
        "- No Model changes in Resnet18\n",
        "- Extra things done\n",
        "  - Normalization: \n",
        "    - transforms.Normalize((0.4914, 0.4822, 0.4465), (0.2023, 0.1994, 0.2010))\n",
        "  - Image augmentation\n",
        "    - Train\n",
        "      - RandomCrop\n",
        "      - RandomHorizontalFlip\n",
        "    - Test\n",
        "      - Nothing\n",
        "- Overfitting \n",
        "  - Calculation: (100 - 91.110) + 95.856 = 104.746 --> No overfitting\n",
        "  - Difference : 95.856 - 91.110 = 4.746 --> Less -> No overfitting\n",
        "- Train and test acc were converging till epoch 7 and started to diverge post that.\n",
        "- There has been a continous increase in train accuracy\n",
        "- Test accuracy is fluctuating\n",
        "- Gap between train and test acc is 4.7 in last epoch which is reasonable\n",
        "- The model has capacity to be trained further but accuracy gains won't be too much."
      ]
    }
  ]
}