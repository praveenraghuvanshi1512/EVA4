{
  "nbformat": 4,
  "nbformat_minor": 0,
  "metadata": {
    "colab": {
      "name": "EVA4-Quiz-9-Praveen-Raghuvanshi-Updated.ipynb",
      "provenance": [],
      "collapsed_sections": [],
      "toc_visible": true,
      "authorship_tag": "ABX9TyPZ7LHGcHw6PFMgWWxhX13r",
      "include_colab_link": true
    },
    "kernelspec": {
      "name": "python3",
      "display_name": "Python 3"
    },
    "accelerator": "GPU"
  },
  "cells": [
    {
      "cell_type": "markdown",
      "metadata": {
        "id": "view-in-github",
        "colab_type": "text"
      },
      "source": [
        "<a href=\"https://colab.research.google.com/github/praveenraghuvanshi1512/EVA4/blob/Session-9/Session-9/Assignment-9/EVA4_Quiz_9_Praveen_Raghuvanshi_Updated.ipynb\" target=\"_parent\"><img src=\"https://colab.research.google.com/assets/colab-badge.svg\" alt=\"Open In Colab\"/></a>"
      ]
    },
    {
      "cell_type": "code",
      "metadata": {
        "id": "Pj_IXe8c0rIH",
        "colab_type": "code",
        "outputId": "ff857e30-6925-4894-a8e3-4b64a3bac1c9",
        "colab": {
          "base_uri": "https://localhost:8080/",
          "height": 34
        }
      },
      "source": [
        "import datetime\n",
        "x = datetime.datetime.now()\n",
        "print(x)"
      ],
      "execution_count": 1,
      "outputs": [
        {
          "output_type": "stream",
          "text": [
            "2020-04-04 17:15:09.769370\n"
          ],
          "name": "stdout"
        }
      ]
    },
    {
      "cell_type": "markdown",
      "metadata": {
        "id": "0Y0OhocW1vGF",
        "colab_type": "text"
      },
      "source": [
        "## Steps Summary"
      ]
    },
    {
      "cell_type": "code",
      "metadata": {
        "id": "MonoftVB10LU",
        "colab_type": "code",
        "colab": {}
      },
      "source": [
        "# 1. Mount google drive\n",
        "# 2. Set the directory path of google drive\n",
        "# 3. Import all modules and libraries\n",
        "# 4. Set Device\n",
        "# 5. Import all the functions\n",
        "# 6. Load transformations\n",
        "# 7. Load dataset\n",
        "# 8. Load Classes\n",
        "# 9. Display sample images\n",
        "# 10. Load Resnet18 Model\n",
        "# 11. Define Loss function and optimizer\n",
        "# 12. Run train and test"
      ],
      "execution_count": 0,
      "outputs": []
    },
    {
      "cell_type": "markdown",
      "metadata": {
        "id": "GRzVOmLQ13Pk",
        "colab_type": "text"
      },
      "source": [
        "### 1. Mount google drive"
      ]
    },
    {
      "cell_type": "code",
      "metadata": {
        "id": "0qVdONhZ14Jl",
        "colab_type": "code",
        "outputId": "be584e5b-5b71-40cf-9215-91072436a258",
        "colab": {
          "base_uri": "https://localhost:8080/",
          "height": 34
        }
      },
      "source": [
        "# Load data from Google drive\n",
        "from google.colab import drive\n",
        "drive.mount('/content/drive')"
      ],
      "execution_count": 3,
      "outputs": [
        {
          "output_type": "stream",
          "text": [
            "Drive already mounted at /content/drive; to attempt to forcibly remount, call drive.mount(\"/content/drive\", force_remount=True).\n"
          ],
          "name": "stdout"
        }
      ]
    },
    {
      "cell_type": "markdown",
      "metadata": {
        "id": "5r0jTiK72Fqk",
        "colab_type": "text"
      },
      "source": [
        "### 2. Set the directory path of google drive"
      ]
    },
    {
      "cell_type": "code",
      "metadata": {
        "id": "ezvJdBZu2GQG",
        "colab_type": "code",
        "colab": {}
      },
      "source": [
        "import sys\n",
        "%load_ext autoreload\n",
        "%autoreload 2\n",
        "sys.path.append('/content/drive/My Drive/eva-4/assignment-9')\n",
        "sys.path.append('/content/drive/My Drive/eva-4/assignment-9/models')"
      ],
      "execution_count": 0,
      "outputs": []
    },
    {
      "cell_type": "code",
      "metadata": {
        "id": "D1I9OphG2L05",
        "colab_type": "code",
        "outputId": "7d764e35-d57e-452c-a218-3afe665b655a",
        "colab": {
          "base_uri": "https://localhost:8080/",
          "height": 34
        }
      },
      "source": [
        "cd '/content/drive/My Drive/eva-4/assignment-9'"
      ],
      "execution_count": 5,
      "outputs": [
        {
          "output_type": "stream",
          "text": [
            "/content/drive/My Drive/eva-4/assignment-9\n"
          ],
          "name": "stdout"
        }
      ]
    },
    {
      "cell_type": "code",
      "metadata": {
        "id": "tdLN55f12Pew",
        "colab_type": "code",
        "outputId": "10094875-bfb4-46e6-d9a9-feeb7a21ba7f",
        "colab": {
          "base_uri": "https://localhost:8080/",
          "height": 50
        }
      },
      "source": [
        "ls"
      ],
      "execution_count": 6,
      "outputs": [
        {
          "output_type": "stream",
          "text": [
            "augmentation.py  \u001b[0m\u001b[01;34mgradcam\u001b[0m/  \u001b[01;34moutputs\u001b[0m/      S9_functions.py  utils.py\n",
            "\u001b[01;34mdata\u001b[0m/            \u001b[01;34mmodels\u001b[0m/   \u001b[01;34m__pycache__\u001b[0m/  \u001b[01;34msampleimages\u001b[0m/\n"
          ],
          "name": "stdout"
        }
      ]
    },
    {
      "cell_type": "markdown",
      "metadata": {
        "id": "Vt_1eNX52bLu",
        "colab_type": "text"
      },
      "source": [
        "### 3. Import all modules and libraries"
      ]
    },
    {
      "cell_type": "code",
      "metadata": {
        "id": "2asiTu6q2Rqs",
        "colab_type": "code",
        "colab": {}
      },
      "source": [
        "import torch\n",
        "import torch.nn as nn\n",
        "import torch.nn.functional as F\n",
        "import torchvision\n",
        "import torchvision.transforms as transforms\n",
        "import torch.optim as optim\n",
        "import numpy as np\n",
        "from torchvision.utils import make_grid"
      ],
      "execution_count": 0,
      "outputs": []
    },
    {
      "cell_type": "markdown",
      "metadata": {
        "id": "783ZpQBP2v-U",
        "colab_type": "text"
      },
      "source": [
        "### 4. Set Device"
      ]
    },
    {
      "cell_type": "code",
      "metadata": {
        "id": "urV2nOdH2gsq",
        "colab_type": "code",
        "outputId": "1e039917-7298-4722-8903-b0bc7e7ee9ec",
        "colab": {
          "base_uri": "https://localhost:8080/",
          "height": 34
        }
      },
      "source": [
        "use_cuda = torch.cuda.is_available()\n",
        "device = torch.device(\"cuda\" if use_cuda else \"cpu\")\n",
        "print(device)"
      ],
      "execution_count": 8,
      "outputs": [
        {
          "output_type": "stream",
          "text": [
            "cuda\n"
          ],
          "name": "stdout"
        }
      ]
    },
    {
      "cell_type": "markdown",
      "metadata": {
        "id": "gVRMOwF123rt",
        "colab_type": "text"
      },
      "source": [
        "###  5. Import all the functions"
      ]
    },
    {
      "cell_type": "code",
      "metadata": {
        "id": "VsiF4Lhz2joa",
        "colab_type": "code",
        "colab": {}
      },
      "source": [
        "from model import Net, ResNet, resnet18\n",
        "from QuizDNN import QuizDNN\n",
        "from S9_functions import myfunc, transformations, loadcifar10dataset, getclasses, display, train, test, imshow, getoptimizer"
      ],
      "execution_count": 0,
      "outputs": []
    },
    {
      "cell_type": "markdown",
      "metadata": {
        "id": "fDd8NEK-3P2p",
        "colab_type": "text"
      },
      "source": [
        "###  6. Load Transformations"
      ]
    },
    {
      "cell_type": "code",
      "metadata": {
        "id": "yCa13dD33QOS",
        "colab_type": "code",
        "outputId": "2422dd89-9abf-48a8-bc3d-79092a812b86",
        "colab": {
          "base_uri": "https://localhost:8080/",
          "height": 777
        }
      },
      "source": [
        "!pip install -U git+https://github.com/albu/albumentations --no-cache-dir"
      ],
      "execution_count": 10,
      "outputs": [
        {
          "output_type": "stream",
          "text": [
            "Collecting git+https://github.com/albu/albumentations\n",
            "  Cloning https://github.com/albu/albumentations to /tmp/pip-req-build-ioswzcyl\n",
            "  Running command git clone -q https://github.com/albu/albumentations /tmp/pip-req-build-ioswzcyl\n",
            "Requirement already satisfied, skipping upgrade: numpy>=1.11.1 in /usr/local/lib/python3.6/dist-packages (from albumentations==0.4.5) (1.18.2)\n",
            "Requirement already satisfied, skipping upgrade: scipy in /usr/local/lib/python3.6/dist-packages (from albumentations==0.4.5) (1.4.1)\n",
            "Collecting imgaug<0.2.7,>=0.2.5\n",
            "\u001b[?25l  Downloading https://files.pythonhosted.org/packages/ad/2e/748dbb7bb52ec8667098bae9b585f448569ae520031932687761165419a2/imgaug-0.2.6.tar.gz (631kB)\n",
            "\u001b[K     |████████████████████████████████| 634kB 14.0MB/s \n",
            "\u001b[?25hRequirement already satisfied, skipping upgrade: PyYAML in /usr/local/lib/python3.6/dist-packages (from albumentations==0.4.5) (3.13)\n",
            "Requirement already satisfied, skipping upgrade: opencv-python>=4.1.1 in /usr/local/lib/python3.6/dist-packages (from albumentations==0.4.5) (4.1.2.30)\n",
            "Requirement already satisfied, skipping upgrade: scikit-image>=0.11.0 in /usr/local/lib/python3.6/dist-packages (from imgaug<0.2.7,>=0.2.5->albumentations==0.4.5) (0.16.2)\n",
            "Requirement already satisfied, skipping upgrade: six in /usr/local/lib/python3.6/dist-packages (from imgaug<0.2.7,>=0.2.5->albumentations==0.4.5) (1.12.0)\n",
            "Requirement already satisfied, skipping upgrade: matplotlib!=3.0.0,>=2.0.0 in /usr/local/lib/python3.6/dist-packages (from scikit-image>=0.11.0->imgaug<0.2.7,>=0.2.5->albumentations==0.4.5) (3.2.1)\n",
            "Requirement already satisfied, skipping upgrade: networkx>=2.0 in /usr/local/lib/python3.6/dist-packages (from scikit-image>=0.11.0->imgaug<0.2.7,>=0.2.5->albumentations==0.4.5) (2.4)\n",
            "Requirement already satisfied, skipping upgrade: imageio>=2.3.0 in /usr/local/lib/python3.6/dist-packages (from scikit-image>=0.11.0->imgaug<0.2.7,>=0.2.5->albumentations==0.4.5) (2.4.1)\n",
            "Requirement already satisfied, skipping upgrade: PyWavelets>=0.4.0 in /usr/local/lib/python3.6/dist-packages (from scikit-image>=0.11.0->imgaug<0.2.7,>=0.2.5->albumentations==0.4.5) (1.1.1)\n",
            "Requirement already satisfied, skipping upgrade: pillow>=4.3.0 in /usr/local/lib/python3.6/dist-packages (from scikit-image>=0.11.0->imgaug<0.2.7,>=0.2.5->albumentations==0.4.5) (7.0.0)\n",
            "Requirement already satisfied, skipping upgrade: kiwisolver>=1.0.1 in /usr/local/lib/python3.6/dist-packages (from matplotlib!=3.0.0,>=2.0.0->scikit-image>=0.11.0->imgaug<0.2.7,>=0.2.5->albumentations==0.4.5) (1.1.0)\n",
            "Requirement already satisfied, skipping upgrade: python-dateutil>=2.1 in /usr/local/lib/python3.6/dist-packages (from matplotlib!=3.0.0,>=2.0.0->scikit-image>=0.11.0->imgaug<0.2.7,>=0.2.5->albumentations==0.4.5) (2.8.1)\n",
            "Requirement already satisfied, skipping upgrade: cycler>=0.10 in /usr/local/lib/python3.6/dist-packages (from matplotlib!=3.0.0,>=2.0.0->scikit-image>=0.11.0->imgaug<0.2.7,>=0.2.5->albumentations==0.4.5) (0.10.0)\n",
            "Requirement already satisfied, skipping upgrade: pyparsing!=2.0.4,!=2.1.2,!=2.1.6,>=2.0.1 in /usr/local/lib/python3.6/dist-packages (from matplotlib!=3.0.0,>=2.0.0->scikit-image>=0.11.0->imgaug<0.2.7,>=0.2.5->albumentations==0.4.5) (2.4.6)\n",
            "Requirement already satisfied, skipping upgrade: decorator>=4.3.0 in /usr/local/lib/python3.6/dist-packages (from networkx>=2.0->scikit-image>=0.11.0->imgaug<0.2.7,>=0.2.5->albumentations==0.4.5) (4.4.2)\n",
            "Requirement already satisfied, skipping upgrade: setuptools in /usr/local/lib/python3.6/dist-packages (from kiwisolver>=1.0.1->matplotlib!=3.0.0,>=2.0.0->scikit-image>=0.11.0->imgaug<0.2.7,>=0.2.5->albumentations==0.4.5) (46.0.0)\n",
            "Building wheels for collected packages: albumentations, imgaug\n",
            "  Building wheel for albumentations (setup.py) ... \u001b[?25l\u001b[?25hdone\n",
            "  Created wheel for albumentations: filename=albumentations-0.4.5-cp36-none-any.whl size=65100 sha256=cf4bddd60052526012b7366499db76ead29ba8aad32b3b2d7e611cbde84f1b06\n",
            "  Stored in directory: /tmp/pip-ephem-wheel-cache-557o1fhg/wheels/45/8b/e4/2837bbcf517d00732b8e394f8646f22b8723ac00993230188b\n",
            "  Building wheel for imgaug (setup.py) ... \u001b[?25l\u001b[?25hdone\n",
            "  Created wheel for imgaug: filename=imgaug-0.2.6-cp36-none-any.whl size=654020 sha256=ab045d83e70c5d3e8ab5d247c6a12259d5d78c4f921575dfc8b9e9c4013c8a6d\n",
            "  Stored in directory: /tmp/pip-ephem-wheel-cache-557o1fhg/wheels/97/ec/48/0d25896c417b715af6236dbcef8f0bed136a1a5e52972fc6d0\n",
            "Successfully built albumentations imgaug\n",
            "Installing collected packages: imgaug, albumentations\n",
            "  Found existing installation: imgaug 0.2.9\n",
            "    Uninstalling imgaug-0.2.9:\n",
            "      Successfully uninstalled imgaug-0.2.9\n",
            "  Found existing installation: albumentations 0.1.12\n",
            "    Uninstalling albumentations-0.1.12:\n",
            "      Successfully uninstalled albumentations-0.1.12\n",
            "Successfully installed albumentations-0.4.5 imgaug-0.2.6\n"
          ],
          "name": "stdout"
        },
        {
          "output_type": "display_data",
          "data": {
            "application/vnd.colab-display-data+json": {
              "pip_warning": {
                "packages": [
                  "albumentations",
                  "imgaug"
                ]
              }
            }
          },
          "metadata": {
            "tags": []
          }
        }
      ]
    },
    {
      "cell_type": "code",
      "metadata": {
        "id": "iyjyIveH3Sqo",
        "colab_type": "code",
        "colab": {}
      },
      "source": [
        "transform_train, transform_test = transformations()"
      ],
      "execution_count": 0,
      "outputs": []
    },
    {
      "cell_type": "markdown",
      "metadata": {
        "id": "ybRPhSEd37IW",
        "colab_type": "text"
      },
      "source": [
        "###  7. Load Dataset"
      ]
    },
    {
      "cell_type": "code",
      "metadata": {
        "id": "bxhVbhVJ37iT",
        "colab_type": "code",
        "outputId": "380fa39c-4f67-4768-f66e-a620c201ebe5",
        "colab": {
          "base_uri": "https://localhost:8080/",
          "height": 67
        }
      },
      "source": [
        "trainset, trainloader, testset, testloader = loadcifar10dataset(transform_train, transform_test)\n",
        "print(trainloader)"
      ],
      "execution_count": 11,
      "outputs": [
        {
          "output_type": "stream",
          "text": [
            "Files already downloaded and verified\n",
            "Files already downloaded and verified\n",
            "<torch.utils.data.dataloader.DataLoader object at 0x7fee9ca49668>\n"
          ],
          "name": "stdout"
        }
      ]
    },
    {
      "cell_type": "markdown",
      "metadata": {
        "id": "4ypjZYcv3_mF",
        "colab_type": "text"
      },
      "source": [
        "###  8. Load Classes"
      ]
    },
    {
      "cell_type": "code",
      "metadata": {
        "id": "90yT-Tdd39Go",
        "colab_type": "code",
        "outputId": "e702f1a0-7314-4cbc-f646-2b2c631e094d",
        "colab": {
          "base_uri": "https://localhost:8080/",
          "height": 34
        }
      },
      "source": [
        "classes = getclasses()\n",
        "print(classes)"
      ],
      "execution_count": 12,
      "outputs": [
        {
          "output_type": "stream",
          "text": [
            "('plane', 'car', 'bird', 'cat', 'deer', 'dog', 'frog', 'horse', 'ship', 'truck')\n"
          ],
          "name": "stdout"
        }
      ]
    },
    {
      "cell_type": "markdown",
      "metadata": {
        "id": "6_UVxjMb4Dx1",
        "colab_type": "text"
      },
      "source": [
        "### 9. Display sample images"
      ]
    },
    {
      "cell_type": "code",
      "metadata": {
        "id": "MgJN8szy4Bfo",
        "colab_type": "code",
        "outputId": "d9ffa889-1d90-4aa4-fe34-d982dc0df548",
        "colab": {
          "base_uri": "https://localhost:8080/",
          "height": 302
        }
      },
      "source": [
        "display(4, trainloader, classes)"
      ],
      "execution_count": 13,
      "outputs": [
        {
          "output_type": "stream",
          "text": [
            "Clipping input data to the valid range for imshow with RGB data ([0..1] for floats or [0..255] for integers).\n"
          ],
          "name": "stderr"
        },
        {
          "output_type": "stream",
          "text": [
            "truck   cat  frog  ship\n"
          ],
          "name": "stdout"
        },
        {
          "output_type": "display_data",
          "data": {
            "image/png": "[encoded data removed]",
            "text/plain": [
              "<Figure size 432x288 with 1 Axes>"
            ]
          },
          "metadata": {
            "tags": []
          }
        }
      ]
    },
    {
      "cell_type": "markdown",
      "metadata": {
        "id": "Q5KWeSsw4IzE",
        "colab_type": "text"
      },
      "source": [
        "### 10. Load QuizDNN Model\n"
      ]
    },
    {
      "cell_type": "code",
      "metadata": {
        "id": "m5tvdrtI4FqM",
        "colab_type": "code",
        "outputId": "aec5e605-8b35-43ab-9a18-65a7b68a5219",
        "colab": {
          "base_uri": "https://localhost:8080/",
          "height": 34
        }
      },
      "source": [
        "print(\"Building Model\")\n",
        "net = QuizDNN()"
      ],
      "execution_count": 14,
      "outputs": [
        {
          "output_type": "stream",
          "text": [
            "Building Model\n"
          ],
          "name": "stdout"
        }
      ]
    },
    {
      "cell_type": "code",
      "metadata": {
        "id": "BLscugP44Slt",
        "colab_type": "code",
        "outputId": "594effff-7f2f-4c45-d739-7bde4973ce1a",
        "colab": {
          "base_uri": "https://localhost:8080/",
          "height": 941
        }
      },
      "source": [
        "# Display Model Summary\n",
        "!pip install torchsummary\n",
        "from torchsummary import summary\n",
        "\n",
        "model = net.to(device)\n",
        "summary(model, input_size=(3, 32, 32))"
      ],
      "execution_count": 15,
      "outputs": [
        {
          "output_type": "stream",
          "text": [
            "Requirement already satisfied: torchsummary in /usr/local/lib/python3.6/dist-packages (1.5.1)\n",
            "----------------------------------------------------------------\n",
            "        Layer (type)               Output Shape         Param #\n",
            "================================================================\n",
            "            Conv2d-1           [-1, 16, 32, 32]             432\n",
            "              ReLU-2           [-1, 16, 32, 32]               0\n",
            "       BatchNorm2d-3           [-1, 16, 32, 32]              32\n",
            "           Dropout-4           [-1, 16, 32, 32]               0\n",
            "            Conv2d-5           [-1, 32, 32, 32]           5,472\n",
            "              ReLU-6           [-1, 32, 32, 32]               0\n",
            "       BatchNorm2d-7           [-1, 32, 32, 32]              64\n",
            "           Dropout-8           [-1, 32, 32, 32]               0\n",
            "         MaxPool2d-9           [-1, 51, 16, 16]               0\n",
            "           Conv2d-10            [-1, 8, 18, 18]             408\n",
            "             ReLU-11            [-1, 8, 18, 18]               0\n",
            "      BatchNorm2d-12            [-1, 8, 18, 18]              16\n",
            "          Dropout-13            [-1, 8, 18, 18]               0\n",
            "           Conv2d-14           [-1, 16, 18, 18]           1,152\n",
            "             ReLU-15           [-1, 16, 18, 18]               0\n",
            "      BatchNorm2d-16           [-1, 16, 18, 18]              32\n",
            "          Dropout-17           [-1, 16, 18, 18]               0\n",
            "           Conv2d-18           [-1, 32, 18, 18]           6,912\n",
            "             ReLU-19           [-1, 32, 18, 18]               0\n",
            "      BatchNorm2d-20           [-1, 32, 18, 18]              64\n",
            "          Dropout-21           [-1, 32, 18, 18]               0\n",
            "           Conv2d-22           [-1, 64, 18, 18]          32,256\n",
            "             ReLU-23           [-1, 64, 18, 18]               0\n",
            "      BatchNorm2d-24           [-1, 64, 18, 18]             128\n",
            "          Dropout-25           [-1, 64, 18, 18]               0\n",
            "        MaxPool2d-26            [-1, 112, 9, 9]               0\n",
            "           Conv2d-27           [-1, 16, 11, 11]           1,792\n",
            "             ReLU-28           [-1, 16, 11, 11]               0\n",
            "      BatchNorm2d-29           [-1, 16, 11, 11]              32\n",
            "          Dropout-30           [-1, 16, 11, 11]               0\n",
            "           Conv2d-31           [-1, 32, 11, 11]           4,608\n",
            "             ReLU-32           [-1, 32, 11, 11]               0\n",
            "      BatchNorm2d-33           [-1, 32, 11, 11]              64\n",
            "           Conv2d-34           [-1, 64, 11, 11]          27,648\n",
            "             ReLU-35           [-1, 64, 11, 11]               0\n",
            "      BatchNorm2d-36           [-1, 64, 11, 11]             128\n",
            "           Conv2d-37          [-1, 128, 11, 11]         129,024\n",
            "             ReLU-38          [-1, 128, 11, 11]               0\n",
            "      BatchNorm2d-39          [-1, 128, 11, 11]             256\n",
            "        AvgPool2d-40            [-1, 128, 1, 1]               0\n",
            "           Conv2d-41             [-1, 10, 1, 1]           1,280\n",
            "================================================================\n",
            "Total params: 211,800\n",
            "Trainable params: 211,800\n",
            "Non-trainable params: 0\n",
            "----------------------------------------------------------------\n",
            "Input size (MB): 0.01\n",
            "Forward/backward pass size (MB): 3.54\n",
            "Params size (MB): 0.81\n",
            "Estimated Total Size (MB): 4.36\n",
            "----------------------------------------------------------------\n"
          ],
          "name": "stdout"
        }
      ]
    },
    {
      "cell_type": "markdown",
      "metadata": {
        "id": "zmd8v-hq55MO",
        "colab_type": "text"
      },
      "source": [
        "### 11. Define loss function and optimizer\n"
      ]
    },
    {
      "cell_type": "code",
      "metadata": {
        "id": "SoFrohOn4Tvv",
        "colab_type": "code",
        "colab": {}
      },
      "source": [
        "criterion = nn.CrossEntropyLoss()\n",
        "optimizer = getoptimizer(net)"
      ],
      "execution_count": 0,
      "outputs": []
    },
    {
      "cell_type": "markdown",
      "metadata": {
        "id": "H4hsyIDh5-hc",
        "colab_type": "text"
      },
      "source": [
        "### 12. Run Train and Test"
      ]
    },
    {
      "cell_type": "code",
      "metadata": {
        "id": "JOYSwB-M57Hm",
        "colab_type": "code",
        "outputId": "03e7eaac-b14d-45a5-cb68-e4fbbdf7e84e",
        "colab": {
          "base_uri": "https://localhost:8080/",
          "height": 1000
        }
      },
      "source": [
        "for epoch in range(40):\n",
        "    train(net, trainloader, device, optimizer, criterion, epoch)\n",
        "    test(net, testloader, device, criterion, epoch)\n",
        "\n",
        "print(\"Training completed\")"
      ],
      "execution_count": 17,
      "outputs": [
        {
          "output_type": "stream",
          "text": [
            "\n",
            "Epoch: 0\n",
            " [================================================================>]  Step: 22ms | Tot: 19s679ms | Train >> Loss: 1.707 | Acc: 37.292% (18646/50000) 391/391 \n",
            " [================================================================>]  Step: 8ms | Tot: 2s188ms | Test >> Loss: 1.376 | Acc: 49.490% (4949/10000) 79/79 \n",
            "\n",
            "Epoch: 1\n",
            " [================================================================>]  Step: 25ms | Tot: 19s847ms | Train >> Loss: 1.438 | Acc: 47.774% (23887/50000) 391/391 \n",
            " [================================================================>]  Step: 9ms | Tot: 2s220ms | Test >> Loss: 1.230 | Acc: 55.250% (5525/10000) 79/79 \n",
            "\n",
            "Epoch: 2\n",
            " [================================================================>]  Step: 23ms | Tot: 19s881ms | Train >> Loss: 1.318 | Acc: 52.234% (26117/50000) 391/391 \n",
            " [================================================================>]  Step: 8ms | Tot: 2s147ms | Test >> Loss: 1.190 | Acc: 56.820% (5682/10000) 79/79 \n",
            "\n",
            "Epoch: 3\n",
            " [================================================================>]  Step: 23ms | Tot: 19s802ms | Train >> Loss: 1.243 | Acc: 55.214% (27607/50000) 391/391 \n",
            " [================================================================>]  Step: 9ms | Tot: 2s199ms | Test >> Loss: 1.073 | Acc: 61.910% (6191/10000) 79/79 \n",
            "\n",
            "Epoch: 4\n",
            " [================================================================>]  Step: 24ms | Tot: 19s632ms | Train >> Loss: 1.178 | Acc: 57.962% (28981/50000) 391/391 \n",
            " [================================================================>]  Step: 8ms | Tot: 2s149ms | Test >> Loss: 0.963 | Acc: 66.430% (6643/10000) 79/79 \n",
            "\n",
            "Epoch: 5\n",
            " [================================================================>]  Step: 21ms | Tot: 19s640ms | Train >> Loss: 1.131 | Acc: 59.770% (29885/50000) 391/391 \n",
            " [================================================================>]  Step: 5ms | Tot: 2s133ms | Test >> Loss: 0.889 | Acc: 68.740% (6874/10000) 79/79 \n",
            "\n",
            "Epoch: 6\n",
            " [================================================================>]  Step: 21ms | Tot: 19s536ms | Train >> Loss: 1.083 | Acc: 61.288% (30644/50000) 391/391 \n",
            " [================================================================>]  Step: 7ms | Tot: 2s70ms | Test >> Loss: 0.863 | Acc: 69.850% (6985/10000) 79/79 \n",
            "\n",
            "Epoch: 7\n",
            " [================================================================>]  Step: 22ms | Tot: 19s532ms | Train >> Loss: 1.046 | Acc: 62.868% (31434/50000) 391/391 \n",
            " [================================================================>]  Step: 9ms | Tot: 2s147ms | Test >> Loss: 0.827 | Acc: 70.360% (7036/10000) 79/79 \n",
            "\n",
            "Epoch: 8\n",
            " [================================================================>]  Step: 23ms | Tot: 19s398ms | Train >> Loss: 1.012 | Acc: 64.010% (32005/50000) 391/391 \n",
            " [================================================================>]  Step: 8ms | Tot: 2s181ms | Test >> Loss: 0.808 | Acc: 71.840% (7184/10000) 79/79 \n",
            "\n",
            "Epoch: 9\n",
            " [================================================================>]  Step: 28ms | Tot: 19s659ms | Train >> Loss: 0.985 | Acc: 65.136% (32568/50000) 391/391 \n",
            " [================================================================>]  Step: 9ms | Tot: 2s103ms | Test >> Loss: 0.756 | Acc: 73.500% (7350/10000) 79/79 \n",
            "\n",
            "Epoch: 10\n",
            " [================================================================>]  Step: 21ms | Tot: 19s692ms | Train >> Loss: 0.962 | Acc: 66.156% (33078/50000) 391/391 \n",
            " [================================================================>]  Step: 7ms | Tot: 2s177ms | Test >> Loss: 0.751 | Acc: 73.360% (7336/10000) 79/79 \n",
            "\n",
            "Epoch: 11\n",
            " [================================================================>]  Step: 23ms | Tot: 19s525ms | Train >> Loss: 0.939 | Acc: 66.866% (33433/50000) 391/391 \n",
            " [================================================================>]  Step: 7ms | Tot: 2s52ms | Test >> Loss: 0.744 | Acc: 74.090% (7409/10000) 79/79 \n",
            "\n",
            "Epoch: 12\n",
            " [================================================================>]  Step: 31ms | Tot: 19s521ms | Train >> Loss: 0.921 | Acc: 67.684% (33842/50000) 391/391 \n",
            " [================================================================>]  Step: 7ms | Tot: 2s143ms | Test >> Loss: 0.721 | Acc: 74.870% (7487/10000) 79/79 \n",
            "\n",
            "Epoch: 13\n",
            " [================================================================>]  Step: 23ms | Tot: 19s346ms | Train >> Loss: 0.900 | Acc: 68.582% (34291/50000) 391/391 \n",
            " [================================================================>]  Step: 11ms | Tot: 2s77ms | Test >> Loss: 0.698 | Acc: 75.760% (7576/10000) 79/79 \n",
            "\n",
            "Epoch: 14\n",
            " [================================================================>]  Step: 20ms | Tot: 19s215ms | Train >> Loss: 0.888 | Acc: 68.734% (34367/50000) 391/391 \n",
            " [================================================================>]  Step: 7ms | Tot: 2s100ms | Test >> Loss: 0.688 | Acc: 76.510% (7651/10000) 79/79 \n",
            "\n",
            "Epoch: 15\n",
            " [================================================================>]  Step: 22ms | Tot: 19s217ms | Train >> Loss: 0.866 | Acc: 69.672% (34836/50000) 391/391 \n",
            " [================================================================>]  Step: 8ms | Tot: 2s126ms | Test >> Loss: 0.664 | Acc: 76.910% (7691/10000) 79/79 \n",
            "\n",
            "Epoch: 16\n",
            " [================================================================>]  Step: 22ms | Tot: 19s377ms | Train >> Loss: 0.850 | Acc: 70.256% (35128/50000) 391/391 \n",
            " [================================================================>]  Step: 8ms | Tot: 2s97ms | Test >> Loss: 0.655 | Acc: 77.260% (7726/10000) 79/79 \n",
            "\n",
            "Epoch: 17\n",
            " [================================================================>]  Step: 22ms | Tot: 19s259ms | Train >> Loss: 0.833 | Acc: 70.984% (35492/50000) 391/391 \n",
            " [================================================================>]  Step: 7ms | Tot: 2s42ms | Test >> Loss: 0.640 | Acc: 77.810% (7781/10000) 79/79 \n",
            "\n",
            "Epoch: 18\n",
            " [================================================================>]  Step: 22ms | Tot: 19s322ms | Train >> Loss: 0.818 | Acc: 71.340% (35670/50000) 391/391 \n",
            " [================================================================>]  Step: 8ms | Tot: 2s58ms | Test >> Loss: 0.650 | Acc: 78.060% (7806/10000) 79/79 \n",
            "\n",
            "Epoch: 19\n",
            " [================================================================>]  Step: 25ms | Tot: 18s875ms | Train >> Loss: 0.814 | Acc: 71.398% (35699/50000) 391/391 \n",
            " [================================================================>]  Step: 8ms | Tot: 2s71ms | Test >> Loss: 0.665 | Acc: 77.230% (7723/10000) 79/79 \n",
            "\n",
            "Epoch: 20\n",
            " [================================================================>]  Step: 22ms | Tot: 19s41ms | Train >> Loss: 0.799 | Acc: 72.028% (36014/50000) 391/391 \n",
            " [================================================================>]  Step: 11ms | Tot: 2s90ms | Test >> Loss: 0.603 | Acc: 79.370% (7937/10000) 79/79 \n",
            "\n",
            "Epoch: 21\n",
            " [================================================================>]  Step: 21ms | Tot: 19s18ms | Train >> Loss: 0.785 | Acc: 72.558% (36279/50000) 391/391 \n",
            " [================================================================>]  Step: 7ms | Tot: 2s44ms | Test >> Loss: 0.621 | Acc: 78.520% (7852/10000) 79/79 \n",
            "\n",
            "Epoch: 22\n",
            " [================================================================>]  Step: 23ms | Tot: 18s979ms | Train >> Loss: 0.778 | Acc: 72.886% (36443/50000) 391/391 \n",
            " [================================================================>]  Step: 9ms | Tot: 2s110ms | Test >> Loss: 0.600 | Acc: 79.390% (7939/10000) 79/79 \n",
            "\n",
            "Epoch: 23\n",
            " [================================================================>]  Step: 23ms | Tot: 19s45ms | Train >> Loss: 0.771 | Acc: 73.118% (36559/50000) 391/391 \n",
            " [================================================================>]  Step: 10ms | Tot: 2s92ms | Test >> Loss: 0.602 | Acc: 79.520% (7952/10000) 79/79 \n",
            "\n",
            "Epoch: 24\n",
            " [================================================================>]  Step: 23ms | Tot: 19s46ms | Train >> Loss: 0.760 | Acc: 73.434% (36717/50000) 391/391 \n",
            " [================================================================>]  Step: 13ms | Tot: 2s55ms | Test >> Loss: 0.569 | Acc: 80.330% (8033/10000) 79/79 \n",
            "\n",
            "Epoch: 25\n",
            " [================================================================>]  Step: 24ms | Tot: 19s82ms | Train >> Loss: 0.746 | Acc: 74.042% (37021/50000) 391/391 \n",
            " [================================================================>]  Step: 8ms | Tot: 2s86ms | Test >> Loss: 0.562 | Acc: 80.810% (8081/10000) 79/79 \n",
            "\n",
            "Epoch: 26\n",
            " [================================================================>]  Step: 23ms | Tot: 18s799ms | Train >> Loss: 0.734 | Acc: 74.370% (37185/50000) 391/391 \n",
            " [================================================================>]  Step: 8ms | Tot: 2s86ms | Test >> Loss: 0.555 | Acc: 81.320% (8132/10000) 79/79 \n",
            "\n",
            "Epoch: 27\n",
            " [================================================================>]  Step: 19ms | Tot: 19s119ms | Train >> Loss: 0.733 | Acc: 74.444% (37222/50000) 391/391 \n",
            " [================================================================>]  Step: 8ms | Tot: 2s71ms | Test >> Loss: 0.556 | Acc: 80.900% (8090/10000) 79/79 \n",
            "\n",
            "Epoch: 28\n",
            " [================================================================>]  Step: 20ms | Tot: 18s906ms | Train >> Loss: 0.724 | Acc: 74.780% (37390/50000) 391/391 \n",
            " [================================================================>]  Step: 7ms | Tot: 2s29ms | Test >> Loss: 0.568 | Acc: 80.840% (8084/10000) 79/79 \n",
            "\n",
            "Epoch: 29\n",
            " [================================================================>]  Step: 25ms | Tot: 18s929ms | Train >> Loss: 0.714 | Acc: 75.006% (37503/50000) 391/391 \n",
            " [================================================================>]  Step: 8ms | Tot: 2s93ms | Test >> Loss: 0.557 | Acc: 81.420% (8142/10000) 79/79 \n",
            "\n",
            "Epoch: 30\n",
            " [================================================================>]  Step: 21ms | Tot: 18s842ms | Train >> Loss: 0.715 | Acc: 75.142% (37571/50000) 391/391 \n",
            " [================================================================>]  Step: 7ms | Tot: 2s57ms | Test >> Loss: 0.542 | Acc: 81.530% (8153/10000) 79/79 \n",
            "\n",
            "Epoch: 31\n",
            " [================================================================>]  Step: 21ms | Tot: 18s999ms | Train >> Loss: 0.704 | Acc: 75.496% (37748/50000) 391/391 \n",
            " [================================================================>]  Step: 8ms | Tot: 2s20ms | Test >> Loss: 0.527 | Acc: 82.270% (8227/10000) 79/79 \n",
            "\n",
            "Epoch: 32\n",
            " [================================================================>]  Step: 24ms | Tot: 19s33ms | Train >> Loss: 0.699 | Acc: 75.706% (37853/50000) 391/391 \n",
            " [================================================================>]  Step: 12ms | Tot: 2s88ms | Test >> Loss: 0.565 | Acc: 80.690% (8069/10000) 79/79 \n",
            "\n",
            "Epoch: 33\n",
            " [================================================================>]  Step: 23ms | Tot: 18s673ms | Train >> Loss: 0.688 | Acc: 76.078% (38039/50000) 391/391 \n",
            " [================================================================>]  Step: 13ms | Tot: 2s60ms | Test >> Loss: 0.554 | Acc: 80.960% (8096/10000) 79/79 \n",
            "\n",
            "Epoch: 34\n",
            " [================================================================>]  Step: 24ms | Tot: 18s837ms | Train >> Loss: 0.680 | Acc: 76.274% (38137/50000) 391/391 \n",
            " [================================================================>]  Step: 8ms | Tot: 2s107ms | Test >> Loss: 0.507 | Acc: 82.980% (8298/10000) 79/79 \n",
            "\n",
            "Epoch: 35\n",
            " [================================================================>]  Step: 22ms | Tot: 19s28ms | Train >> Loss: 0.673 | Acc: 76.562% (38281/50000) 391/391 \n",
            " [================================================================>]  Step: 8ms | Tot: 2s96ms | Test >> Loss: 0.519 | Acc: 82.140% (8214/10000) 79/79 \n",
            "\n",
            "Epoch: 36\n",
            " [================================================================>]  Step: 21ms | Tot: 18s922ms | Train >> Loss: 0.665 | Acc: 76.776% (38388/50000) 391/391 \n",
            " [================================================================>]  Step: 6ms | Tot: 2s108ms | Test >> Loss: 0.528 | Acc: 82.240% (8224/10000) 79/79 \n",
            "\n",
            "Epoch: 37\n",
            " [================================================================>]  Step: 19ms | Tot: 18s924ms | Train >> Loss: 0.665 | Acc: 76.958% (38479/50000) 391/391 \n",
            " [================================================================>]  Step: 8ms | Tot: 2s122ms | Test >> Loss: 0.526 | Acc: 81.880% (8188/10000) 79/79 \n",
            "\n",
            "Epoch: 38\n",
            " [================================================================>]  Step: 21ms | Tot: 19s5ms | Train >> Loss: 0.656 | Acc: 77.210% (38605/50000) 391/391 \n",
            " [================================================================>]  Step: 9ms | Tot: 2s118ms | Test >> Loss: 0.505 | Acc: 83.150% (8315/10000) 79/79 \n",
            "\n",
            "Epoch: 39\n",
            " [================================================================>]  Step: 22ms | Tot: 19s27ms | Train >> Loss: 0.653 | Acc: 77.172% (38586/50000) 391/391 \n",
            " [================================================================>]  Step: 5ms | Tot: 2s140ms | Test >> Loss: 0.521 | Acc: 82.220% (8222/10000) 79/79 \n",
            "Training completed\n"
          ],
          "name": "stdout"
        }
      ]
    }
  ]
}