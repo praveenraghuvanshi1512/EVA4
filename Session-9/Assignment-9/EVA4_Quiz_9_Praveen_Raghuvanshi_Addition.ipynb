{
  "nbformat": 4,
  "nbformat_minor": 0,
  "metadata": {
    "colab": {
      "name": "EVA4-Quiz-9-Praveen-Raghuvanshi-Addition.ipynb",
      "provenance": [],
      "collapsed_sections": [],
      "toc_visible": true,
      "authorship_tag": "ABX9TyNjOZh8qr6D0NEW9+1m8AAk",
      "include_colab_link": true
    },
    "kernelspec": {
      "name": "python3",
      "display_name": "Python 3"
    },
    "accelerator": "GPU"
  },
  "cells": [
    {
      "cell_type": "markdown",
      "metadata": {
        "id": "view-in-github",
        "colab_type": "text"
      },
      "source": [
        "<a href=\"https://colab.research.google.com/github/praveenraghuvanshi1512/EVA4/blob/Session-9/Session-9/Assignment-9/EVA4_Quiz_9_Praveen_Raghuvanshi_Addition.ipynb\" target=\"_parent\"><img src=\"https://colab.research.google.com/assets/colab-badge.svg\" alt=\"Open In Colab\"/></a>"
      ]
    },
    {
      "cell_type": "code",
      "metadata": {
        "id": "Pj_IXe8c0rIH",
        "colab_type": "code",
        "outputId": "37311640-3200-454c-a0bf-d021179913bd",
        "colab": {
          "base_uri": "https://localhost:8080/",
          "height": 34
        }
      },
      "source": [
        "import datetime\n",
        "x = datetime.datetime.now()\n",
        "print(x)"
      ],
      "execution_count": 1,
      "outputs": [
        {
          "output_type": "stream",
          "text": [
            "2020-04-05 17:08:11.363385\n"
          ],
          "name": "stdout"
        }
      ]
    },
    {
      "cell_type": "markdown",
      "metadata": {
        "id": "0Y0OhocW1vGF",
        "colab_type": "text"
      },
      "source": [
        "## Steps Summary"
      ]
    },
    {
      "cell_type": "code",
      "metadata": {
        "id": "MonoftVB10LU",
        "colab_type": "code",
        "colab": {}
      },
      "source": [
        "# 1. Mount google drive\n",
        "# 2. Set the directory path of google drive\n",
        "# 3. Import all modules and libraries\n",
        "# 4. Set Device\n",
        "# 5. Import all the functions\n",
        "# 6. Load transformations\n",
        "# 7. Load dataset\n",
        "# 8. Load Classes\n",
        "# 9. Display sample images\n",
        "# 10. Load Resnet18 Model\n",
        "# 11. Define Loss function and optimizer\n",
        "# 12. Run train and test"
      ],
      "execution_count": 0,
      "outputs": []
    },
    {
      "cell_type": "markdown",
      "metadata": {
        "id": "GRzVOmLQ13Pk",
        "colab_type": "text"
      },
      "source": [
        "### 1. Mount google drive"
      ]
    },
    {
      "cell_type": "code",
      "metadata": {
        "id": "0qVdONhZ14Jl",
        "colab_type": "code",
        "outputId": "1ca27244-0803-4cca-ee25-5ea81e90769c",
        "colab": {
          "base_uri": "https://localhost:8080/",
          "height": 34
        }
      },
      "source": [
        "# Load data from Google drive\n",
        "from google.colab import drive\n",
        "drive.mount('/content/drive')"
      ],
      "execution_count": 3,
      "outputs": [
        {
          "output_type": "stream",
          "text": [
            "Drive already mounted at /content/drive; to attempt to forcibly remount, call drive.mount(\"/content/drive\", force_remount=True).\n"
          ],
          "name": "stdout"
        }
      ]
    },
    {
      "cell_type": "markdown",
      "metadata": {
        "id": "5r0jTiK72Fqk",
        "colab_type": "text"
      },
      "source": [
        "### 2. Set the directory path of google drive"
      ]
    },
    {
      "cell_type": "code",
      "metadata": {
        "id": "ezvJdBZu2GQG",
        "colab_type": "code",
        "colab": {}
      },
      "source": [
        "import sys\n",
        "%load_ext autoreload\n",
        "%autoreload 2\n",
        "sys.path.append('/content/drive/My Drive/eva-4/assignment-9')\n",
        "sys.path.append('/content/drive/My Drive/eva-4/assignment-9/models')"
      ],
      "execution_count": 0,
      "outputs": []
    },
    {
      "cell_type": "code",
      "metadata": {
        "id": "D1I9OphG2L05",
        "colab_type": "code",
        "outputId": "10be4c5a-3eee-4fff-bed5-fcd27443fbf9",
        "colab": {
          "base_uri": "https://localhost:8080/",
          "height": 34
        }
      },
      "source": [
        "cd '/content/drive/My Drive/eva-4/assignment-9'"
      ],
      "execution_count": 5,
      "outputs": [
        {
          "output_type": "stream",
          "text": [
            "/content/drive/My Drive/eva-4/assignment-9\n"
          ],
          "name": "stdout"
        }
      ]
    },
    {
      "cell_type": "code",
      "metadata": {
        "id": "tdLN55f12Pew",
        "colab_type": "code",
        "outputId": "fc302a2c-756f-408d-89c3-e693daeb0d15",
        "colab": {
          "base_uri": "https://localhost:8080/",
          "height": 50
        }
      },
      "source": [
        "ls"
      ],
      "execution_count": 6,
      "outputs": [
        {
          "output_type": "stream",
          "text": [
            "augmentation.py  \u001b[0m\u001b[01;34mgradcam\u001b[0m/  \u001b[01;34moutputs\u001b[0m/      S9_functions.py  utils.py\n",
            "\u001b[01;34mdata\u001b[0m/            \u001b[01;34mmodels\u001b[0m/   \u001b[01;34m__pycache__\u001b[0m/  \u001b[01;34msampleimages\u001b[0m/\n"
          ],
          "name": "stdout"
        }
      ]
    },
    {
      "cell_type": "markdown",
      "metadata": {
        "id": "Vt_1eNX52bLu",
        "colab_type": "text"
      },
      "source": [
        "### 3. Import all modules and libraries"
      ]
    },
    {
      "cell_type": "code",
      "metadata": {
        "id": "2asiTu6q2Rqs",
        "colab_type": "code",
        "colab": {}
      },
      "source": [
        "import torch\n",
        "import torch.nn as nn\n",
        "import torch.nn.functional as F\n",
        "import torchvision\n",
        "import torchvision.transforms as transforms\n",
        "import torch.optim as optim\n",
        "import numpy as np\n",
        "from torchvision.utils import make_grid"
      ],
      "execution_count": 0,
      "outputs": []
    },
    {
      "cell_type": "markdown",
      "metadata": {
        "id": "783ZpQBP2v-U",
        "colab_type": "text"
      },
      "source": [
        "### 4. Set Device"
      ]
    },
    {
      "cell_type": "code",
      "metadata": {
        "id": "urV2nOdH2gsq",
        "colab_type": "code",
        "outputId": "740fa642-972c-4ca3-f276-73b0c2f75c3c",
        "colab": {
          "base_uri": "https://localhost:8080/",
          "height": 34
        }
      },
      "source": [
        "use_cuda = torch.cuda.is_available()\n",
        "device = torch.device(\"cuda\" if use_cuda else \"cpu\")\n",
        "print(device)"
      ],
      "execution_count": 8,
      "outputs": [
        {
          "output_type": "stream",
          "text": [
            "cuda\n"
          ],
          "name": "stdout"
        }
      ]
    },
    {
      "cell_type": "markdown",
      "metadata": {
        "id": "gVRMOwF123rt",
        "colab_type": "text"
      },
      "source": [
        "###  5. Import all the functions"
      ]
    },
    {
      "cell_type": "code",
      "metadata": {
        "id": "VsiF4Lhz2joa",
        "colab_type": "code",
        "colab": {}
      },
      "source": [
        "from model import Net, ResNet, resnet18\n",
        "from QuizDNN import QuizDNN\n",
        "from S9_functions import myfunc, transformations, loadcifar10dataset, getclasses, display, train, test, imshow, getoptimizer"
      ],
      "execution_count": 0,
      "outputs": []
    },
    {
      "cell_type": "markdown",
      "metadata": {
        "id": "fDd8NEK-3P2p",
        "colab_type": "text"
      },
      "source": [
        "###  6. Load Transformations"
      ]
    },
    {
      "cell_type": "code",
      "metadata": {
        "id": "yCa13dD33QOS",
        "colab_type": "code",
        "outputId": "0489295d-da4c-49c4-b083-e521f7dd50ea",
        "colab": {
          "base_uri": "https://localhost:8080/",
          "height": 777
        }
      },
      "source": [
        "!pip install -U git+https://github.com/albu/albumentations --no-cache-dir"
      ],
      "execution_count": 96,
      "outputs": [
        {
          "output_type": "stream",
          "text": [
            "Collecting git+https://github.com/albu/albumentations\n",
            "  Cloning https://github.com/albu/albumentations to /tmp/pip-req-build-c7y99wft\n",
            "  Running command git clone -q https://github.com/albu/albumentations /tmp/pip-req-build-c7y99wft\n",
            "Requirement already satisfied, skipping upgrade: numpy>=1.11.1 in /usr/local/lib/python3.6/dist-packages (from albumentations==0.4.5) (1.18.2)\n",
            "Requirement already satisfied, skipping upgrade: scipy in /usr/local/lib/python3.6/dist-packages (from albumentations==0.4.5) (1.4.1)\n",
            "Collecting imgaug<0.2.7,>=0.2.5\n",
            "\u001b[?25l  Downloading https://files.pythonhosted.org/packages/ad/2e/748dbb7bb52ec8667098bae9b585f448569ae520031932687761165419a2/imgaug-0.2.6.tar.gz (631kB)\n",
            "\u001b[K     |████████████████████████████████| 634kB 34.8MB/s \n",
            "\u001b[?25hRequirement already satisfied, skipping upgrade: PyYAML in /usr/local/lib/python3.6/dist-packages (from albumentations==0.4.5) (3.13)\n",
            "Requirement already satisfied, skipping upgrade: opencv-python>=4.1.1 in /usr/local/lib/python3.6/dist-packages (from albumentations==0.4.5) (4.1.2.30)\n",
            "Requirement already satisfied, skipping upgrade: scikit-image>=0.11.0 in /usr/local/lib/python3.6/dist-packages (from imgaug<0.2.7,>=0.2.5->albumentations==0.4.5) (0.16.2)\n",
            "Requirement already satisfied, skipping upgrade: six in /usr/local/lib/python3.6/dist-packages (from imgaug<0.2.7,>=0.2.5->albumentations==0.4.5) (1.12.0)\n",
            "Requirement already satisfied, skipping upgrade: PyWavelets>=0.4.0 in /usr/local/lib/python3.6/dist-packages (from scikit-image>=0.11.0->imgaug<0.2.7,>=0.2.5->albumentations==0.4.5) (1.1.1)\n",
            "Requirement already satisfied, skipping upgrade: pillow>=4.3.0 in /usr/local/lib/python3.6/dist-packages (from scikit-image>=0.11.0->imgaug<0.2.7,>=0.2.5->albumentations==0.4.5) (7.0.0)\n",
            "Requirement already satisfied, skipping upgrade: matplotlib!=3.0.0,>=2.0.0 in /usr/local/lib/python3.6/dist-packages (from scikit-image>=0.11.0->imgaug<0.2.7,>=0.2.5->albumentations==0.4.5) (3.2.1)\n",
            "Requirement already satisfied, skipping upgrade: imageio>=2.3.0 in /usr/local/lib/python3.6/dist-packages (from scikit-image>=0.11.0->imgaug<0.2.7,>=0.2.5->albumentations==0.4.5) (2.4.1)\n",
            "Requirement already satisfied, skipping upgrade: networkx>=2.0 in /usr/local/lib/python3.6/dist-packages (from scikit-image>=0.11.0->imgaug<0.2.7,>=0.2.5->albumentations==0.4.5) (2.4)\n",
            "Requirement already satisfied, skipping upgrade: cycler>=0.10 in /usr/local/lib/python3.6/dist-packages (from matplotlib!=3.0.0,>=2.0.0->scikit-image>=0.11.0->imgaug<0.2.7,>=0.2.5->albumentations==0.4.5) (0.10.0)\n",
            "Requirement already satisfied, skipping upgrade: python-dateutil>=2.1 in /usr/local/lib/python3.6/dist-packages (from matplotlib!=3.0.0,>=2.0.0->scikit-image>=0.11.0->imgaug<0.2.7,>=0.2.5->albumentations==0.4.5) (2.8.1)\n",
            "Requirement already satisfied, skipping upgrade: kiwisolver>=1.0.1 in /usr/local/lib/python3.6/dist-packages (from matplotlib!=3.0.0,>=2.0.0->scikit-image>=0.11.0->imgaug<0.2.7,>=0.2.5->albumentations==0.4.5) (1.1.0)\n",
            "Requirement already satisfied, skipping upgrade: pyparsing!=2.0.4,!=2.1.2,!=2.1.6,>=2.0.1 in /usr/local/lib/python3.6/dist-packages (from matplotlib!=3.0.0,>=2.0.0->scikit-image>=0.11.0->imgaug<0.2.7,>=0.2.5->albumentations==0.4.5) (2.4.6)\n",
            "Requirement already satisfied, skipping upgrade: decorator>=4.3.0 in /usr/local/lib/python3.6/dist-packages (from networkx>=2.0->scikit-image>=0.11.0->imgaug<0.2.7,>=0.2.5->albumentations==0.4.5) (4.4.2)\n",
            "Requirement already satisfied, skipping upgrade: setuptools in /usr/local/lib/python3.6/dist-packages (from kiwisolver>=1.0.1->matplotlib!=3.0.0,>=2.0.0->scikit-image>=0.11.0->imgaug<0.2.7,>=0.2.5->albumentations==0.4.5) (46.0.0)\n",
            "Building wheels for collected packages: albumentations, imgaug\n",
            "  Building wheel for albumentations (setup.py) ... \u001b[?25l\u001b[?25hdone\n",
            "  Created wheel for albumentations: filename=albumentations-0.4.5-cp36-none-any.whl size=65100 sha256=d9a13bc4f4684c9e68963a69f8c4401f6bb1934e5bbd7a64dc5d5f57ef79f532\n",
            "  Stored in directory: /tmp/pip-ephem-wheel-cache-hqq1yprp/wheels/45/8b/e4/2837bbcf517d00732b8e394f8646f22b8723ac00993230188b\n",
            "  Building wheel for imgaug (setup.py) ... \u001b[?25l\u001b[?25hdone\n",
            "  Created wheel for imgaug: filename=imgaug-0.2.6-cp36-none-any.whl size=654020 sha256=d2631c3f285d384f3f58cb8644d2f43baaf502ab8b6ce6f69a3926e21e94de8c\n",
            "  Stored in directory: /tmp/pip-ephem-wheel-cache-hqq1yprp/wheels/97/ec/48/0d25896c417b715af6236dbcef8f0bed136a1a5e52972fc6d0\n",
            "Successfully built albumentations imgaug\n",
            "Installing collected packages: imgaug, albumentations\n",
            "  Found existing installation: imgaug 0.2.9\n",
            "    Uninstalling imgaug-0.2.9:\n",
            "      Successfully uninstalled imgaug-0.2.9\n",
            "  Found existing installation: albumentations 0.1.12\n",
            "    Uninstalling albumentations-0.1.12:\n",
            "      Successfully uninstalled albumentations-0.1.12\n",
            "Successfully installed albumentations-0.4.5 imgaug-0.2.6\n"
          ],
          "name": "stdout"
        },
        {
          "output_type": "display_data",
          "data": {
            "application/vnd.colab-display-data+json": {
              "pip_warning": {
                "packages": [
                  "albumentations",
                  "imgaug"
                ]
              }
            }
          },
          "metadata": {
            "tags": []
          }
        }
      ]
    },
    {
      "cell_type": "code",
      "metadata": {
        "id": "iyjyIveH3Sqo",
        "colab_type": "code",
        "colab": {}
      },
      "source": [
        "transform_train, transform_test = transformations()"
      ],
      "execution_count": 0,
      "outputs": []
    },
    {
      "cell_type": "markdown",
      "metadata": {
        "id": "ybRPhSEd37IW",
        "colab_type": "text"
      },
      "source": [
        "###  7. Load Dataset"
      ]
    },
    {
      "cell_type": "code",
      "metadata": {
        "id": "bxhVbhVJ37iT",
        "colab_type": "code",
        "outputId": "fcfe5723-c4b7-4dd3-8f05-fd365af4e033",
        "colab": {
          "base_uri": "https://localhost:8080/",
          "height": 67
        }
      },
      "source": [
        "trainset, trainloader, testset, testloader = loadcifar10dataset(transform_train, transform_test)\n",
        "print(trainloader)"
      ],
      "execution_count": 11,
      "outputs": [
        {
          "output_type": "stream",
          "text": [
            "Files already downloaded and verified\n",
            "Files already downloaded and verified\n",
            "<torch.utils.data.dataloader.DataLoader object at 0x7fbf8ac1bb70>\n"
          ],
          "name": "stdout"
        }
      ]
    },
    {
      "cell_type": "markdown",
      "metadata": {
        "id": "4ypjZYcv3_mF",
        "colab_type": "text"
      },
      "source": [
        "###  8. Load Classes"
      ]
    },
    {
      "cell_type": "code",
      "metadata": {
        "id": "90yT-Tdd39Go",
        "colab_type": "code",
        "outputId": "23a67018-91ae-4d4f-df4c-48068e50d27a",
        "colab": {
          "base_uri": "https://localhost:8080/",
          "height": 34
        }
      },
      "source": [
        "classes = getclasses()\n",
        "print(classes)"
      ],
      "execution_count": 12,
      "outputs": [
        {
          "output_type": "stream",
          "text": [
            "('plane', 'car', 'bird', 'cat', 'deer', 'dog', 'frog', 'horse', 'ship', 'truck')\n"
          ],
          "name": "stdout"
        }
      ]
    },
    {
      "cell_type": "markdown",
      "metadata": {
        "id": "6_UVxjMb4Dx1",
        "colab_type": "text"
      },
      "source": [
        "### 9. Display sample images"
      ]
    },
    {
      "cell_type": "code",
      "metadata": {
        "id": "MgJN8szy4Bfo",
        "colab_type": "code",
        "outputId": "d4bf5c72-ad46-44df-ae03-e85e2d291529",
        "colab": {
          "base_uri": "https://localhost:8080/",
          "height": 302
        }
      },
      "source": [
        "display(4, trainloader, classes)"
      ],
      "execution_count": 13,
      "outputs": [
        {
          "output_type": "stream",
          "text": [
            "Clipping input data to the valid range for imshow with RGB data ([0..1] for floats or [0..255] for integers).\n"
          ],
          "name": "stderr"
        },
        {
          "output_type": "stream",
          "text": [
            "  dog  deer horse  ship\n"
          ],
          "name": "stdout"
        },
        {
          "output_type": "display_data",
          "data": {
            "image/png": "[encoded data removed]",
            "text/plain": [
              "<Figure size 432x288 with 1 Axes>"
            ]
          },
          "metadata": {
            "tags": []
          }
        }
      ]
    },
    {
      "cell_type": "markdown",
      "metadata": {
        "id": "Q5KWeSsw4IzE",
        "colab_type": "text"
      },
      "source": [
        "### 10. Load QuizDNN Model\n"
      ]
    },
    {
      "cell_type": "code",
      "metadata": {
        "id": "rNRR3gYX3uB3",
        "colab_type": "code",
        "colab": {}
      },
      "source": [
        "import torch\n",
        "import torch.nn as nn\n",
        "import torch.nn.functional as F\n",
        "\n",
        "class QuizDNN(nn.Module):\n",
        "    def __init__(self):\n",
        "        super(QuizDNN, self).__init__()\n",
        "        \n",
        "        dropout_value = 0.05\n",
        "        \n",
        "        # Convolution Block 1\n",
        "        self.convblock1_1 = nn.Sequential(\n",
        "            nn.Conv2d(in_channels=3, out_channels=16, kernel_size=(3, 3), padding=1, bias=False),\n",
        "            nn.ReLU(),\n",
        "            nn.BatchNorm2d(16),\n",
        "            nn.Dropout(dropout_value)\n",
        "        )\n",
        "\n",
        "        self.convblock1_2 = nn.Sequential(\n",
        "            nn.Conv2d(in_channels=16, out_channels=16, kernel_size=(3, 3), padding=1, bias=False),\n",
        "            nn.ReLU(),\n",
        "            nn.BatchNorm2d(16),\n",
        "            nn.Dropout(dropout_value)\n",
        "        )\n",
        "\n",
        "        self.convblock1_3 = nn.Sequential(\n",
        "            nn.Conv2d(in_channels=16, out_channels=16, kernel_size=(3, 3), padding=1, bias=False),\n",
        "            nn.ReLU(),\n",
        "            nn.BatchNorm2d(16),\n",
        "            nn.Dropout(dropout_value)\n",
        "        ) \n",
        "\n",
        "        # TRANSITION BLOCK 1\n",
        "        self.pool1 = nn.MaxPool2d(2, 2)\n",
        "        self.convblock2_1 = nn.Sequential(\n",
        "            nn.Conv2d(in_channels=16, out_channels=16, kernel_size=(1, 1), padding=0, bias=False),\n",
        "            nn.ReLU(),\n",
        "            nn.BatchNorm2d(16),\n",
        "            nn.Dropout(dropout_value)\n",
        "        )\n",
        "\n",
        "        # Convolution Block 2\n",
        "        self.convblock2_2 = nn.Sequential(\n",
        "            nn.Conv2d(in_channels=16, out_channels=16, kernel_size=(3, 3), padding=1, bias=False),\n",
        "            nn.ReLU(),\n",
        "            nn.BatchNorm2d(16),\n",
        "            nn.Dropout(dropout_value)\n",
        "        )\n",
        "\n",
        "        self.convblock2_3 = nn.Sequential(\n",
        "            nn.Conv2d(in_channels=16, out_channels=16, kernel_size=(3, 3), padding=1, bias=False),\n",
        "            nn.ReLU(),\n",
        "            nn.BatchNorm2d(16),\n",
        "            nn.Dropout(dropout_value)\n",
        "        )\n",
        "\n",
        "        self.convblock2_4 = nn.Sequential(\n",
        "            nn.Conv2d(in_channels=16, out_channels=16, kernel_size=(3, 3), padding=1, bias=False),\n",
        "            nn.ReLU(),\n",
        "            nn.BatchNorm2d(16),\n",
        "            nn.Dropout(dropout_value)\n",
        "        )\n",
        "\n",
        "        # TRANSITION BLOCK 2\n",
        "        self.pool2 = nn.MaxPool2d(2, 2) \n",
        "        self.convblock3_1 = nn.Sequential(\n",
        "            nn.Conv2d(in_channels=16, out_channels=16, kernel_size=(1, 1), padding=0, bias=False),\n",
        "            nn.ReLU(),\n",
        "            nn.BatchNorm2d(16),\n",
        "            nn.Dropout(dropout_value)\n",
        "        ) \n",
        "\n",
        "        # Convolution Block 3\n",
        "        self.convblock3_2 = nn.Sequential(\n",
        "            nn.Conv2d(in_channels=16, out_channels=16, kernel_size=(3, 3), padding=1, bias=False),\n",
        "            nn.ReLU(),\n",
        "            nn.BatchNorm2d(16)\n",
        "        )\n",
        "\n",
        "        self.convblock3_3 = nn.Sequential(\n",
        "            nn.Conv2d(in_channels=16, out_channels=16, kernel_size=(3, 3), padding=1, bias=False),\n",
        "            nn.ReLU(),\n",
        "            nn.BatchNorm2d(16)\n",
        "        )\n",
        "\n",
        "        self.convblock3_4 = nn.Sequential(\n",
        "            nn.Conv2d(in_channels=16, out_channels=16, kernel_size=(3, 3), padding=1, bias=False),\n",
        "            nn.ReLU(),\n",
        "            nn.BatchNorm2d(16)\n",
        "        )\n",
        "\n",
        "        # GAP\n",
        "        self.gap = nn.Sequential(\n",
        "            nn.AvgPool2d(kernel_size=8)\n",
        "        )\n",
        "\n",
        "        self.convblock4 = nn.Sequential(\n",
        "            nn.Conv2d(in_channels=16, out_channels=10, kernel_size=(1, 1), padding=0, bias=False)\n",
        "        ) \n",
        "\n",
        "    def forward(self, x):\n",
        "        input = x                                        # Input  - 3x32x32    Output - 16x32x32\n",
        "        x1 = self.convblock1_1(input)                    # Input  - 16x32x32    Output - 16x32x32\n",
        "        \n",
        "        x2 = self.convblock1_2(x1)                       # Input  - 16x32x32   Output - 16x32x32\n",
        "        \n",
        "        x1_x2 = x1 + x2                                  # ------ Concat ----- Output - 16x32x32 \n",
        "        # print(x1_x2.shape)\n",
        "        x3 = self.convblock1_3(x1_x2)                    # Input  - 16x32x32   Output - 16x32x32\n",
        "        # print(x3.shape)\n",
        "        x1_x2_x3 = x1 + x2 + x3                          # ------ Concat ----- Output - 16x32x32 \n",
        "        # print(x1_x2_x3.shape)\n",
        "        \n",
        "        x4 = self.pool1(x1_x2_x3)                       # Input  - 16x32x32   Output - 16x16x16\n",
        "        # print(x4.shape)\n",
        "        x4_1 = self.convblock2_1(x4)                    # Input  - 16x16x16   Output - 16x16x16\n",
        "        # print(x4_1.shape)\n",
        "\n",
        "        x5 = self.convblock2_2(x4_1)                    # Input  - 16x16x16   Output - 16x16x16\n",
        "        # print(x5.shape)\n",
        "\n",
        "        x4_x5 = x4 + x5                                 # ------ Concat ----- Output - 16x16x16\n",
        "        # print(x4_x5.shape)\n",
        "\n",
        "        x6 = self.convblock2_3(x4_x5)                   # Input  - 16x16x16   Output - 16x16x16\n",
        "        # print(x6.shape)\n",
        "\n",
        "        x4_x5_x6 = x4_x5 + x6                           # ------ Concat ----- Output - 16x16x16\n",
        "        # print(x4_x5_x6.shape)\n",
        "        x7 = self.convblock2_4(x4_x5_x6)                # Input  - 16x16x16   Output - 16x16x16\n",
        "        # print(x7.shape)\n",
        "\n",
        "        x5_x6_x7 = x5 + x6 + x7                         # ------ Concat ----- Output - 16x16x16\n",
        "        # print(x5_x6_x7.shape)\n",
        "        x8 = self.pool2(x5_x6_x7)                       # Input  - 16x16x16   Output - 16x8x8\n",
        "        # print(x8.shape)\n",
        "        x8_1 = self.convblock3_1(x8)                    # Input  - 16x8x8     Output - 16x8x8\n",
        "        # print(x8_1.shape)\n",
        "\n",
        "        x9 = self.convblock3_2(x8_1)                    # Input  - 16x8x8     Output - 16x8x8\n",
        "        # print(x9.shape)\n",
        "\n",
        "        x8_x9 = x8_1 + x9                               # ------ Concat ----- Output - 48x8x8 -> 16 + 32\n",
        "        x10 = self.convblock3_3(x8_x9)                  # Input  - 48x8x8     Output - 64x8x8\n",
        "        x8_x9_x10 = x8_x9 + x10      # ------ Concat ----- Output - 112x8x8 -> 48 + 64\n",
        "        x11 = self.convblock3_4(x8_x9_x10)              # Input  - 112x8x8   Output - 128x8x8\n",
        "\n",
        "        x12 = self.gap(x11)\n",
        "        x13 = self.convblock4(x12)                      # Input  - 128x8x8   Output - 10x8x8\n",
        "\n",
        "        y = x13.view(-1, 10)\n",
        "        # print(y.shape)\n",
        "        return F.log_softmax(y, dim=-1)\n",
        "\n",
        "        '''x1 = x                                          # Input  - 3x32x32    Output - 32x32x32\n",
        "        print(x1.shape)\n",
        "        x2 = self.convblock1_1(x1)                      # Input  - 32x32x32   Output - 32x32x32\n",
        "        print(x2.shape)\n",
        "        x1_x2 = x1 + x2\n",
        "        print(x1_x2.shape)\n",
        "\n",
        "        x1_x2 = torch.cat([x1,x2], dim=1)               # ------ Concat ----- Output - 19x32x32 -> 16 + 3\n",
        "        # print(x1_x2.shape)\n",
        "        \n",
        "        x3 = self.convblock1_2(x1_x2)                   # Input  - 19x32x32   Output - 32x32x32\n",
        "        x1_x2_x3 = torch.cat([x1_x2, x3], dim=1)        # ------ Concat ----- Output - 51x32x32 -> 19 + 32\n",
        "        #print(x1_x2_x3.shape)\n",
        "        \n",
        "        x4 = self.pool1(x1_x2_x3)                       # Input  - 51x32x32   Output - 51x16x16\n",
        "        x4_1 = self.convblock2_1(x4)                    # Input  - 51x16x16   Output - 8x16x16\n",
        "\n",
        "        x5 = self.convblock2_2(x4_1)                    # Input  - 8x16x16   Output - 16x16x16\n",
        "        x4_x5 = torch.cat([x4_1, x5], dim=1)            # ------ Concat ----- Output - 24x16x16 -> 8 + 16\n",
        "        x6 = self.convblock2_3(x4_x5)                   # Input  - 24x16x16   Output - 32x16x16\n",
        "        x4_x5_x6 = torch.cat([x4_x5, x6], dim=1)        # ------ Concat ----- Output - 56x16x16 -> 24 + 32\n",
        "        x7 = self.convblock2_4(x4_x5_x6)                # Input  - 56x16x16   Output - 64x16x16\n",
        "\n",
        "        x5_x6_x7 = torch.cat([x5, x6, x7], dim=1)       # ------ Concat ----- Output - 112x16x16 -> 16 + 32 + 64\n",
        "        x8 = self.pool2(x5_x6_x7)                       # Input  - 112x16x16   Output - 112x8x8\n",
        "        x8_1 = self.convblock3_1(x8)                    # Input  - 112x8x8     Output - 16x8x8\n",
        "\n",
        "        x9 = self.convblock3_2(x8_1)                    # Input  - 16x8x8     Output - 32x8x8\n",
        "        x8_x9 = torch.cat([x8_1, x9], dim=1)            # ------ Concat ----- Output - 48x8x8 -> 16 + 32\n",
        "        x10 = self.convblock3_3(x8_x9)                  # Input  - 48x8x8     Output - 64x8x8\n",
        "        x8_x9_x10 = torch.cat([x8_x9, x10], dim=1)      # ------ Concat ----- Output - 112x8x8 -> 48 + 64\n",
        "        x11 = self.convblock3_4(x8_x9_x10)              # Input  - 112x8x8   Output - 128x8x8\n",
        "\n",
        "        x12 = self.gap(x11)\n",
        "        x13 = self.convblock4(x12)                      # Input  - 128x8x8   Output - 10x8x8\n",
        "\n",
        "        y = x13.view(-1, 10)\n",
        "        # print(y.shape)\n",
        "        return F.log_softmax(y, dim=-1)'''\n"
      ],
      "execution_count": 0,
      "outputs": []
    },
    {
      "cell_type": "code",
      "metadata": {
        "id": "m5tvdrtI4FqM",
        "colab_type": "code",
        "outputId": "61c081bc-c885-449e-b618-00596151348e",
        "colab": {
          "base_uri": "https://localhost:8080/",
          "height": 34
        }
      },
      "source": [
        "print(\"Building Model\")\n",
        "net = QuizDNN()"
      ],
      "execution_count": 15,
      "outputs": [
        {
          "output_type": "stream",
          "text": [
            "Building Model\n"
          ],
          "name": "stdout"
        }
      ]
    },
    {
      "cell_type": "code",
      "metadata": {
        "id": "BLscugP44Slt",
        "colab_type": "code",
        "outputId": "aae9c59a-6256-4c1a-8db1-54256710e5fe",
        "colab": {
          "base_uri": "https://localhost:8080/",
          "height": 1000
        }
      },
      "source": [
        "# Display Model Summary\n",
        "!pip install torchsummary\n",
        "from torchsummary import summary\n",
        "\n",
        "model = net.to(device)\n",
        "summary(model, input_size=(3, 32, 32))"
      ],
      "execution_count": 16,
      "outputs": [
        {
          "output_type": "stream",
          "text": [
            "Requirement already satisfied: torchsummary in /usr/local/lib/python3.6/dist-packages (1.5.1)\n",
            "----------------------------------------------------------------\n",
            "        Layer (type)               Output Shape         Param #\n",
            "================================================================\n",
            "            Conv2d-1           [-1, 16, 32, 32]             432\n",
            "              ReLU-2           [-1, 16, 32, 32]               0\n",
            "       BatchNorm2d-3           [-1, 16, 32, 32]              32\n",
            "           Dropout-4           [-1, 16, 32, 32]               0\n",
            "            Conv2d-5           [-1, 16, 32, 32]           2,304\n",
            "              ReLU-6           [-1, 16, 32, 32]               0\n",
            "       BatchNorm2d-7           [-1, 16, 32, 32]              32\n",
            "           Dropout-8           [-1, 16, 32, 32]               0\n",
            "            Conv2d-9           [-1, 16, 32, 32]           2,304\n",
            "             ReLU-10           [-1, 16, 32, 32]               0\n",
            "      BatchNorm2d-11           [-1, 16, 32, 32]              32\n",
            "          Dropout-12           [-1, 16, 32, 32]               0\n",
            "        MaxPool2d-13           [-1, 16, 16, 16]               0\n",
            "           Conv2d-14           [-1, 16, 16, 16]             256\n",
            "             ReLU-15           [-1, 16, 16, 16]               0\n",
            "      BatchNorm2d-16           [-1, 16, 16, 16]              32\n",
            "          Dropout-17           [-1, 16, 16, 16]               0\n",
            "           Conv2d-18           [-1, 16, 16, 16]           2,304\n",
            "             ReLU-19           [-1, 16, 16, 16]               0\n",
            "      BatchNorm2d-20           [-1, 16, 16, 16]              32\n",
            "          Dropout-21           [-1, 16, 16, 16]               0\n",
            "           Conv2d-22           [-1, 16, 16, 16]           2,304\n",
            "             ReLU-23           [-1, 16, 16, 16]               0\n",
            "      BatchNorm2d-24           [-1, 16, 16, 16]              32\n",
            "          Dropout-25           [-1, 16, 16, 16]               0\n",
            "           Conv2d-26           [-1, 16, 16, 16]           2,304\n",
            "             ReLU-27           [-1, 16, 16, 16]               0\n",
            "      BatchNorm2d-28           [-1, 16, 16, 16]              32\n",
            "          Dropout-29           [-1, 16, 16, 16]               0\n",
            "        MaxPool2d-30             [-1, 16, 8, 8]               0\n",
            "           Conv2d-31             [-1, 16, 8, 8]             256\n",
            "             ReLU-32             [-1, 16, 8, 8]               0\n",
            "      BatchNorm2d-33             [-1, 16, 8, 8]              32\n",
            "          Dropout-34             [-1, 16, 8, 8]               0\n",
            "           Conv2d-35             [-1, 16, 8, 8]           2,304\n",
            "             ReLU-36             [-1, 16, 8, 8]               0\n",
            "      BatchNorm2d-37             [-1, 16, 8, 8]              32\n",
            "           Conv2d-38             [-1, 16, 8, 8]           2,304\n",
            "             ReLU-39             [-1, 16, 8, 8]               0\n",
            "      BatchNorm2d-40             [-1, 16, 8, 8]              32\n",
            "           Conv2d-41             [-1, 16, 8, 8]           2,304\n",
            "             ReLU-42             [-1, 16, 8, 8]               0\n",
            "      BatchNorm2d-43             [-1, 16, 8, 8]              32\n",
            "        AvgPool2d-44             [-1, 16, 1, 1]               0\n",
            "           Conv2d-45             [-1, 10, 1, 1]             160\n",
            "================================================================\n",
            "Total params: 19,888\n",
            "Trainable params: 19,888\n",
            "Non-trainable params: 0\n",
            "----------------------------------------------------------------\n",
            "Input size (MB): 0.01\n",
            "Forward/backward pass size (MB): 2.14\n",
            "Params size (MB): 0.08\n",
            "Estimated Total Size (MB): 2.23\n",
            "----------------------------------------------------------------\n"
          ],
          "name": "stdout"
        }
      ]
    },
    {
      "cell_type": "markdown",
      "metadata": {
        "id": "zmd8v-hq55MO",
        "colab_type": "text"
      },
      "source": [
        "### 11. Define loss function and optimizer\n"
      ]
    },
    {
      "cell_type": "code",
      "metadata": {
        "id": "SoFrohOn4Tvv",
        "colab_type": "code",
        "colab": {}
      },
      "source": [
        "criterion = nn.CrossEntropyLoss()\n",
        "optimizer = getoptimizer(net)"
      ],
      "execution_count": 0,
      "outputs": []
    },
    {
      "cell_type": "markdown",
      "metadata": {
        "id": "H4hsyIDh5-hc",
        "colab_type": "text"
      },
      "source": [
        "### 12. Run Train and Test"
      ]
    },
    {
      "cell_type": "code",
      "metadata": {
        "id": "JOYSwB-M57Hm",
        "colab_type": "code",
        "outputId": "37e31ea1-f63e-4453-a16d-8793efdc80a8",
        "colab": {
          "base_uri": "https://localhost:8080/",
          "height": 1000
        }
      },
      "source": [
        "for epoch in range(40):\n",
        "    train(net, trainloader, device, optimizer, criterion, epoch)\n",
        "    test(net, testloader, device, criterion, epoch)\n",
        "\n",
        "print(\"Training completed\")"
      ],
      "execution_count": 18,
      "outputs": [
        {
          "output_type": "stream",
          "text": [
            "\n",
            "Epoch: 0\n",
            " [================================================================>]  Step: 17ms | Tot: 18s882ms | Train >> Loss: 1.907 | Acc: 28.494% (14247/50000) 391/391 \n",
            " [================================================================>]  Step: 5ms | Tot: 2s131ms | Test >> Loss: 1.618 | Acc: 38.660% (3866/10000) 79/79 \n",
            "\n",
            "Epoch: 1\n",
            " [================================================================>]  Step: 21ms | Tot: 18s952ms | Train >> Loss: 1.641 | Acc: 39.306% (19653/50000) 391/391 \n",
            " [================================================================>]  Step: 8ms | Tot: 2s179ms | Test >> Loss: 1.421 | Acc: 47.030% (4703/10000) 79/79 \n",
            "\n",
            "Epoch: 2\n",
            " [================================================================>]  Step: 21ms | Tot: 19s79ms | Train >> Loss: 1.509 | Acc: 44.776% (22388/50000) 391/391 \n",
            " [================================================================>]  Step: 5ms | Tot: 2s182ms | Test >> Loss: 1.388 | Acc: 48.700% (4870/10000) 79/79 \n",
            "\n",
            "Epoch: 3\n",
            " [================================================================>]  Step: 18ms | Tot: 19s272ms | Train >> Loss: 1.422 | Acc: 48.210% (24105/50000) 391/391 \n",
            " [================================================================>]  Step: 9ms | Tot: 2s162ms | Test >> Loss: 1.309 | Acc: 52.200% (5220/10000) 79/79 \n",
            "\n",
            "Epoch: 4\n",
            " [================================================================>]  Step: 17ms | Tot: 19s112ms | Train >> Loss: 1.362 | Acc: 50.562% (25281/50000) 391/391 \n",
            " [================================================================>]  Step: 9ms | Tot: 2s121ms | Test >> Loss: 1.198 | Acc: 56.880% (5688/10000) 79/79 \n",
            "\n",
            "Epoch: 5\n",
            " [================================================================>]  Step: 17ms | Tot: 19s73ms | Train >> Loss: 1.312 | Acc: 52.368% (26184/50000) 391/391 \n",
            " [================================================================>]  Step: 9ms | Tot: 2s189ms | Test >> Loss: 1.180 | Acc: 57.690% (5769/10000) 79/79 \n",
            "\n",
            "Epoch: 6\n",
            " [================================================================>]  Step: 19ms | Tot: 19s58ms | Train >> Loss: 1.282 | Acc: 53.818% (26909/50000) 391/391 \n",
            " [================================================================>]  Step: 7ms | Tot: 2s110ms | Test >> Loss: 1.114 | Acc: 59.310% (5931/10000) 79/79 \n",
            "\n",
            "Epoch: 7\n",
            " [================================================================>]  Step: 19ms | Tot: 19s151ms | Train >> Loss: 1.254 | Acc: 54.892% (27446/50000) 391/391 \n",
            " [================================================================>]  Step: 8ms | Tot: 2s131ms | Test >> Loss: 1.084 | Acc: 60.580% (6058/10000) 79/79 \n",
            "\n",
            "Epoch: 8\n",
            " [================================================================>]  Step: 22ms | Tot: 18s980ms | Train >> Loss: 1.222 | Acc: 55.894% (27947/50000) 391/391 \n",
            " [================================================================>]  Step: 8ms | Tot: 2s139ms | Test >> Loss: 1.109 | Acc: 60.160% (6016/10000) 79/79 \n",
            "\n",
            "Epoch: 9\n",
            " [================================================================>]  Step: 17ms | Tot: 19s226ms | Train >> Loss: 1.208 | Acc: 56.688% (28344/50000) 391/391 \n",
            " [================================================================>]  Step: 5ms | Tot: 2s153ms | Test >> Loss: 1.022 | Acc: 63.190% (6319/10000) 79/79 \n",
            "\n",
            "Epoch: 10\n",
            " [================================================================>]  Step: 18ms | Tot: 19s122ms | Train >> Loss: 1.187 | Acc: 57.468% (28734/50000) 391/391 \n",
            " [================================================================>]  Step: 9ms | Tot: 2s131ms | Test >> Loss: 1.000 | Acc: 64.390% (6439/10000) 79/79 \n",
            "\n",
            "Epoch: 11\n",
            " [================================================================>]  Step: 19ms | Tot: 19s129ms | Train >> Loss: 1.174 | Acc: 57.910% (28955/50000) 391/391 \n",
            " [================================================================>]  Step: 8ms | Tot: 2s109ms | Test >> Loss: 0.990 | Acc: 64.460% (6446/10000) 79/79 \n",
            "\n",
            "Epoch: 12\n",
            " [================================================================>]  Step: 18ms | Tot: 19s6ms | Train >> Loss: 1.157 | Acc: 58.450% (29225/50000) 391/391 \n",
            " [================================================================>]  Step: 6ms | Tot: 2s168ms | Test >> Loss: 0.999 | Acc: 64.930% (6493/10000) 79/79 \n",
            "\n",
            "Epoch: 13\n",
            " [================================================================>]  Step: 19ms | Tot: 19s247ms | Train >> Loss: 1.144 | Acc: 59.086% (29543/50000) 391/391 \n",
            " [================================================================>]  Step: 8ms | Tot: 2s275ms | Test >> Loss: 0.952 | Acc: 66.200% (6620/10000) 79/79 \n",
            "\n",
            "Epoch: 14\n",
            " [================================================================>]  Step: 16ms | Tot: 19s77ms | Train >> Loss: 1.134 | Acc: 59.312% (29656/50000) 391/391 \n",
            " [================================================================>]  Step: 5ms | Tot: 2s162ms | Test >> Loss: 0.944 | Acc: 66.390% (6639/10000) 79/79 \n",
            "\n",
            "Epoch: 15\n",
            " [================================================================>]  Step: 18ms | Tot: 19s132ms | Train >> Loss: 1.122 | Acc: 59.844% (29922/50000) 391/391 \n",
            " [================================================================>]  Step: 8ms | Tot: 2s184ms | Test >> Loss: 0.918 | Acc: 66.830% (6683/10000) 79/79 \n",
            "\n",
            "Epoch: 16\n",
            " [================================================================>]  Step: 16ms | Tot: 19s17ms | Train >> Loss: 1.109 | Acc: 60.436% (30218/50000) 391/391 \n",
            " [================================================================>]  Step: 10ms | Tot: 2s179ms | Test >> Loss: 0.941 | Acc: 66.570% (6657/10000) 79/79 \n",
            "\n",
            "Epoch: 17\n",
            " [================================================================>]  Step: 17ms | Tot: 19s192ms | Train >> Loss: 1.102 | Acc: 60.658% (30329/50000) 391/391 \n",
            " [================================================================>]  Step: 8ms | Tot: 2s219ms | Test >> Loss: 0.977 | Acc: 65.130% (6513/10000) 79/79 \n",
            "\n",
            "Epoch: 18\n",
            " [================================================================>]  Step: 22ms | Tot: 19s96ms | Train >> Loss: 1.093 | Acc: 60.960% (30480/50000) 391/391 \n",
            " [================================================================>]  Step: 11ms | Tot: 2s104ms | Test >> Loss: 0.913 | Acc: 67.550% (6755/10000) 79/79 \n",
            "\n",
            "Epoch: 19\n",
            " [================================================================>]  Step: 18ms | Tot: 18s951ms | Train >> Loss: 1.083 | Acc: 61.106% (30553/50000) 391/391 \n",
            " [================================================================>]  Step: 6ms | Tot: 2s117ms | Test >> Loss: 0.954 | Acc: 66.030% (6603/10000) 79/79 \n",
            "\n",
            "Epoch: 20\n",
            " [================================================================>]  Step: 17ms | Tot: 19s129ms | Train >> Loss: 1.076 | Acc: 61.568% (30784/50000) 391/391 \n",
            " [================================================================>]  Step: 10ms | Tot: 2s208ms | Test >> Loss: 0.919 | Acc: 67.020% (6702/10000) 79/79 \n",
            "\n",
            "Epoch: 21\n",
            " [================================================================>]  Step: 18ms | Tot: 19s128ms | Train >> Loss: 1.066 | Acc: 61.920% (30960/50000) 391/391 \n",
            " [================================================================>]  Step: 8ms | Tot: 2s147ms | Test >> Loss: 0.900 | Acc: 67.850% (6785/10000) 79/79 \n",
            "\n",
            "Epoch: 22\n",
            " [================================================================>]  Step: 16ms | Tot: 18s940ms | Train >> Loss: 1.062 | Acc: 62.160% (31080/50000) 391/391 \n",
            " [================================================================>]  Step: 8ms | Tot: 2s107ms | Test >> Loss: 0.870 | Acc: 69.230% (6923/10000) 79/79 \n",
            "\n",
            "Epoch: 23\n",
            " [================================================================>]  Step: 18ms | Tot: 19s121ms | Train >> Loss: 1.058 | Acc: 62.354% (31177/50000) 391/391 \n",
            " [================================================================>]  Step: 7ms | Tot: 2s147ms | Test >> Loss: 0.871 | Acc: 69.290% (6929/10000) 79/79 \n",
            "\n",
            "Epoch: 24\n",
            " [================================================================>]  Step: 18ms | Tot: 19s158ms | Train >> Loss: 1.048 | Acc: 62.568% (31284/50000) 391/391 \n",
            " [================================================================>]  Step: 11ms | Tot: 2s161ms | Test >> Loss: 0.899 | Acc: 68.110% (6811/10000) 79/79 \n",
            "\n",
            "Epoch: 25\n",
            " [================================================================>]  Step: 19ms | Tot: 19s367ms | Train >> Loss: 1.045 | Acc: 62.712% (31356/50000) 391/391 \n",
            " [================================================================>]  Step: 12ms | Tot: 2s237ms | Test >> Loss: 0.882 | Acc: 68.780% (6878/10000) 79/79 \n",
            "\n",
            "Epoch: 26\n",
            " [================================================================>]  Step: 18ms | Tot: 19s880ms | Train >> Loss: 1.040 | Acc: 63.090% (31545/50000) 391/391 \n",
            " [================================================================>]  Step: 11ms | Tot: 2s312ms | Test >> Loss: 0.880 | Acc: 68.740% (6874/10000) 79/79 \n",
            "\n",
            "Epoch: 27\n",
            " [================================================================>]  Step: 20ms | Tot: 19s801ms | Train >> Loss: 1.034 | Acc: 63.324% (31662/50000) 391/391 \n",
            " [================================================================>]  Step: 8ms | Tot: 2s240ms | Test >> Loss: 0.862 | Acc: 68.740% (6874/10000) 79/79 \n",
            "\n",
            "Epoch: 28\n",
            " [================================================================>]  Step: 19ms | Tot: 19s804ms | Train >> Loss: 1.031 | Acc: 63.262% (31631/50000) 391/391 \n",
            " [================================================================>]  Step: 9ms | Tot: 2s262ms | Test >> Loss: 0.844 | Acc: 69.850% (6985/10000) 79/79 \n",
            "\n",
            "Epoch: 29\n",
            " [================================================================>]  Step: 17ms | Tot: 19s751ms | Train >> Loss: 1.029 | Acc: 63.452% (31726/50000) 391/391 \n",
            " [================================================================>]  Step: 11ms | Tot: 2s257ms | Test >> Loss: 0.864 | Acc: 69.620% (6962/10000) 79/79 \n",
            "\n",
            "Epoch: 30\n",
            " [================================================================>]  Step: 18ms | Tot: 19s723ms | Train >> Loss: 1.016 | Acc: 63.658% (31829/50000) 391/391 \n",
            " [================================================================>]  Step: 9ms | Tot: 2s205ms | Test >> Loss: 0.830 | Acc: 70.470% (7047/10000) 79/79 \n",
            "\n",
            "Epoch: 31\n",
            " [================================================================>]  Step: 20ms | Tot: 19s853ms | Train >> Loss: 1.019 | Acc: 63.864% (31932/50000) 391/391 \n",
            " [================================================================>]  Step: 9ms | Tot: 2s255ms | Test >> Loss: 0.814 | Acc: 71.260% (7126/10000) 79/79 \n",
            "\n",
            "Epoch: 32\n",
            " [================================================================>]  Step: 17ms | Tot: 19s829ms | Train >> Loss: 1.017 | Acc: 63.698% (31849/50000) 391/391 \n",
            " [================================================================>]  Step: 9ms | Tot: 2s281ms | Test >> Loss: 0.864 | Acc: 69.490% (6949/10000) 79/79 \n",
            "\n",
            "Epoch: 33\n",
            " [================================================================>]  Step: 18ms | Tot: 19s658ms | Train >> Loss: 1.009 | Acc: 64.244% (32122/50000) 391/391 \n",
            " [================================================================>]  Step: 10ms | Tot: 2s234ms | Test >> Loss: 0.842 | Acc: 69.760% (6976/10000) 79/79 \n",
            "\n",
            "Epoch: 34\n",
            " [================================================================>]  Step: 21ms | Tot: 19s678ms | Train >> Loss: 1.004 | Acc: 64.198% (32099/50000) 391/391 \n",
            " [================================================================>]  Step: 12ms | Tot: 2s262ms | Test >> Loss: 0.832 | Acc: 70.510% (7051/10000) 79/79 \n",
            "\n",
            "Epoch: 35\n",
            " [================================================================>]  Step: 18ms | Tot: 19s530ms | Train >> Loss: 0.999 | Acc: 64.464% (32232/50000) 391/391 \n",
            " [================================================================>]  Step: 6ms | Tot: 2s214ms | Test >> Loss: 0.815 | Acc: 70.940% (7094/10000) 79/79 \n",
            "\n",
            "Epoch: 36\n",
            " [================================================================>]  Step: 20ms | Tot: 19s385ms | Train >> Loss: 0.995 | Acc: 64.570% (32285/50000) 391/391 \n",
            " [================================================================>]  Step: 12ms | Tot: 2s232ms | Test >> Loss: 0.816 | Acc: 71.320% (7132/10000) 79/79 \n",
            "\n",
            "Epoch: 37\n",
            " [================================================================>]  Step: 18ms | Tot: 19s669ms | Train >> Loss: 0.991 | Acc: 64.928% (32464/50000) 391/391 \n",
            " [================================================================>]  Step: 7ms | Tot: 2s190ms | Test >> Loss: 0.794 | Acc: 71.700% (7170/10000) 79/79 \n",
            "\n",
            "Epoch: 38\n",
            " [================================================================>]  Step: 19ms | Tot: 19s456ms | Train >> Loss: 0.992 | Acc: 64.746% (32373/50000) 391/391 \n",
            " [================================================================>]  Step: 9ms | Tot: 2s167ms | Test >> Loss: 0.792 | Acc: 72.130% (7213/10000) 79/79 \n",
            "\n",
            "Epoch: 39\n",
            " [================================================================>]  Step: 17ms | Tot: 18s956ms | Train >> Loss: 0.989 | Acc: 65.118% (32559/50000) 391/391 \n",
            " [================================================================>]  Step: 9ms | Tot: 2s150ms | Test >> Loss: 0.800 | Acc: 71.770% (7177/10000) 79/79 \n",
            "Training completed\n"
          ],
          "name": "stdout"
        }
      ]
    }
  ]
}