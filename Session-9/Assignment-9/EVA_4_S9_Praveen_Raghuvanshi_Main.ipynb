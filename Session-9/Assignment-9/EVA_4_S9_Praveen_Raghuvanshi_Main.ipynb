{
  "nbformat": 4,
  "nbformat_minor": 0,
  "metadata": {
    "colab": {
      "name": "EVA-4-S9-Praveen-Raghuvanshi-Main.ipynb",
      "provenance": [],
      "collapsed_sections": [],
      "authorship_tag": "ABX9TyMLQPc7Xm/wvc54jop7QAKU",
      "include_colab_link": true
    },
    "kernelspec": {
      "name": "python3",
      "display_name": "Python 3"
    },
    "accelerator": "GPU"
  },
  "cells": [
    {
      "cell_type": "markdown",
      "metadata": {
        "id": "view-in-github",
        "colab_type": "text"
      },
      "source": [
        "<a href=\"https://colab.research.google.com/github/praveenraghuvanshi1512/EVA4/blob/Session-9/Session-9/Assignment-9/EVA_4_S9_Praveen_Raghuvanshi_Main.ipynb\" target=\"_parent\"><img src=\"https://colab.research.google.com/assets/colab-badge.svg\" alt=\"Open In Colab\"/></a>"
      ]
    },
    {
      "cell_type": "markdown",
      "metadata": {
        "id": "QrQqN4zqMt5U",
        "colab_type": "text"
      },
      "source": [
        "## Steps Summary"
      ]
    },
    {
      "cell_type": "code",
      "metadata": {
        "id": "GcS9dBHZuJ0g",
        "colab_type": "code",
        "colab": {}
      },
      "source": [
        "# 1. Mount google drive\n",
        "# 2. Set the directory path of google drive\n",
        "# 3. Import all modules and libraries\n",
        "# 4. Set Device\n",
        "# 5. Import all the functions\n",
        "# 6. Load transformations\n",
        "# 7. Load dataset\n",
        "# 8. Load Classes\n",
        "# 9. Display sample images\n",
        "# 10. Load Resnet18 Model\n",
        "# 11. Define Loss function and optimizer\n",
        "# 12. Run train and test"
      ],
      "execution_count": 0,
      "outputs": []
    },
    {
      "cell_type": "markdown",
      "metadata": {
        "id": "KOdHHdPxuQFs",
        "colab_type": "text"
      },
      "source": [
        "### 1. Mount google drive"
      ]
    },
    {
      "cell_type": "code",
      "metadata": {
        "id": "YCII_8_auNbk",
        "colab_type": "code",
        "outputId": "6c05fe9f-c420-4c32-8fc8-3991d7a77551",
        "colab": {
          "base_uri": "https://localhost:8080/",
          "height": 121
        }
      },
      "source": [
        "# Load data from Google drive\n",
        "from google.colab import drive\n",
        "drive.mount('/content/drive')"
      ],
      "execution_count": 2,
      "outputs": [
        {
          "output_type": "stream",
          "text": [
            "Go to this URL in a browser: https://accounts.google.com/o/oauth2/auth?client_id=947318989803-6bn6qk8qdgf4n4g3pfee6491hc0brc4i.apps.googleusercontent.com&redirect_uri=urn%3aietf%3awg%3aoauth%3a2.0%3aoob&response_type=code&scope=email%20https%3a%2f%2fwww.googleapis.com%2fauth%2fdocs.test%20https%3a%2f%2fwww.googleapis.com%2fauth%2fdrive%20https%3a%2f%2fwww.googleapis.com%2fauth%2fdrive.photos.readonly%20https%3a%2f%2fwww.googleapis.com%2fauth%2fpeopleapi.readonly\n",
            "\n",
            "Enter your authorization code:\n",
            "··········\n",
            "Mounted at /content/drive\n"
          ],
          "name": "stdout"
        }
      ]
    },
    {
      "cell_type": "markdown",
      "metadata": {
        "id": "iouz-VhCvRKa",
        "colab_type": "text"
      },
      "source": [
        "### 2. Set the directory path of google drive"
      ]
    },
    {
      "cell_type": "code",
      "metadata": {
        "id": "qYAhAXd7u8Is",
        "colab_type": "code",
        "colab": {}
      },
      "source": [
        "import sys\n",
        "%load_ext autoreload\n",
        "%autoreload 2\n",
        "sys.path.append('/content/drive/My Drive/eva-4/assignment-9')\n",
        "sys.path.append('/content/drive/My Drive/eva-4/assignment-9/models')\n",
        "sys.path.append('/content/drive/My Drive/eva-4/assignment-9/gradcam')\n",
        "sys.path.append('/content/drive/My Drive/eva-4/assignment-9/sampleimages')"
      ],
      "execution_count": 0,
      "outputs": []
    },
    {
      "cell_type": "code",
      "metadata": {
        "id": "EshyBNNlvXUB",
        "colab_type": "code",
        "outputId": "c4bc76cf-e56c-4fb8-dc17-4bd2aa45af64",
        "colab": {
          "base_uri": "https://localhost:8080/",
          "height": 34
        }
      },
      "source": [
        "cd '/content/drive/My Drive/eva-4/assignment-9'"
      ],
      "execution_count": 4,
      "outputs": [
        {
          "output_type": "stream",
          "text": [
            "/content/drive/My Drive/eva-4/assignment-9\n"
          ],
          "name": "stdout"
        }
      ]
    },
    {
      "cell_type": "code",
      "metadata": {
        "id": "iCrlbbXOvjzh",
        "colab_type": "code",
        "outputId": "cec70fe2-4ec2-4247-fce7-8013d3c12a7d",
        "colab": {
          "base_uri": "https://localhost:8080/",
          "height": 50
        }
      },
      "source": [
        "ls"
      ],
      "execution_count": 5,
      "outputs": [
        {
          "output_type": "stream",
          "text": [
            "augmentation.py  \u001b[0m\u001b[01;34mgradcam\u001b[0m/  \u001b[01;34moutputs\u001b[0m/      S9_functions.py  utils.py\n",
            "\u001b[01;34mdata\u001b[0m/            \u001b[01;34mmodels\u001b[0m/   \u001b[01;34m__pycache__\u001b[0m/  \u001b[01;34msampleimages\u001b[0m/\n"
          ],
          "name": "stdout"
        }
      ]
    },
    {
      "cell_type": "markdown",
      "metadata": {
        "id": "6_gBUHNhwZF8",
        "colab_type": "text"
      },
      "source": [
        "### 3. Import all modules and libraries"
      ]
    },
    {
      "cell_type": "code",
      "metadata": {
        "id": "mJfJaQkMwdcM",
        "colab_type": "code",
        "colab": {}
      },
      "source": [
        "import torch\n",
        "import torch.nn as nn\n",
        "import torch.nn.functional as F\n",
        "import torchvision\n",
        "import torchvision.transforms as transforms\n",
        "import torch.optim as optim\n",
        "import numpy as np\n",
        "from torchvision.utils import make_grid"
      ],
      "execution_count": 0,
      "outputs": []
    },
    {
      "cell_type": "markdown",
      "metadata": {
        "id": "8UzFE61fvvzj",
        "colab_type": "text"
      },
      "source": [
        "### 4. Set Device"
      ]
    },
    {
      "cell_type": "code",
      "metadata": {
        "id": "RdESvDmFvlO1",
        "colab_type": "code",
        "outputId": "50c8d785-c41f-4d77-a1f6-beec9fb24471",
        "colab": {
          "base_uri": "https://localhost:8080/",
          "height": 34
        }
      },
      "source": [
        "use_cuda = torch.cuda.is_available()\n",
        "device = torch.device(\"cuda\" if use_cuda else \"cpu\")\n",
        "print(device)"
      ],
      "execution_count": 7,
      "outputs": [
        {
          "output_type": "stream",
          "text": [
            "cuda\n"
          ],
          "name": "stdout"
        }
      ]
    },
    {
      "cell_type": "markdown",
      "metadata": {
        "id": "1gXN5mwvw_mO",
        "colab_type": "text"
      },
      "source": [
        "###  5. Import all the functions"
      ]
    },
    {
      "cell_type": "code",
      "metadata": {
        "id": "0yM0_rOMxCr7",
        "colab_type": "code",
        "colab": {}
      },
      "source": [
        "from model import Net, ResNet, resnet18\n",
        "from S9_functions import myfunc, transformations, loadcifar10dataset, getclasses, display, train, test, imshow, loadimage, saveimage, getoptimizer\n",
        "from gradcam import GradCAM, GradCAMpp\n",
        "from gradcam_utils import Normalize, visualize_cam"
      ],
      "execution_count": 0,
      "outputs": []
    },
    {
      "cell_type": "markdown",
      "metadata": {
        "id": "TgfbtDvV3Std",
        "colab_type": "text"
      },
      "source": [
        "###  6. Load Transformations"
      ]
    },
    {
      "cell_type": "code",
      "metadata": {
        "id": "lyKJeo_SKpXV",
        "colab_type": "code",
        "outputId": "b523982f-1f25-4245-a32c-7b483c1be504",
        "colab": {
          "base_uri": "https://localhost:8080/",
          "height": 626
        }
      },
      "source": [
        "!pip install albumentations"
      ],
      "execution_count": 9,
      "outputs": [
        {
          "output_type": "stream",
          "text": [
            "Requirement already satisfied: albumentations in /usr/local/lib/python3.6/dist-packages (0.1.12)\n",
            "Requirement already satisfied: numpy>=1.11.1 in /usr/local/lib/python3.6/dist-packages (from albumentations) (1.17.5)\n",
            "Collecting imgaug<0.2.7,>=0.2.5\n",
            "\u001b[?25l  Downloading https://files.pythonhosted.org/packages/ad/2e/748dbb7bb52ec8667098bae9b585f448569ae520031932687761165419a2/imgaug-0.2.6.tar.gz (631kB)\n",
            "\r\u001b[K     |▌                               | 10kB 23.4MB/s eta 0:00:01\r\u001b[K     |█                               | 20kB 5.6MB/s eta 0:00:01\r\u001b[K     |█▋                              | 30kB 6.9MB/s eta 0:00:01\r\u001b[K     |██                              | 40kB 5.4MB/s eta 0:00:01\r\u001b[K     |██▋                             | 51kB 5.9MB/s eta 0:00:01\r\u001b[K     |███▏                            | 61kB 6.9MB/s eta 0:00:01\r\u001b[K     |███▋                            | 71kB 7.4MB/s eta 0:00:01\r\u001b[K     |████▏                           | 81kB 6.9MB/s eta 0:00:01\r\u001b[K     |████▊                           | 92kB 7.7MB/s eta 0:00:01\r\u001b[K     |█████▏                          | 102kB 8.1MB/s eta 0:00:01\r\u001b[K     |█████▊                          | 112kB 8.1MB/s eta 0:00:01\r\u001b[K     |██████▎                         | 122kB 8.1MB/s eta 0:00:01\r\u001b[K     |██████▊                         | 133kB 8.1MB/s eta 0:00:01\r\u001b[K     |███████▎                        | 143kB 8.1MB/s eta 0:00:01\r\u001b[K     |███████▉                        | 153kB 8.1MB/s eta 0:00:01\r\u001b[K     |████████▎                       | 163kB 8.1MB/s eta 0:00:01\r\u001b[K     |████████▉                       | 174kB 8.1MB/s eta 0:00:01\r\u001b[K     |█████████▍                      | 184kB 8.1MB/s eta 0:00:01\r\u001b[K     |█████████▉                      | 194kB 8.1MB/s eta 0:00:01\r\u001b[K     |██████████▍                     | 204kB 8.1MB/s eta 0:00:01\r\u001b[K     |███████████                     | 215kB 8.1MB/s eta 0:00:01\r\u001b[K     |███████████▍                    | 225kB 8.1MB/s eta 0:00:01\r\u001b[K     |████████████                    | 235kB 8.1MB/s eta 0:00:01\r\u001b[K     |████████████▌                   | 245kB 8.1MB/s eta 0:00:01\r\u001b[K     |█████████████                   | 256kB 8.1MB/s eta 0:00:01\r\u001b[K     |█████████████▌                  | 266kB 8.1MB/s eta 0:00:01\r\u001b[K     |██████████████                  | 276kB 8.1MB/s eta 0:00:01\r\u001b[K     |██████████████▌                 | 286kB 8.1MB/s eta 0:00:01\r\u001b[K     |███████████████                 | 296kB 8.1MB/s eta 0:00:01\r\u001b[K     |███████████████▋                | 307kB 8.1MB/s eta 0:00:01\r\u001b[K     |████████████████                | 317kB 8.1MB/s eta 0:00:01\r\u001b[K     |████████████████▋               | 327kB 8.1MB/s eta 0:00:01\r\u001b[K     |█████████████████▏              | 337kB 8.1MB/s eta 0:00:01\r\u001b[K     |█████████████████▋              | 348kB 8.1MB/s eta 0:00:01\r\u001b[K     |██████████████████▏             | 358kB 8.1MB/s eta 0:00:01\r\u001b[K     |██████████████████▊             | 368kB 8.1MB/s eta 0:00:01\r\u001b[K     |███████████████████▏            | 378kB 8.1MB/s eta 0:00:01\r\u001b[K     |███████████████████▊            | 389kB 8.1MB/s eta 0:00:01\r\u001b[K     |████████████████████▎           | 399kB 8.1MB/s eta 0:00:01\r\u001b[K     |████████████████████▊           | 409kB 8.1MB/s eta 0:00:01\r\u001b[K     |█████████████████████▎          | 419kB 8.1MB/s eta 0:00:01\r\u001b[K     |█████████████████████▉          | 430kB 8.1MB/s eta 0:00:01\r\u001b[K     |██████████████████████▎         | 440kB 8.1MB/s eta 0:00:01\r\u001b[K     |██████████████████████▉         | 450kB 8.1MB/s eta 0:00:01\r\u001b[K     |███████████████████████▍        | 460kB 8.1MB/s eta 0:00:01\r\u001b[K     |███████████████████████▉        | 471kB 8.1MB/s eta 0:00:01\r\u001b[K     |████████████████████████▍       | 481kB 8.1MB/s eta 0:00:01\r\u001b[K     |█████████████████████████       | 491kB 8.1MB/s eta 0:00:01\r\u001b[K     |█████████████████████████▍      | 501kB 8.1MB/s eta 0:00:01\r\u001b[K     |██████████████████████████      | 512kB 8.1MB/s eta 0:00:01\r\u001b[K     |██████████████████████████▌     | 522kB 8.1MB/s eta 0:00:01\r\u001b[K     |███████████████████████████     | 532kB 8.1MB/s eta 0:00:01\r\u001b[K     |███████████████████████████▌    | 542kB 8.1MB/s eta 0:00:01\r\u001b[K     |████████████████████████████    | 552kB 8.1MB/s eta 0:00:01\r\u001b[K     |████████████████████████████▌   | 563kB 8.1MB/s eta 0:00:01\r\u001b[K     |█████████████████████████████   | 573kB 8.1MB/s eta 0:00:01\r\u001b[K     |█████████████████████████████▋  | 583kB 8.1MB/s eta 0:00:01\r\u001b[K     |██████████████████████████████  | 593kB 8.1MB/s eta 0:00:01\r\u001b[K     |██████████████████████████████▋ | 604kB 8.1MB/s eta 0:00:01\r\u001b[K     |███████████████████████████████▏| 614kB 8.1MB/s eta 0:00:01\r\u001b[K     |███████████████████████████████▋| 624kB 8.1MB/s eta 0:00:01\r\u001b[K     |████████████████████████████████| 634kB 8.1MB/s \n",
            "\u001b[?25hRequirement already satisfied: opencv-python in /usr/local/lib/python3.6/dist-packages (from albumentations) (4.1.2.30)\n",
            "Requirement already satisfied: scipy in /usr/local/lib/python3.6/dist-packages (from albumentations) (1.4.1)\n",
            "Requirement already satisfied: scikit-image>=0.11.0 in /usr/local/lib/python3.6/dist-packages (from imgaug<0.2.7,>=0.2.5->albumentations) (0.16.2)\n",
            "Requirement already satisfied: six in /usr/local/lib/python3.6/dist-packages (from imgaug<0.2.7,>=0.2.5->albumentations) (1.12.0)\n",
            "Requirement already satisfied: matplotlib!=3.0.0,>=2.0.0 in /usr/local/lib/python3.6/dist-packages (from scikit-image>=0.11.0->imgaug<0.2.7,>=0.2.5->albumentations) (3.1.3)\n",
            "Requirement already satisfied: imageio>=2.3.0 in /usr/local/lib/python3.6/dist-packages (from scikit-image>=0.11.0->imgaug<0.2.7,>=0.2.5->albumentations) (2.4.1)\n",
            "Requirement already satisfied: networkx>=2.0 in /usr/local/lib/python3.6/dist-packages (from scikit-image>=0.11.0->imgaug<0.2.7,>=0.2.5->albumentations) (2.4)\n",
            "Requirement already satisfied: pillow>=4.3.0 in /usr/local/lib/python3.6/dist-packages (from scikit-image>=0.11.0->imgaug<0.2.7,>=0.2.5->albumentations) (6.2.2)\n",
            "Requirement already satisfied: PyWavelets>=0.4.0 in /usr/local/lib/python3.6/dist-packages (from scikit-image>=0.11.0->imgaug<0.2.7,>=0.2.5->albumentations) (1.1.1)\n",
            "Requirement already satisfied: pyparsing!=2.0.4,!=2.1.2,!=2.1.6,>=2.0.1 in /usr/local/lib/python3.6/dist-packages (from matplotlib!=3.0.0,>=2.0.0->scikit-image>=0.11.0->imgaug<0.2.7,>=0.2.5->albumentations) (2.4.6)\n",
            "Requirement already satisfied: python-dateutil>=2.1 in /usr/local/lib/python3.6/dist-packages (from matplotlib!=3.0.0,>=2.0.0->scikit-image>=0.11.0->imgaug<0.2.7,>=0.2.5->albumentations) (2.6.1)\n",
            "Requirement already satisfied: kiwisolver>=1.0.1 in /usr/local/lib/python3.6/dist-packages (from matplotlib!=3.0.0,>=2.0.0->scikit-image>=0.11.0->imgaug<0.2.7,>=0.2.5->albumentations) (1.1.0)\n",
            "Requirement already satisfied: cycler>=0.10 in /usr/local/lib/python3.6/dist-packages (from matplotlib!=3.0.0,>=2.0.0->scikit-image>=0.11.0->imgaug<0.2.7,>=0.2.5->albumentations) (0.10.0)\n",
            "Requirement already satisfied: decorator>=4.3.0 in /usr/local/lib/python3.6/dist-packages (from networkx>=2.0->scikit-image>=0.11.0->imgaug<0.2.7,>=0.2.5->albumentations) (4.4.1)\n",
            "Requirement already satisfied: setuptools in /usr/local/lib/python3.6/dist-packages (from kiwisolver>=1.0.1->matplotlib!=3.0.0,>=2.0.0->scikit-image>=0.11.0->imgaug<0.2.7,>=0.2.5->albumentations) (45.2.0)\n",
            "Building wheels for collected packages: imgaug\n",
            "  Building wheel for imgaug (setup.py) ... \u001b[?25l\u001b[?25hdone\n",
            "  Created wheel for imgaug: filename=imgaug-0.2.6-cp36-none-any.whl size=654020 sha256=9415c56bc703de23fc81cad713f3e53deb46ecee2c724b173c038b56b7a1c322\n",
            "  Stored in directory: /root/.cache/pip/wheels/97/ec/48/0d25896c417b715af6236dbcef8f0bed136a1a5e52972fc6d0\n",
            "Successfully built imgaug\n",
            "Installing collected packages: imgaug\n",
            "  Found existing installation: imgaug 0.2.9\n",
            "    Uninstalling imgaug-0.2.9:\n",
            "      Successfully uninstalled imgaug-0.2.9\n",
            "Successfully installed imgaug-0.2.6\n"
          ],
          "name": "stdout"
        },
        {
          "output_type": "display_data",
          "data": {
            "application/vnd.colab-display-data+json": {
              "pip_warning": {
                "packages": [
                  "imgaug"
                ]
              }
            }
          },
          "metadata": {
            "tags": []
          }
        }
      ]
    },
    {
      "cell_type": "code",
      "metadata": {
        "id": "MOJImFEc3YO2",
        "colab_type": "code",
        "colab": {
          "base_uri": "https://localhost:8080/",
          "height": 205
        },
        "outputId": "edf98e84-01da-4128-e05b-dd106c3d7021"
      },
      "source": [
        "transform_train, transform_test = transformations()"
      ],
      "execution_count": 10,
      "outputs": [
        {
          "output_type": "stream",
          "text": [
            "[autoreload of imgaug.parameters failed: Traceback (most recent call last):\n",
            "  File \"/usr/local/lib/python3.6/dist-packages/IPython/extensions/autoreload.py\", line 247, in check\n",
            "    superreload(m, reload, self.old_objects)\n",
            "ValueError: __init__() requires a code object with 1 free vars, not 0\n",
            "]\n",
            "[autoreload of imgaug.augmenters.color failed: Traceback (most recent call last):\n",
            "  File \"/usr/local/lib/python3.6/dist-packages/IPython/extensions/autoreload.py\", line 247, in check\n",
            "    superreload(m, reload, self.old_objects)\n",
            "ValueError: InColorspace() requires a code object with 3 free vars, not 0\n",
            "]\n"
          ],
          "name": "stderr"
        }
      ]
    },
    {
      "cell_type": "markdown",
      "metadata": {
        "id": "uso5HfFp3iQ5",
        "colab_type": "text"
      },
      "source": [
        "###  7. Load Dataset"
      ]
    },
    {
      "cell_type": "code",
      "metadata": {
        "id": "CNK1p6sk3oZX",
        "colab_type": "code",
        "outputId": "cac911ce-0a0a-43e1-d097-98e9e613b480",
        "colab": {
          "base_uri": "https://localhost:8080/",
          "height": 67
        }
      },
      "source": [
        "trainset, trainloader, testset, testloader = loadcifar10dataset(transform_train, transform_test)\n",
        "print(trainloader)"
      ],
      "execution_count": 11,
      "outputs": [
        {
          "output_type": "stream",
          "text": [
            "Files already downloaded and verified\n",
            "Files already downloaded and verified\n",
            "<torch.utils.data.dataloader.DataLoader object at 0x7f9d3b0032b0>\n"
          ],
          "name": "stdout"
        }
      ]
    },
    {
      "cell_type": "markdown",
      "metadata": {
        "id": "RlrYDL2_xEiz",
        "colab_type": "text"
      },
      "source": [
        "###  8. Load Classes"
      ]
    },
    {
      "cell_type": "code",
      "metadata": {
        "id": "4LiQgSYO30gf",
        "colab_type": "code",
        "outputId": "874b31e9-d131-442a-f938-e89bced4368a",
        "colab": {
          "base_uri": "https://localhost:8080/",
          "height": 34
        }
      },
      "source": [
        "classes = getclasses()\n",
        "print(classes)"
      ],
      "execution_count": 12,
      "outputs": [
        {
          "output_type": "stream",
          "text": [
            "('plane', 'car', 'bird', 'cat', 'deer', 'dog', 'frog', 'horse', 'ship', 'truck')\n"
          ],
          "name": "stdout"
        }
      ]
    },
    {
      "cell_type": "markdown",
      "metadata": {
        "id": "YUYcV4I137Wf",
        "colab_type": "text"
      },
      "source": [
        "### 9. Display sample images"
      ]
    },
    {
      "cell_type": "code",
      "metadata": {
        "id": "oBXRNlu14E0g",
        "colab_type": "code",
        "outputId": "568c4b60-368a-47a4-d542-6d021c393bfb",
        "colab": {
          "base_uri": "https://localhost:8080/",
          "height": 322
        }
      },
      "source": [
        "display(4, trainloader, classes)"
      ],
      "execution_count": 13,
      "outputs": [
        {
          "output_type": "stream",
          "text": [
            "Clipping input data to the valid range for imshow with RGB data ([0..1] for floats or [0..255] for integers).\n"
          ],
          "name": "stderr"
        },
        {
          "output_type": "stream",
          "text": [
            "horse   car  bird   dog\n"
          ],
          "name": "stdout"
        },
        {
          "output_type": "display_data",
          "data": {
            "image/png": "[encoded data removed]",
            "text/plain": [
              "<Figure size 432x288 with 1 Axes>"
            ]
          },
          "metadata": {
            "tags": []
          }
        }
      ]
    },
    {
      "cell_type": "markdown",
      "metadata": {
        "id": "CUzQmcOr4Ui_",
        "colab_type": "text"
      },
      "source": [
        "### 10. Load Resnet18 Model\n"
      ]
    },
    {
      "cell_type": "code",
      "metadata": {
        "id": "auPmRERP4d1J",
        "colab_type": "code",
        "outputId": "8d1e6a64-b37f-41f3-c148-cebca504a47b",
        "colab": {
          "base_uri": "https://localhost:8080/",
          "height": 34
        }
      },
      "source": [
        "print(\"Building Model\")\n",
        "net = resnet18()"
      ],
      "execution_count": 14,
      "outputs": [
        {
          "output_type": "stream",
          "text": [
            "Building Model\n"
          ],
          "name": "stdout"
        }
      ]
    },
    {
      "cell_type": "code",
      "metadata": {
        "id": "iZ1XA3Vm6jDq",
        "colab_type": "code",
        "outputId": "f8baea4c-8652-4cce-be89-45f5cb93c2ee",
        "colab": {
          "base_uri": "https://localhost:8080/",
          "height": 1000
        }
      },
      "source": [
        "# Display Model Summary\n",
        "!pip install torchsummary\n",
        "from torchsummary import summary\n",
        "\n",
        "model = net.to(device)\n",
        "summary(model, input_size=(3, 32, 32))"
      ],
      "execution_count": 15,
      "outputs": [
        {
          "output_type": "stream",
          "text": [
            "Requirement already satisfied: torchsummary in /usr/local/lib/python3.6/dist-packages (1.5.1)\n",
            "----------------------------------------------------------------\n",
            "        Layer (type)               Output Shape         Param #\n",
            "================================================================\n",
            "            Conv2d-1           [-1, 64, 32, 32]           1,728\n",
            "       BatchNorm2d-2           [-1, 64, 32, 32]             128\n",
            "            Conv2d-3           [-1, 64, 32, 32]          36,864\n",
            "       BatchNorm2d-4           [-1, 64, 32, 32]             128\n",
            "            Conv2d-5           [-1, 64, 32, 32]          36,864\n",
            "       BatchNorm2d-6           [-1, 64, 32, 32]             128\n",
            "        BasicBlock-7           [-1, 64, 32, 32]               0\n",
            "            Conv2d-8           [-1, 64, 32, 32]          36,864\n",
            "       BatchNorm2d-9           [-1, 64, 32, 32]             128\n",
            "           Conv2d-10           [-1, 64, 32, 32]          36,864\n",
            "      BatchNorm2d-11           [-1, 64, 32, 32]             128\n",
            "       BasicBlock-12           [-1, 64, 32, 32]               0\n",
            "           Conv2d-13          [-1, 128, 16, 16]          73,728\n",
            "      BatchNorm2d-14          [-1, 128, 16, 16]             256\n",
            "           Conv2d-15          [-1, 128, 16, 16]         147,456\n",
            "      BatchNorm2d-16          [-1, 128, 16, 16]             256\n",
            "           Conv2d-17          [-1, 128, 16, 16]           8,192\n",
            "      BatchNorm2d-18          [-1, 128, 16, 16]             256\n",
            "       BasicBlock-19          [-1, 128, 16, 16]               0\n",
            "           Conv2d-20          [-1, 128, 16, 16]         147,456\n",
            "      BatchNorm2d-21          [-1, 128, 16, 16]             256\n",
            "           Conv2d-22          [-1, 128, 16, 16]         147,456\n",
            "      BatchNorm2d-23          [-1, 128, 16, 16]             256\n",
            "       BasicBlock-24          [-1, 128, 16, 16]               0\n",
            "           Conv2d-25            [-1, 256, 8, 8]         294,912\n",
            "      BatchNorm2d-26            [-1, 256, 8, 8]             512\n",
            "           Conv2d-27            [-1, 256, 8, 8]         589,824\n",
            "      BatchNorm2d-28            [-1, 256, 8, 8]             512\n",
            "           Conv2d-29            [-1, 256, 8, 8]          32,768\n",
            "      BatchNorm2d-30            [-1, 256, 8, 8]             512\n",
            "       BasicBlock-31            [-1, 256, 8, 8]               0\n",
            "           Conv2d-32            [-1, 256, 8, 8]         589,824\n",
            "      BatchNorm2d-33            [-1, 256, 8, 8]             512\n",
            "           Conv2d-34            [-1, 256, 8, 8]         589,824\n",
            "      BatchNorm2d-35            [-1, 256, 8, 8]             512\n",
            "       BasicBlock-36            [-1, 256, 8, 8]               0\n",
            "           Conv2d-37            [-1, 512, 4, 4]       1,179,648\n",
            "      BatchNorm2d-38            [-1, 512, 4, 4]           1,024\n",
            "           Conv2d-39            [-1, 512, 4, 4]       2,359,296\n",
            "      BatchNorm2d-40            [-1, 512, 4, 4]           1,024\n",
            "           Conv2d-41            [-1, 512, 4, 4]         131,072\n",
            "      BatchNorm2d-42            [-1, 512, 4, 4]           1,024\n",
            "       BasicBlock-43            [-1, 512, 4, 4]               0\n",
            "           Conv2d-44            [-1, 512, 4, 4]       2,359,296\n",
            "      BatchNorm2d-45            [-1, 512, 4, 4]           1,024\n",
            "           Conv2d-46            [-1, 512, 4, 4]       2,359,296\n",
            "      BatchNorm2d-47            [-1, 512, 4, 4]           1,024\n",
            "       BasicBlock-48            [-1, 512, 4, 4]               0\n",
            "           Linear-49                   [-1, 10]           5,130\n",
            "================================================================\n",
            "Total params: 11,173,962\n",
            "Trainable params: 11,173,962\n",
            "Non-trainable params: 0\n",
            "----------------------------------------------------------------\n",
            "Input size (MB): 0.01\n",
            "Forward/backward pass size (MB): 11.25\n",
            "Params size (MB): 42.63\n",
            "Estimated Total Size (MB): 53.89\n",
            "----------------------------------------------------------------\n"
          ],
          "name": "stdout"
        }
      ]
    },
    {
      "cell_type": "markdown",
      "metadata": {
        "id": "jddcsjNZ9mlq",
        "colab_type": "text"
      },
      "source": [
        "### 11. Define loss function and optimizer\n"
      ]
    },
    {
      "cell_type": "code",
      "metadata": {
        "id": "_zZ539Vx9tcJ",
        "colab_type": "code",
        "colab": {}
      },
      "source": [
        "criterion = nn.CrossEntropyLoss()\n",
        "optimizer = getoptimizer(net)"
      ],
      "execution_count": 0,
      "outputs": []
    },
    {
      "cell_type": "markdown",
      "metadata": {
        "id": "GD_6sHrs-DWj",
        "colab_type": "text"
      },
      "source": [
        "### 12. Run Train and Test"
      ]
    },
    {
      "cell_type": "code",
      "metadata": {
        "id": "EHGIiWEF-RMP",
        "colab_type": "code",
        "outputId": "40e67353-5aeb-4d0c-dbda-e29b27a3c3b3",
        "colab": {
          "base_uri": "https://localhost:8080/",
          "height": 1000
        }
      },
      "source": [
        "for epoch in range(30):\n",
        "    train(net, trainloader, device, optimizer, criterion, epoch)\n",
        "    test(net, testloader, device, criterion, epoch)\n",
        "\n",
        "print(\"Training completed\")"
      ],
      "execution_count": 17,
      "outputs": [
        {
          "output_type": "stream",
          "text": [
            "\n",
            "Epoch: 0\n",
            " [================================================================>]  Step: 49ms | Tot: 30s642ms | Train >> Loss: 1.493 | Acc: 45.142% (22571/50000) 391/391 \n",
            " [================================================================>]  Step: 15ms | Tot: 2s572ms | Test >> Loss: 1.384 | Acc: 50.580% (5058/10000) 79/79 \n",
            "\n",
            "Epoch: 1\n",
            " [================================================================>]  Step: 45ms | Tot: 30s511ms | Train >> Loss: 0.995 | Acc: 64.276% (32138/50000) 391/391 \n",
            " [================================================================>]  Step: 11ms | Tot: 2s600ms | Test >> Loss: 0.973 | Acc: 65.240% (6524/10000) 79/79 \n",
            "\n",
            "Epoch: 2\n",
            " [================================================================>]  Step: 49ms | Tot: 30s515ms | Train >> Loss: 0.758 | Acc: 73.214% (36607/50000) 391/391 \n",
            " [================================================================>]  Step: 12ms | Tot: 2s554ms | Test >> Loss: 0.890 | Acc: 68.760% (6876/10000) 79/79 \n",
            "\n",
            "Epoch: 3\n",
            " [================================================================>]  Step: 49ms | Tot: 30s305ms | Train >> Loss: 0.579 | Acc: 79.814% (39907/50000) 391/391 \n",
            " [================================================================>]  Step: 11ms | Tot: 2s448ms | Test >> Loss: 0.837 | Acc: 71.080% (7108/10000) 79/79 \n",
            "\n",
            "Epoch: 4\n",
            " [================================================================>]  Step: 49ms | Tot: 30s502ms | Train >> Loss: 0.409 | Acc: 86.246% (43123/50000) 391/391 \n",
            " [================================================================>]  Step: 9ms | Tot: 2s546ms | Test >> Loss: 0.952 | Acc: 69.330% (6933/10000) 79/79 \n",
            "\n",
            "Epoch: 5\n",
            " [================================================================>]  Step: 57ms | Tot: 30s407ms | Train >> Loss: 0.258 | Acc: 91.666% (45833/50000) 391/391 \n",
            " [================================================================>]  Step: 11ms | Tot: 2s491ms | Test >> Loss: 1.011 | Acc: 70.130% (7013/10000) 79/79 \n",
            "\n",
            "Epoch: 6\n",
            " [================================================================>]  Step: 48ms | Tot: 30s314ms | Train >> Loss: 0.136 | Acc: 96.134% (48067/50000) 391/391 \n",
            " [================================================================>]  Step: 10ms | Tot: 2s547ms | Test >> Loss: 1.002 | Acc: 71.080% (7108/10000) 79/79 \n",
            "\n",
            "Epoch: 7\n",
            " [================================================================>]  Step: 46ms | Tot: 30s240ms | Train >> Loss: 0.064 | Acc: 98.454% (49227/50000) 391/391 \n",
            " [================================================================>]  Step: 8ms | Tot: 2s502ms | Test >> Loss: 0.985 | Acc: 74.190% (7419/10000) 79/79 \n",
            "\n",
            "Epoch: 8\n",
            " [================================================================>]  Step: 48ms | Tot: 30s176ms | Train >> Loss: 0.026 | Acc: 99.546% (49773/50000) 391/391 \n",
            " [================================================================>]  Step: 11ms | Tot: 2s527ms | Test >> Loss: 1.015 | Acc: 74.870% (7487/10000) 79/79 \n",
            "\n",
            "Epoch: 9\n",
            " [================================================================>]  Step: 47ms | Tot: 30s446ms | Train >> Loss: 0.010 | Acc: 99.946% (49973/50000) 391/391 \n",
            " [================================================================>]  Step: 10ms | Tot: 2s557ms | Test >> Loss: 0.979 | Acc: 75.640% (7564/10000) 79/79 \n",
            "\n",
            "Epoch: 10\n",
            " [================================================================>]  Step: 48ms | Tot: 30s193ms | Train >> Loss: 0.004 | Acc: 99.994% (49997/50000) 391/391 \n",
            " [================================================================>]  Step: 9ms | Tot: 2s438ms | Test >> Loss: 0.960 | Acc: 76.020% (7602/10000) 79/79 \n",
            "\n",
            "Epoch: 11\n",
            " [================================================================>]  Step: 48ms | Tot: 30s302ms | Train >> Loss: 0.002 | Acc: 100.000% (50000/50000) 391/391 \n",
            " [================================================================>]  Step: 11ms | Tot: 2s417ms | Test >> Loss: 0.970 | Acc: 76.050% (7605/10000) 79/79 \n",
            "\n",
            "Epoch: 12\n",
            " [================================================================>]  Step: 51ms | Tot: 30s297ms | Train >> Loss: 0.002 | Acc: 99.998% (49999/50000) 391/391 \n",
            " [================================================================>]  Step: 11ms | Tot: 2s509ms | Test >> Loss: 0.964 | Acc: 76.300% (7630/10000) 79/79 \n",
            "\n",
            "Epoch: 13\n",
            " [================================================================>]  Step: 47ms | Tot: 30s333ms | Train >> Loss: 0.002 | Acc: 100.000% (50000/50000) 391/391 \n",
            " [================================================================>]  Step: 11ms | Tot: 2s502ms | Test >> Loss: 0.984 | Acc: 76.100% (7610/10000) 79/79 \n",
            "\n",
            "Epoch: 14\n",
            " [================================================================>]  Step: 47ms | Tot: 30s447ms | Train >> Loss: 0.001 | Acc: 100.000% (50000/50000) 391/391 \n",
            " [================================================================>]  Step: 9ms | Tot: 2s612ms | Test >> Loss: 0.990 | Acc: 76.440% (7644/10000) 79/79 \n",
            "\n",
            "Epoch: 15\n",
            " [================================================================>]  Step: 50ms | Tot: 30s663ms | Train >> Loss: 0.001 | Acc: 100.000% (50000/50000) 391/391 \n",
            " [================================================================>]  Step: 11ms | Tot: 2s544ms | Test >> Loss: 0.989 | Acc: 76.280% (7628/10000) 79/79 \n",
            "\n",
            "Epoch: 16\n",
            " [================================================================>]  Step: 49ms | Tot: 30s484ms | Train >> Loss: 0.001 | Acc: 100.000% (50000/50000) 391/391 \n",
            " [================================================================>]  Step: 11ms | Tot: 2s587ms | Test >> Loss: 0.995 | Acc: 76.340% (7634/10000) 79/79 \n",
            "\n",
            "Epoch: 17\n",
            " [================================================================>]  Step: 48ms | Tot: 30s449ms | Train >> Loss: 0.001 | Acc: 100.000% (50000/50000) 391/391 \n",
            " [================================================================>]  Step: 16ms | Tot: 2s583ms | Test >> Loss: 1.004 | Acc: 76.130% (7613/10000) 79/79 \n",
            "\n",
            "Epoch: 18\n",
            " [================================================================>]  Step: 48ms | Tot: 30s563ms | Train >> Loss: 0.001 | Acc: 100.000% (50000/50000) 391/391 \n",
            " [================================================================>]  Step: 13ms | Tot: 2s612ms | Test >> Loss: 1.012 | Acc: 76.280% (7628/10000) 79/79 \n",
            "\n",
            "Epoch: 19\n",
            " [================================================================>]  Step: 47ms | Tot: 30s394ms | Train >> Loss: 0.001 | Acc: 100.000% (50000/50000) 391/391 \n",
            " [================================================================>]  Step: 9ms | Tot: 2s590ms | Test >> Loss: 1.016 | Acc: 76.170% (7617/10000) 79/79 \n",
            "\n",
            "Epoch: 20\n",
            " [================================================================>]  Step: 50ms | Tot: 30s403ms | Train >> Loss: 0.001 | Acc: 100.000% (50000/50000) 391/391 \n",
            " [================================================================>]  Step: 9ms | Tot: 2s538ms | Test >> Loss: 1.016 | Acc: 76.290% (7629/10000) 79/79 \n",
            "\n",
            "Epoch: 21\n",
            " [================================================================>]  Step: 49ms | Tot: 30s617ms | Train >> Loss: 0.001 | Acc: 100.000% (50000/50000) 391/391 \n",
            " [================================================================>]  Step: 9ms | Tot: 2s609ms | Test >> Loss: 1.016 | Acc: 76.350% (7635/10000) 79/79 \n",
            "\n",
            "Epoch: 22\n",
            " [================================================================>]  Step: 46ms | Tot: 30s538ms | Train >> Loss: 0.001 | Acc: 100.000% (50000/50000) 391/391 \n",
            " [================================================================>]  Step: 10ms | Tot: 2s507ms | Test >> Loss: 1.025 | Acc: 76.410% (7641/10000) 79/79 \n",
            "\n",
            "Epoch: 23\n",
            " [================================================================>]  Step: 47ms | Tot: 30s357ms | Train >> Loss: 0.001 | Acc: 100.000% (50000/50000) 391/391 \n",
            " [================================================================>]  Step: 9ms | Tot: 2s575ms | Test >> Loss: 1.028 | Acc: 76.190% (7619/10000) 79/79 \n",
            "\n",
            "Epoch: 24\n",
            " [================================================================>]  Step: 48ms | Tot: 30s13ms | Train >> Loss: 0.001 | Acc: 100.000% (50000/50000) 391/391 \n",
            " [================================================================>]  Step: 8ms | Tot: 2s570ms | Test >> Loss: 1.033 | Acc: 76.260% (7626/10000) 79/79 \n",
            "\n",
            "Epoch: 25\n",
            " [================================================================>]  Step: 47ms | Tot: 30s233ms | Train >> Loss: 0.001 | Acc: 100.000% (50000/50000) 391/391 \n",
            " [================================================================>]  Step: 10ms | Tot: 2s465ms | Test >> Loss: 1.034 | Acc: 76.220% (7622/10000) 79/79 \n",
            "\n",
            "Epoch: 26\n",
            " [================================================================>]  Step: 46ms | Tot: 29s941ms | Train >> Loss: 0.001 | Acc: 100.000% (50000/50000) 391/391 \n",
            " [================================================================>]  Step: 11ms | Tot: 2s553ms | Test >> Loss: 1.038 | Acc: 76.190% (7619/10000) 79/79 \n",
            "\n",
            "Epoch: 27\n",
            " [================================================================>]  Step: 49ms | Tot: 30s155ms | Train >> Loss: 0.000 | Acc: 100.000% (50000/50000) 391/391 \n",
            " [================================================================>]  Step: 10ms | Tot: 2s600ms | Test >> Loss: 1.043 | Acc: 76.190% (7619/10000) 79/79 \n",
            "\n",
            "Epoch: 28\n",
            " [================================================================>]  Step: 49ms | Tot: 30s247ms | Train >> Loss: 0.000 | Acc: 100.000% (50000/50000) 391/391 \n",
            " [================================================================>]  Step: 12ms | Tot: 2s548ms | Test >> Loss: 1.045 | Acc: 76.140% (7614/10000) 79/79 \n",
            "\n",
            "Epoch: 29\n",
            " [================================================================>]  Step: 48ms | Tot: 30s64ms | Train >> Loss: 0.000 | Acc: 100.000% (50000/50000) 391/391 \n",
            " [================================================================>]  Step: 9ms | Tot: 2s507ms | Test >> Loss: 1.053 | Acc: 76.130% (7613/10000) 79/79 \n",
            "Training completed\n"
          ],
          "name": "stdout"
        }
      ]
    },
    {
      "cell_type": "markdown",
      "metadata": {
        "id": "yOkTOMpsoVSF",
        "colab_type": "text"
      },
      "source": [
        "### 13. Grad-CAM\n"
      ]
    },
    {
      "cell_type": "code",
      "metadata": {
        "id": "tISKuLW3Z_6d",
        "colab_type": "code",
        "colab": {
          "base_uri": "https://localhost:8080/",
          "height": 137
        },
        "outputId": "8cfee0b1-9ed4-4057-eaf5-7b25a4fb605c"
      },
      "source": [
        "# Load Image\n",
        "imagename = 'dog.jpg'\n",
        "pil_img = loadimage('/content/drive/My Drive/eva-4/assignment-9/sampleimages', imagename)\n",
        "pil_img"
      ],
      "execution_count": 18,
      "outputs": [
        {
          "output_type": "execute_result",
          "data": {
            "image/png": "[encoded data removed]",
            "text/plain": [
              "<PIL.JpegImagePlugin.JpegImageFile image mode=RGB size=158x120 at 0x7F9D35517E80>"
            ]
          },
          "metadata": {
            "tags": []
          },
          "execution_count": 18
        }
      ]
    },
    {
      "cell_type": "code",
      "metadata": {
        "id": "rACdr8NJOiEL",
        "colab_type": "code",
        "colab": {
          "base_uri": "https://localhost:8080/",
          "height": 70
        },
        "outputId": "19c1c083-1aa9-4856-c0c9-896cfcc98262"
      },
      "source": [
        "normalizer = Normalize(mean=[0.485, 0.456, 0.406], std=[0.229, 0.224, 0.225])\n",
        "torch_img = torch.from_numpy(np.asarray(pil_img)).permute(2, 0, 1).unsqueeze(0).float().div(255).cuda()\n",
        "torch_img = F.upsample(torch_img, size=(32, 32), mode='bilinear', align_corners=False)\n",
        "normed_torch_img = normalizer(torch_img)"
      ],
      "execution_count": 25,
      "outputs": [
        {
          "output_type": "stream",
          "text": [
            "/usr/local/lib/python3.6/dist-packages/torch/nn/functional.py:2416: UserWarning: nn.functional.upsample is deprecated. Use nn.functional.interpolate instead.\n",
            "  warnings.warn(\"nn.functional.upsample is deprecated. Use nn.functional.interpolate instead.\")\n"
          ],
          "name": "stderr"
        }
      ]
    },
    {
      "cell_type": "code",
      "metadata": {
        "id": "yMoMHm0rsWY0",
        "colab_type": "code",
        "colab": {
          "base_uri": "https://localhost:8080/",
          "height": 34
        },
        "outputId": "04062690-2207-4637-b9be-77d45d76a270"
      },
      "source": [
        "resnet = model\n",
        "resnet.eval(), resnet.cuda();\n",
        "model_dict = dict(type='resnet', arch=resnet, layer_name='layer4', input_size=(32, 32))\n",
        "gradcam = GradCAM(model_dict, True)\n",
        "gradcampp = GradCAMpp(model_dict)"
      ],
      "execution_count": 29,
      "outputs": [
        {
          "output_type": "stream",
          "text": [
            "saliency_map size : torch.Size([4, 4])\n"
          ],
          "name": "stdout"
        }
      ]
    },
    {
      "cell_type": "code",
      "metadata": {
        "id": "Q7sYdcrjazc7",
        "colab_type": "code",
        "colab": {
          "base_uri": "https://localhost:8080/",
          "height": 70
        },
        "outputId": "d6d4abd1-8c59-4877-c5f3-7ef4cdcddc3e"
      },
      "source": [
        "mask, _ = gradcam(normed_torch_img)\n",
        "heatmap, result = visualize_cam(mask.cpu(), torch_img.cpu())\n",
        "\n",
        "mask_pp, _ = gradcampp(normed_torch_img)\n",
        "heatmap_pp, result_pp = visualize_cam(mask_pp.cpu(), torch_img.squeeze().cpu())"
      ],
      "execution_count": 32,
      "outputs": [
        {
          "output_type": "stream",
          "text": [
            "/usr/local/lib/python3.6/dist-packages/torch/nn/functional.py:2416: UserWarning: nn.functional.upsample is deprecated. Use nn.functional.interpolate instead.\n",
            "  warnings.warn(\"nn.functional.upsample is deprecated. Use nn.functional.interpolate instead.\")\n"
          ],
          "name": "stderr"
        }
      ]
    },
    {
      "cell_type": "code",
      "metadata": {
        "id": "uD2toOzFiKT6",
        "colab_type": "code",
        "colab": {}
      },
      "source": [
        "imgs = []\n",
        "imgs.append(torch.stack([torch_img.squeeze().cpu(), heatmap, heatmap_pp, result, result_pp], 0))\n",
        "imgs = make_grid(torch.cat(imgs, 0), nrow=5)"
      ],
      "execution_count": 0,
      "outputs": []
    },
    {
      "cell_type": "code",
      "metadata": {
        "id": "9a1_TkU-ihIY",
        "colab_type": "code",
        "colab": {
          "base_uri": "https://localhost:8080/",
          "height": 53
        },
        "outputId": "91fb806d-2ee0-4d90-c387-3674373fd678"
      },
      "source": [
        "pilimg = saveimage(imgs, '/content/drive/My Drive/eva-4/assignment-9/outputs', imagename)\n",
        "pilimg"
      ],
      "execution_count": 38,
      "outputs": [
        {
          "output_type": "execute_result",
          "data": {
            "image/png": "[encoded data removed]",
            "text/plain": [
              "<PIL.JpegImagePlugin.JpegImageFile image mode=RGB size=172x36 at 0x7F9D3684C4A8>"
            ]
          },
          "metadata": {
            "tags": []
          },
          "execution_count": 38
        }
      ]
    },
    {
      "cell_type": "markdown",
      "metadata": {
        "id": "mmvSUlfTa1j9",
        "colab_type": "text"
      },
      "source": [
        "### 14. Analysis\n",
        "- No of Epochs : 30\n",
        "- Best Train Acc: 95.856%\n",
        "- Best Test  Acc: 91.110%\n",
        "- No Model changes in Resnet18\n",
        "- Extra things done\n",
        "  - Normalization: \n",
        "    - transforms.Normalize((0.4914, 0.4822, 0.4465), (0.2023, 0.1994, 0.2010))\n",
        "  - Image augmentation\n",
        "    - Train\n",
        "      - RandomCrop\n",
        "      - RandomHorizontalFlip\n",
        "    - Test\n",
        "      - Nothing\n",
        "- Overfitting \n",
        "  - Calculation: (100 - 91.110) + 95.856 = 104.746 --> No overfitting\n",
        "  - Difference : 95.856 - 91.110 = 4.746 --> Less -> No overfitting\n",
        "- Train and test acc were converging till epoch 7 and started to diverge post that.\n",
        "- There has been a continous increase in train accuracy\n",
        "- Test accuracy is fluctuating\n",
        "- Gap between train and test acc is 4.7 in last epoch which is reasonable\n",
        "- The model has capacity to be trained further but accuracy gains won't be too much."
      ]
    }
  ]
}